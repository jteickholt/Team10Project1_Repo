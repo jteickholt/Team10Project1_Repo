{
 "cells": [
  {
   "cell_type": "code",
   "execution_count": 54,
   "metadata": {},
   "outputs": [],
   "source": [
    "import pandas as pd\n",
    "import numpy as np\n",
    "import scipy.stats as sp\n",
    "import matplotlib.pyplot as plt\n",
    "import os"
   ]
  },
  {
   "cell_type": "code",
   "execution_count": 55,
   "metadata": {},
   "outputs": [],
   "source": [
    "#Create path using OS module for opening files.\n",
    "path = os.path.join('..', 'cleandata', 'EconomicallyDisadvantagedGrade3.csv')\n",
    "ED3_df = pd.read_csv(path, delimiter=',')"
   ]
  },
  {
   "cell_type": "code",
   "execution_count": 56,
   "metadata": {},
   "outputs": [
    {
     "data": {
      "text/html": [
       "<div>\n",
       "<style scoped>\n",
       "    .dataframe tbody tr th:only-of-type {\n",
       "        vertical-align: middle;\n",
       "    }\n",
       "\n",
       "    .dataframe tbody tr th {\n",
       "        vertical-align: top;\n",
       "    }\n",
       "\n",
       "    .dataframe thead th {\n",
       "        text-align: right;\n",
       "    }\n",
       "</style>\n",
       "<table border=\"1\" class=\"dataframe\">\n",
       "  <thead>\n",
       "    <tr style=\"text-align: right;\">\n",
       "      <th></th>\n",
       "      <th>CAMPUS</th>\n",
       "      <th>DNAME</th>\n",
       "      <th>CNAME</th>\n",
       "      <th>GRADE</th>\n",
       "      <th>District Type</th>\n",
       "      <th>School Site Street Address</th>\n",
       "      <th>School Site City</th>\n",
       "      <th>School Site Zip</th>\n",
       "      <th>Below Grade Level ED_Yes</th>\n",
       "      <th>Below Grade Level ED_No</th>\n",
       "      <th>Approach Grade Level ED_Yes</th>\n",
       "      <th>Approach Grade Level ED_No</th>\n",
       "      <th>Meets Grade Level ED_Yes</th>\n",
       "      <th>Meets Grade Level ED_No</th>\n",
       "      <th>Master Grade Level ED_Yes</th>\n",
       "      <th>Master Grade Level ED_No</th>\n",
       "    </tr>\n",
       "  </thead>\n",
       "  <tbody>\n",
       "    <tr>\n",
       "      <th>0</th>\n",
       "      <td>1902103</td>\n",
       "      <td>CAYUGA ISD</td>\n",
       "      <td>CAYUGA ELEM.</td>\n",
       "      <td>3</td>\n",
       "      <td>INDEPENDENT</td>\n",
       "      <td>17750 N US HWY 287</td>\n",
       "      <td>TENNESSEE COLONY</td>\n",
       "      <td>75861</td>\n",
       "      <td>6.0</td>\n",
       "      <td>0.0</td>\n",
       "      <td>17.0</td>\n",
       "      <td>23.0</td>\n",
       "      <td>15.0</td>\n",
       "      <td>23.0</td>\n",
       "      <td>7.0</td>\n",
       "      <td>20.0</td>\n",
       "    </tr>\n",
       "    <tr>\n",
       "      <th>1</th>\n",
       "      <td>1903102</td>\n",
       "      <td>ELKHART ISD</td>\n",
       "      <td>ELKHART INTERME</td>\n",
       "      <td>3</td>\n",
       "      <td>INDEPENDENT</td>\n",
       "      <td>301 E PARKER ST</td>\n",
       "      <td>ELKHART</td>\n",
       "      <td>75839-9701</td>\n",
       "      <td>21.0</td>\n",
       "      <td>5.0</td>\n",
       "      <td>34.0</td>\n",
       "      <td>34.0</td>\n",
       "      <td>11.0</td>\n",
       "      <td>26.0</td>\n",
       "      <td>3.0</td>\n",
       "      <td>9.0</td>\n",
       "    </tr>\n",
       "    <tr>\n",
       "      <th>2</th>\n",
       "      <td>1904102</td>\n",
       "      <td>FRANKSTON ISD</td>\n",
       "      <td>FRANKSTON ELEM.</td>\n",
       "      <td>3</td>\n",
       "      <td>INDEPENDENT</td>\n",
       "      <td>100 PERRY ST</td>\n",
       "      <td>FRANKSTON</td>\n",
       "      <td>75763-0428</td>\n",
       "      <td>12.0</td>\n",
       "      <td>4.0</td>\n",
       "      <td>22.0</td>\n",
       "      <td>17.0</td>\n",
       "      <td>14.0</td>\n",
       "      <td>12.0</td>\n",
       "      <td>4.0</td>\n",
       "      <td>6.0</td>\n",
       "    </tr>\n",
       "  </tbody>\n",
       "</table>\n",
       "</div>"
      ],
      "text/plain": [
       "    CAMPUS          DNAME            CNAME  GRADE District Type  \\\n",
       "0  1902103     CAYUGA ISD     CAYUGA ELEM.      3   INDEPENDENT   \n",
       "1  1903102    ELKHART ISD  ELKHART INTERME      3   INDEPENDENT   \n",
       "2  1904102  FRANKSTON ISD  FRANKSTON ELEM.      3   INDEPENDENT   \n",
       "\n",
       "  School Site Street Address  School Site City School Site Zip  \\\n",
       "0         17750 N US HWY 287  TENNESSEE COLONY           75861   \n",
       "1            301 E PARKER ST           ELKHART      75839-9701   \n",
       "2               100 PERRY ST         FRANKSTON      75763-0428   \n",
       "\n",
       "   Below Grade Level ED_Yes  Below Grade Level ED_No  \\\n",
       "0                       6.0                      0.0   \n",
       "1                      21.0                      5.0   \n",
       "2                      12.0                      4.0   \n",
       "\n",
       "   Approach Grade Level ED_Yes  Approach Grade Level ED_No  \\\n",
       "0                         17.0                        23.0   \n",
       "1                         34.0                        34.0   \n",
       "2                         22.0                        17.0   \n",
       "\n",
       "   Meets Grade Level ED_Yes  Meets Grade Level ED_No  \\\n",
       "0                      15.0                     23.0   \n",
       "1                      11.0                     26.0   \n",
       "2                      14.0                     12.0   \n",
       "\n",
       "   Master Grade Level ED_Yes  Master Grade Level ED_No  \n",
       "0                        7.0                      20.0  \n",
       "1                        3.0                       9.0  \n",
       "2                        4.0                       6.0  "
      ]
     },
     "execution_count": 56,
     "metadata": {},
     "output_type": "execute_result"
    }
   ],
   "source": [
    "ED3_df.head(3)"
   ]
  },
  {
   "cell_type": "code",
   "execution_count": 57,
   "metadata": {},
   "outputs": [
    {
     "data": {
      "text/plain": [
       "Index(['CAMPUS', 'DNAME', 'CNAME', 'GRADE', 'District Type',\n",
       "       'School Site Street Address', 'School Site City', 'School Site Zip',\n",
       "       'Below Grade Level ED_Yes', 'Below Grade Level ED_No',\n",
       "       'Approach Grade Level ED_Yes', 'Approach Grade Level ED_No',\n",
       "       'Meets Grade Level ED_Yes', 'Meets Grade Level ED_No',\n",
       "       'Master Grade Level ED_Yes', 'Master Grade Level ED_No'],\n",
       "      dtype='object')"
      ]
     },
     "execution_count": 57,
     "metadata": {},
     "output_type": "execute_result"
    }
   ],
   "source": [
    "#Extract the columns needed for calculations.\n",
    "ED3_df.columns"
   ]
  },
  {
   "cell_type": "code",
   "execution_count": 58,
   "metadata": {},
   "outputs": [],
   "source": [
    "ed3_total_df = ED3_df[['District Type',\n",
    "       'Below Grade Level ED_Yes', 'Below Grade Level ED_No',\n",
    "       'Approach Grade Level ED_Yes', 'Approach Grade Level ED_No',\n",
    "       'Meets Grade Level ED_Yes', 'Meets Grade Level ED_No',\n",
    "       'Master Grade Level ED_Yes', 'Master Grade Level ED_No']]"
   ]
  },
  {
   "cell_type": "code",
   "execution_count": 59,
   "metadata": {},
   "outputs": [
    {
     "data": {
      "text/html": [
       "<div>\n",
       "<style scoped>\n",
       "    .dataframe tbody tr th:only-of-type {\n",
       "        vertical-align: middle;\n",
       "    }\n",
       "\n",
       "    .dataframe tbody tr th {\n",
       "        vertical-align: top;\n",
       "    }\n",
       "\n",
       "    .dataframe thead th {\n",
       "        text-align: right;\n",
       "    }\n",
       "</style>\n",
       "<table border=\"1\" class=\"dataframe\">\n",
       "  <thead>\n",
       "    <tr style=\"text-align: right;\">\n",
       "      <th></th>\n",
       "      <th>District Type</th>\n",
       "      <th>Below Grade Level ED_Yes</th>\n",
       "      <th>Below Grade Level ED_No</th>\n",
       "      <th>Approach Grade Level ED_Yes</th>\n",
       "      <th>Approach Grade Level ED_No</th>\n",
       "      <th>Meets Grade Level ED_Yes</th>\n",
       "      <th>Meets Grade Level ED_No</th>\n",
       "      <th>Master Grade Level ED_Yes</th>\n",
       "      <th>Master Grade Level ED_No</th>\n",
       "    </tr>\n",
       "  </thead>\n",
       "  <tbody>\n",
       "    <tr>\n",
       "      <th>0</th>\n",
       "      <td>INDEPENDENT</td>\n",
       "      <td>6.0</td>\n",
       "      <td>0.0</td>\n",
       "      <td>17.0</td>\n",
       "      <td>23.0</td>\n",
       "      <td>15.0</td>\n",
       "      <td>23.0</td>\n",
       "      <td>7.0</td>\n",
       "      <td>20.0</td>\n",
       "    </tr>\n",
       "    <tr>\n",
       "      <th>1</th>\n",
       "      <td>INDEPENDENT</td>\n",
       "      <td>21.0</td>\n",
       "      <td>5.0</td>\n",
       "      <td>34.0</td>\n",
       "      <td>34.0</td>\n",
       "      <td>11.0</td>\n",
       "      <td>26.0</td>\n",
       "      <td>3.0</td>\n",
       "      <td>9.0</td>\n",
       "    </tr>\n",
       "    <tr>\n",
       "      <th>2</th>\n",
       "      <td>INDEPENDENT</td>\n",
       "      <td>12.0</td>\n",
       "      <td>4.0</td>\n",
       "      <td>22.0</td>\n",
       "      <td>17.0</td>\n",
       "      <td>14.0</td>\n",
       "      <td>12.0</td>\n",
       "      <td>4.0</td>\n",
       "      <td>6.0</td>\n",
       "    </tr>\n",
       "  </tbody>\n",
       "</table>\n",
       "</div>"
      ],
      "text/plain": [
       "  District Type  Below Grade Level ED_Yes  Below Grade Level ED_No  \\\n",
       "0   INDEPENDENT                       6.0                      0.0   \n",
       "1   INDEPENDENT                      21.0                      5.0   \n",
       "2   INDEPENDENT                      12.0                      4.0   \n",
       "\n",
       "   Approach Grade Level ED_Yes  Approach Grade Level ED_No  \\\n",
       "0                         17.0                        23.0   \n",
       "1                         34.0                        34.0   \n",
       "2                         22.0                        17.0   \n",
       "\n",
       "   Meets Grade Level ED_Yes  Meets Grade Level ED_No  \\\n",
       "0                      15.0                     23.0   \n",
       "1                      11.0                     26.0   \n",
       "2                      14.0                     12.0   \n",
       "\n",
       "   Master Grade Level ED_Yes  Master Grade Level ED_No  \n",
       "0                        7.0                      20.0  \n",
       "1                        3.0                       9.0  \n",
       "2                        4.0                       6.0  "
      ]
     },
     "execution_count": 59,
     "metadata": {},
     "output_type": "execute_result"
    }
   ],
   "source": [
    "ed3_total_df.head(3)"
   ]
  },
  {
   "cell_type": "code",
   "execution_count": 60,
   "metadata": {},
   "outputs": [
    {
     "name": "stderr",
     "output_type": "stream",
     "text": [
      "C:\\Users\\StevenJBark\\Anaconda3\\lib\\site-packages\\ipykernel_launcher.py:2: SettingWithCopyWarning: \n",
      "A value is trying to be set on a copy of a slice from a DataFrame.\n",
      "Try using .loc[row_indexer,col_indexer] = value instead\n",
      "\n",
      "See the caveats in the documentation: http://pandas.pydata.org/pandas-docs/stable/indexing.html#indexing-view-versus-copy\n",
      "  \n"
     ]
    },
    {
     "data": {
      "text/html": [
       "<div>\n",
       "<style scoped>\n",
       "    .dataframe tbody tr th:only-of-type {\n",
       "        vertical-align: middle;\n",
       "    }\n",
       "\n",
       "    .dataframe tbody tr th {\n",
       "        vertical-align: top;\n",
       "    }\n",
       "\n",
       "    .dataframe thead th {\n",
       "        text-align: right;\n",
       "    }\n",
       "</style>\n",
       "<table border=\"1\" class=\"dataframe\">\n",
       "  <thead>\n",
       "    <tr style=\"text-align: right;\">\n",
       "      <th></th>\n",
       "      <th>District Type</th>\n",
       "      <th>Below Grade Level ED_Yes</th>\n",
       "      <th>Below Grade Level ED_No</th>\n",
       "      <th>Approach Grade Level ED_Yes</th>\n",
       "      <th>Approach Grade Level ED_No</th>\n",
       "      <th>Meets Grade Level ED_Yes</th>\n",
       "      <th>Meets Grade Level ED_No</th>\n",
       "      <th>Master Grade Level ED_Yes</th>\n",
       "      <th>Master Grade Level ED_No</th>\n",
       "      <th>Total</th>\n",
       "    </tr>\n",
       "  </thead>\n",
       "  <tbody>\n",
       "    <tr>\n",
       "      <th>0</th>\n",
       "      <td>INDEPENDENT</td>\n",
       "      <td>6.0</td>\n",
       "      <td>0.0</td>\n",
       "      <td>17.0</td>\n",
       "      <td>23.0</td>\n",
       "      <td>15.0</td>\n",
       "      <td>23.0</td>\n",
       "      <td>7.0</td>\n",
       "      <td>20.0</td>\n",
       "      <td>111.0</td>\n",
       "    </tr>\n",
       "    <tr>\n",
       "      <th>1</th>\n",
       "      <td>INDEPENDENT</td>\n",
       "      <td>21.0</td>\n",
       "      <td>5.0</td>\n",
       "      <td>34.0</td>\n",
       "      <td>34.0</td>\n",
       "      <td>11.0</td>\n",
       "      <td>26.0</td>\n",
       "      <td>3.0</td>\n",
       "      <td>9.0</td>\n",
       "      <td>143.0</td>\n",
       "    </tr>\n",
       "    <tr>\n",
       "      <th>2</th>\n",
       "      <td>INDEPENDENT</td>\n",
       "      <td>12.0</td>\n",
       "      <td>4.0</td>\n",
       "      <td>22.0</td>\n",
       "      <td>17.0</td>\n",
       "      <td>14.0</td>\n",
       "      <td>12.0</td>\n",
       "      <td>4.0</td>\n",
       "      <td>6.0</td>\n",
       "      <td>91.0</td>\n",
       "    </tr>\n",
       "  </tbody>\n",
       "</table>\n",
       "</div>"
      ],
      "text/plain": [
       "  District Type  Below Grade Level ED_Yes  Below Grade Level ED_No  \\\n",
       "0   INDEPENDENT                       6.0                      0.0   \n",
       "1   INDEPENDENT                      21.0                      5.0   \n",
       "2   INDEPENDENT                      12.0                      4.0   \n",
       "\n",
       "   Approach Grade Level ED_Yes  Approach Grade Level ED_No  \\\n",
       "0                         17.0                        23.0   \n",
       "1                         34.0                        34.0   \n",
       "2                         22.0                        17.0   \n",
       "\n",
       "   Meets Grade Level ED_Yes  Meets Grade Level ED_No  \\\n",
       "0                      15.0                     23.0   \n",
       "1                      11.0                     26.0   \n",
       "2                      14.0                     12.0   \n",
       "\n",
       "   Master Grade Level ED_Yes  Master Grade Level ED_No  Total  \n",
       "0                        7.0                      20.0  111.0  \n",
       "1                        3.0                       9.0  143.0  \n",
       "2                        4.0                       6.0   91.0  "
      ]
     },
     "execution_count": 60,
     "metadata": {},
     "output_type": "execute_result"
    }
   ],
   "source": [
    "#Calculate the total for students in each school.\n",
    "ed3_total_df['Total'] = ed3_total_df.sum(axis=1)\n",
    "ed3_total_df.head(3)"
   ]
  },
  {
   "cell_type": "code",
   "execution_count": 61,
   "metadata": {},
   "outputs": [
    {
     "name": "stderr",
     "output_type": "stream",
     "text": [
      "C:\\Users\\StevenJBark\\Anaconda3\\lib\\site-packages\\ipykernel_launcher.py:2: SettingWithCopyWarning: \n",
      "A value is trying to be set on a copy of a slice from a DataFrame.\n",
      "Try using .loc[row_indexer,col_indexer] = value instead\n",
      "\n",
      "See the caveats in the documentation: http://pandas.pydata.org/pandas-docs/stable/indexing.html#indexing-view-versus-copy\n",
      "  \n"
     ]
    },
    {
     "data": {
      "text/html": [
       "<div>\n",
       "<style scoped>\n",
       "    .dataframe tbody tr th:only-of-type {\n",
       "        vertical-align: middle;\n",
       "    }\n",
       "\n",
       "    .dataframe tbody tr th {\n",
       "        vertical-align: top;\n",
       "    }\n",
       "\n",
       "    .dataframe thead th {\n",
       "        text-align: right;\n",
       "    }\n",
       "</style>\n",
       "<table border=\"1\" class=\"dataframe\">\n",
       "  <thead>\n",
       "    <tr style=\"text-align: right;\">\n",
       "      <th></th>\n",
       "      <th>District Type</th>\n",
       "      <th>Below Grade Level ED_Yes</th>\n",
       "      <th>Below Grade Level ED_No</th>\n",
       "      <th>Approach Grade Level ED_Yes</th>\n",
       "      <th>Approach Grade Level ED_No</th>\n",
       "      <th>Meets Grade Level ED_Yes</th>\n",
       "      <th>Meets Grade Level ED_No</th>\n",
       "      <th>Master Grade Level ED_Yes</th>\n",
       "      <th>Master Grade Level ED_No</th>\n",
       "      <th>Total</th>\n",
       "      <th>%Pass ED_Yes</th>\n",
       "    </tr>\n",
       "  </thead>\n",
       "  <tbody>\n",
       "    <tr>\n",
       "      <th>0</th>\n",
       "      <td>INDEPENDENT</td>\n",
       "      <td>6.0</td>\n",
       "      <td>0.0</td>\n",
       "      <td>17.0</td>\n",
       "      <td>23.0</td>\n",
       "      <td>15.0</td>\n",
       "      <td>23.0</td>\n",
       "      <td>7.0</td>\n",
       "      <td>20.0</td>\n",
       "      <td>111.0</td>\n",
       "      <td>0.198198</td>\n",
       "    </tr>\n",
       "    <tr>\n",
       "      <th>1</th>\n",
       "      <td>INDEPENDENT</td>\n",
       "      <td>21.0</td>\n",
       "      <td>5.0</td>\n",
       "      <td>34.0</td>\n",
       "      <td>34.0</td>\n",
       "      <td>11.0</td>\n",
       "      <td>26.0</td>\n",
       "      <td>3.0</td>\n",
       "      <td>9.0</td>\n",
       "      <td>143.0</td>\n",
       "      <td>0.097902</td>\n",
       "    </tr>\n",
       "    <tr>\n",
       "      <th>2</th>\n",
       "      <td>INDEPENDENT</td>\n",
       "      <td>12.0</td>\n",
       "      <td>4.0</td>\n",
       "      <td>22.0</td>\n",
       "      <td>17.0</td>\n",
       "      <td>14.0</td>\n",
       "      <td>12.0</td>\n",
       "      <td>4.0</td>\n",
       "      <td>6.0</td>\n",
       "      <td>91.0</td>\n",
       "      <td>0.197802</td>\n",
       "    </tr>\n",
       "  </tbody>\n",
       "</table>\n",
       "</div>"
      ],
      "text/plain": [
       "  District Type  Below Grade Level ED_Yes  Below Grade Level ED_No  \\\n",
       "0   INDEPENDENT                       6.0                      0.0   \n",
       "1   INDEPENDENT                      21.0                      5.0   \n",
       "2   INDEPENDENT                      12.0                      4.0   \n",
       "\n",
       "   Approach Grade Level ED_Yes  Approach Grade Level ED_No  \\\n",
       "0                         17.0                        23.0   \n",
       "1                         34.0                        34.0   \n",
       "2                         22.0                        17.0   \n",
       "\n",
       "   Meets Grade Level ED_Yes  Meets Grade Level ED_No  \\\n",
       "0                      15.0                     23.0   \n",
       "1                      11.0                     26.0   \n",
       "2                      14.0                     12.0   \n",
       "\n",
       "   Master Grade Level ED_Yes  Master Grade Level ED_No  Total  %Pass ED_Yes  \n",
       "0                        7.0                      20.0  111.0      0.198198  \n",
       "1                        3.0                       9.0  143.0      0.097902  \n",
       "2                        4.0                       6.0   91.0      0.197802  "
      ]
     },
     "execution_count": 61,
     "metadata": {},
     "output_type": "execute_result"
    }
   ],
   "source": [
    "#Calculate the percent of students Meets or Master Grade Level that are ED Yes.\n",
    "ed3_total_df['%Pass ED_Yes'] = (ed3_total_df['Meets Grade Level ED_Yes'] + ed3_total_df['Master Grade Level ED_Yes'])/ed3_total_df['Total']\n",
    "ed3_total_df.head(3)"
   ]
  },
  {
   "cell_type": "code",
   "execution_count": 62,
   "metadata": {},
   "outputs": [
    {
     "data": {
      "text/html": [
       "<div>\n",
       "<style scoped>\n",
       "    .dataframe tbody tr th:only-of-type {\n",
       "        vertical-align: middle;\n",
       "    }\n",
       "\n",
       "    .dataframe tbody tr th {\n",
       "        vertical-align: top;\n",
       "    }\n",
       "\n",
       "    .dataframe thead th {\n",
       "        text-align: right;\n",
       "    }\n",
       "</style>\n",
       "<table border=\"1\" class=\"dataframe\">\n",
       "  <thead>\n",
       "    <tr style=\"text-align: right;\">\n",
       "      <th></th>\n",
       "      <th>District Type</th>\n",
       "      <th>%Pass ED_Yes</th>\n",
       "    </tr>\n",
       "  </thead>\n",
       "  <tbody>\n",
       "    <tr>\n",
       "      <th>0</th>\n",
       "      <td>INDEPENDENT</td>\n",
       "      <td>0.198198</td>\n",
       "    </tr>\n",
       "    <tr>\n",
       "      <th>1</th>\n",
       "      <td>INDEPENDENT</td>\n",
       "      <td>0.097902</td>\n",
       "    </tr>\n",
       "    <tr>\n",
       "      <th>2</th>\n",
       "      <td>INDEPENDENT</td>\n",
       "      <td>0.197802</td>\n",
       "    </tr>\n",
       "  </tbody>\n",
       "</table>\n",
       "</div>"
      ],
      "text/plain": [
       "  District Type  %Pass ED_Yes\n",
       "0   INDEPENDENT      0.198198\n",
       "1   INDEPENDENT      0.097902\n",
       "2   INDEPENDENT      0.197802"
      ]
     },
     "execution_count": 62,
     "metadata": {},
     "output_type": "execute_result"
    }
   ],
   "source": [
    "#Reduce file to District Type and %Pass ED_Yes for plotting Independent versus Charter\n",
    "ed3_plot_df = ed3_total_df[['District Type', '%Pass ED_Yes']]\n",
    "ed3_plot_df.head(3)"
   ]
  },
  {
   "cell_type": "code",
   "execution_count": 63,
   "metadata": {},
   "outputs": [],
   "source": [
    "#Separate into INDEPENDENT versus CHARTER\n",
    "for index, row in ed3_plot_df.iterrows():\n",
    "    ed3_inp_df = ed3_plot_df.loc[ed3_plot_df['District Type'] == 'INDEPENDENT']\n",
    "    \n",
    "for index, row in ed3_plot_df.iterrows():\n",
    "    ed3_cht_df = ed3_plot_df.loc[ed3_plot_df['District Type'] == 'CHARTER']"
   ]
  },
  {
   "cell_type": "code",
   "execution_count": 64,
   "metadata": {},
   "outputs": [
    {
     "data": {
      "text/plain": [
       "[4164, 362]"
      ]
     },
     "execution_count": 64,
     "metadata": {},
     "output_type": "execute_result"
    }
   ],
   "source": [
    "#Check length of the inp and cht dataframes.\n",
    "[len(ed3_inp_df), len(ed3_cht_df)]"
   ]
  },
  {
   "cell_type": "code",
   "execution_count": 65,
   "metadata": {},
   "outputs": [
    {
     "data": {
      "text/plain": [
       "District Type    False\n",
       "%Pass ED_Yes      True\n",
       "dtype: bool"
      ]
     },
     "execution_count": 65,
     "metadata": {},
     "output_type": "execute_result"
    }
   ],
   "source": [
    "#Check for null values in the data. Both dataframes have null values.\n",
    "#ed3_inp_df.isnull().any()\n",
    "ed3_cht_df.isnull().any()"
   ]
  },
  {
   "cell_type": "code",
   "execution_count": 66,
   "metadata": {},
   "outputs": [],
   "source": [
    "#Remove null values\n",
    "ed3_inp_dpna = ed3_inp_df.dropna(how='any')\n",
    "ed3_cht_dpna = ed3_cht_df.dropna(how='any')"
   ]
  },
  {
   "cell_type": "code",
   "execution_count": 67,
   "metadata": {},
   "outputs": [
    {
     "data": {
      "text/plain": [
       "[4061, 326]"
      ]
     },
     "execution_count": 67,
     "metadata": {},
     "output_type": "execute_result"
    }
   ],
   "source": [
    "#Check data\n",
    "[len(ed3_inp_dpna), len(ed3_cht_dpna)]"
   ]
  },
  {
   "cell_type": "code",
   "execution_count": 68,
   "metadata": {},
   "outputs": [],
   "source": [
    "#Create vectors for boxplot vectors\n",
    "ed3_inp_vector = []\n",
    "for index, row in ed3_inp_dpna.iterrows():\n",
    "    ed3_inp_vector.append(row[1])\n",
    "    \n",
    "ed3_cht_vector = []\n",
    "for index, row in ed3_cht_dpna.iterrows():\n",
    "    ed3_cht_vector.append(row[1])"
   ]
  },
  {
   "cell_type": "code",
   "execution_count": 69,
   "metadata": {},
   "outputs": [
    {
     "data": {
      "text/plain": [
       "[4061, 326]"
      ]
     },
     "execution_count": 69,
     "metadata": {},
     "output_type": "execute_result"
    }
   ],
   "source": [
    "#Check no data lost in vector conversion\n",
    "[len(ed3_inp_vector), len(ed3_cht_vector)]"
   ]
  },
  {
   "cell_type": "code",
   "execution_count": 70,
   "metadata": {},
   "outputs": [],
   "source": [
    "#Calculate TTest\n",
    "t = sp.ttest_ind(ed3_inp_vector, ed3_cht_vector, equal_var=True)\n",
    "stat3 = t[1]"
   ]
  },
  {
   "cell_type": "code",
   "execution_count": 71,
   "metadata": {},
   "outputs": [
    {
     "data": {
      "image/png": "[encoded data removed]",
      "text/plain": [
       "<Figure size 648x432 with 1 Axes>"
      ]
     },
     "metadata": {
      "needs_background": "light"
     },
     "output_type": "display_data"
    }
   ],
   "source": [
    "#Create Boxplot\n",
    "\n",
    "plt.figure(figsize=(9,6))\n",
    "boxplotdataI3 = [ed3_inp_vector]\n",
    "boxplotdataC3 = [ed3_cht_vector]\n",
    "\n",
    "plt.boxplot(boxplotdataI3, positions=[1], patch_artist=True, boxprops=dict(facecolor='green'))\n",
    "plt.boxplot(boxplotdataC3, positions=[2], patch_artist=True, boxprops=dict(facecolor='red'))\n",
    "\n",
    "plt.suptitle('Economically Disadvantaged Grade 3: %Pass By School Type', fontsize=16, fontweight='bold')\n",
    "plt.xlabel('School Type', fontsize=14, fontweight='bold')\n",
    "plt.ylabel('%Pass (Meet or Master Grade Level)', fontsize=14, fontweight='bold')\n",
    "plt.xticks([1,2], ['Independent (N=4061)', 'Charter (N=326)'], fontsize=14)\n",
    "plt.text(1.13, 0 ,f'P-Value={stat3}', fontsize=12)\n",
    "\n",
    "#Save plot\n",
    "plt.savefig('../reports/EconomicallyDisadvantagedGrade3', dpi=300)"
   ]
  },
  {
   "cell_type": "code",
   "execution_count": 72,
   "metadata": {},
   "outputs": [],
   "source": [
    "#Create path using OS module for opening files. Open and start processing for Grade 4 data.\n",
    "path = os.path.join('..', 'cleandata', 'EconomicallyDisadvantagedGrade4.csv')\n",
    "ED4_df = pd.read_csv(path, delimiter=',')"
   ]
  },
  {
   "cell_type": "code",
   "execution_count": 73,
   "metadata": {},
   "outputs": [],
   "source": [
    "ed4_total_df = ED4_df[['District Type',\n",
    "       'Below Grade Level ED_Yes', 'Below Grade Level ED_No',\n",
    "       'Approach Grade Level ED_Yes', 'Approach Grade Level ED_No',\n",
    "       'Meets Grade Level ED_Yes', 'Meets Grade Level ED_No',\n",
    "       'Master Grade Level ED_Yes', 'Master Grade Level ED_No']]"
   ]
  },
  {
   "cell_type": "code",
   "execution_count": 74,
   "metadata": {},
   "outputs": [
    {
     "name": "stderr",
     "output_type": "stream",
     "text": [
      "C:\\Users\\StevenJBark\\Anaconda3\\lib\\site-packages\\ipykernel_launcher.py:1: SettingWithCopyWarning: \n",
      "A value is trying to be set on a copy of a slice from a DataFrame.\n",
      "Try using .loc[row_indexer,col_indexer] = value instead\n",
      "\n",
      "See the caveats in the documentation: http://pandas.pydata.org/pandas-docs/stable/indexing.html#indexing-view-versus-copy\n",
      "  \"\"\"Entry point for launching an IPython kernel.\n"
     ]
    },
    {
     "data": {
      "text/html": [
       "<div>\n",
       "<style scoped>\n",
       "    .dataframe tbody tr th:only-of-type {\n",
       "        vertical-align: middle;\n",
       "    }\n",
       "\n",
       "    .dataframe tbody tr th {\n",
       "        vertical-align: top;\n",
       "    }\n",
       "\n",
       "    .dataframe thead th {\n",
       "        text-align: right;\n",
       "    }\n",
       "</style>\n",
       "<table border=\"1\" class=\"dataframe\">\n",
       "  <thead>\n",
       "    <tr style=\"text-align: right;\">\n",
       "      <th></th>\n",
       "      <th>District Type</th>\n",
       "      <th>Below Grade Level ED_Yes</th>\n",
       "      <th>Below Grade Level ED_No</th>\n",
       "      <th>Approach Grade Level ED_Yes</th>\n",
       "      <th>Approach Grade Level ED_No</th>\n",
       "      <th>Meets Grade Level ED_Yes</th>\n",
       "      <th>Meets Grade Level ED_No</th>\n",
       "      <th>Master Grade Level ED_Yes</th>\n",
       "      <th>Master Grade Level ED_No</th>\n",
       "      <th>Total</th>\n",
       "    </tr>\n",
       "  </thead>\n",
       "  <tbody>\n",
       "    <tr>\n",
       "      <th>0</th>\n",
       "      <td>INDEPENDENT</td>\n",
       "      <td>3.0</td>\n",
       "      <td>3.0</td>\n",
       "      <td>18.0</td>\n",
       "      <td>26.0</td>\n",
       "      <td>11.0</td>\n",
       "      <td>16.0</td>\n",
       "      <td>5.0</td>\n",
       "      <td>8.0</td>\n",
       "      <td>90.0</td>\n",
       "    </tr>\n",
       "    <tr>\n",
       "      <th>1</th>\n",
       "      <td>INDEPENDENT</td>\n",
       "      <td>3.0</td>\n",
       "      <td>1.0</td>\n",
       "      <td>51.0</td>\n",
       "      <td>42.0</td>\n",
       "      <td>26.0</td>\n",
       "      <td>37.0</td>\n",
       "      <td>14.0</td>\n",
       "      <td>26.0</td>\n",
       "      <td>200.0</td>\n",
       "    </tr>\n",
       "    <tr>\n",
       "      <th>2</th>\n",
       "      <td>INDEPENDENT</td>\n",
       "      <td>16.0</td>\n",
       "      <td>10.0</td>\n",
       "      <td>26.0</td>\n",
       "      <td>26.0</td>\n",
       "      <td>7.0</td>\n",
       "      <td>18.0</td>\n",
       "      <td>4.0</td>\n",
       "      <td>11.0</td>\n",
       "      <td>118.0</td>\n",
       "    </tr>\n",
       "  </tbody>\n",
       "</table>\n",
       "</div>"
      ],
      "text/plain": [
       "  District Type  Below Grade Level ED_Yes  Below Grade Level ED_No  \\\n",
       "0   INDEPENDENT                       3.0                      3.0   \n",
       "1   INDEPENDENT                       3.0                      1.0   \n",
       "2   INDEPENDENT                      16.0                     10.0   \n",
       "\n",
       "   Approach Grade Level ED_Yes  Approach Grade Level ED_No  \\\n",
       "0                         18.0                        26.0   \n",
       "1                         51.0                        42.0   \n",
       "2                         26.0                        26.0   \n",
       "\n",
       "   Meets Grade Level ED_Yes  Meets Grade Level ED_No  \\\n",
       "0                      11.0                     16.0   \n",
       "1                      26.0                     37.0   \n",
       "2                       7.0                     18.0   \n",
       "\n",
       "   Master Grade Level ED_Yes  Master Grade Level ED_No  Total  \n",
       "0                        5.0                       8.0   90.0  \n",
       "1                       14.0                      26.0  200.0  \n",
       "2                        4.0                      11.0  118.0  "
      ]
     },
     "execution_count": 74,
     "metadata": {},
     "output_type": "execute_result"
    }
   ],
   "source": [
    "ed4_total_df['Total'] = ed4_total_df.sum(axis=1)\n",
    "ed4_total_df.head(3)"
   ]
  },
  {
   "cell_type": "code",
   "execution_count": 75,
   "metadata": {},
   "outputs": [
    {
     "name": "stderr",
     "output_type": "stream",
     "text": [
      "C:\\Users\\StevenJBark\\Anaconda3\\lib\\site-packages\\ipykernel_launcher.py:1: SettingWithCopyWarning: \n",
      "A value is trying to be set on a copy of a slice from a DataFrame.\n",
      "Try using .loc[row_indexer,col_indexer] = value instead\n",
      "\n",
      "See the caveats in the documentation: http://pandas.pydata.org/pandas-docs/stable/indexing.html#indexing-view-versus-copy\n",
      "  \"\"\"Entry point for launching an IPython kernel.\n"
     ]
    },
    {
     "data": {
      "text/html": [
       "<div>\n",
       "<style scoped>\n",
       "    .dataframe tbody tr th:only-of-type {\n",
       "        vertical-align: middle;\n",
       "    }\n",
       "\n",
       "    .dataframe tbody tr th {\n",
       "        vertical-align: top;\n",
       "    }\n",
       "\n",
       "    .dataframe thead th {\n",
       "        text-align: right;\n",
       "    }\n",
       "</style>\n",
       "<table border=\"1\" class=\"dataframe\">\n",
       "  <thead>\n",
       "    <tr style=\"text-align: right;\">\n",
       "      <th></th>\n",
       "      <th>District Type</th>\n",
       "      <th>Below Grade Level ED_Yes</th>\n",
       "      <th>Below Grade Level ED_No</th>\n",
       "      <th>Approach Grade Level ED_Yes</th>\n",
       "      <th>Approach Grade Level ED_No</th>\n",
       "      <th>Meets Grade Level ED_Yes</th>\n",
       "      <th>Meets Grade Level ED_No</th>\n",
       "      <th>Master Grade Level ED_Yes</th>\n",
       "      <th>Master Grade Level ED_No</th>\n",
       "      <th>Total</th>\n",
       "      <th>%Pass ED_Yes</th>\n",
       "    </tr>\n",
       "  </thead>\n",
       "  <tbody>\n",
       "    <tr>\n",
       "      <th>0</th>\n",
       "      <td>INDEPENDENT</td>\n",
       "      <td>3.0</td>\n",
       "      <td>3.0</td>\n",
       "      <td>18.0</td>\n",
       "      <td>26.0</td>\n",
       "      <td>11.0</td>\n",
       "      <td>16.0</td>\n",
       "      <td>5.0</td>\n",
       "      <td>8.0</td>\n",
       "      <td>90.0</td>\n",
       "      <td>0.177778</td>\n",
       "    </tr>\n",
       "    <tr>\n",
       "      <th>1</th>\n",
       "      <td>INDEPENDENT</td>\n",
       "      <td>3.0</td>\n",
       "      <td>1.0</td>\n",
       "      <td>51.0</td>\n",
       "      <td>42.0</td>\n",
       "      <td>26.0</td>\n",
       "      <td>37.0</td>\n",
       "      <td>14.0</td>\n",
       "      <td>26.0</td>\n",
       "      <td>200.0</td>\n",
       "      <td>0.200000</td>\n",
       "    </tr>\n",
       "    <tr>\n",
       "      <th>2</th>\n",
       "      <td>INDEPENDENT</td>\n",
       "      <td>16.0</td>\n",
       "      <td>10.0</td>\n",
       "      <td>26.0</td>\n",
       "      <td>26.0</td>\n",
       "      <td>7.0</td>\n",
       "      <td>18.0</td>\n",
       "      <td>4.0</td>\n",
       "      <td>11.0</td>\n",
       "      <td>118.0</td>\n",
       "      <td>0.093220</td>\n",
       "    </tr>\n",
       "  </tbody>\n",
       "</table>\n",
       "</div>"
      ],
      "text/plain": [
       "  District Type  Below Grade Level ED_Yes  Below Grade Level ED_No  \\\n",
       "0   INDEPENDENT                       3.0                      3.0   \n",
       "1   INDEPENDENT                       3.0                      1.0   \n",
       "2   INDEPENDENT                      16.0                     10.0   \n",
       "\n",
       "   Approach Grade Level ED_Yes  Approach Grade Level ED_No  \\\n",
       "0                         18.0                        26.0   \n",
       "1                         51.0                        42.0   \n",
       "2                         26.0                        26.0   \n",
       "\n",
       "   Meets Grade Level ED_Yes  Meets Grade Level ED_No  \\\n",
       "0                      11.0                     16.0   \n",
       "1                      26.0                     37.0   \n",
       "2                       7.0                     18.0   \n",
       "\n",
       "   Master Grade Level ED_Yes  Master Grade Level ED_No  Total  %Pass ED_Yes  \n",
       "0                        5.0                       8.0   90.0      0.177778  \n",
       "1                       14.0                      26.0  200.0      0.200000  \n",
       "2                        4.0                      11.0  118.0      0.093220  "
      ]
     },
     "execution_count": 75,
     "metadata": {},
     "output_type": "execute_result"
    }
   ],
   "source": [
    "ed4_total_df['%Pass ED_Yes'] = (ed4_total_df['Meets Grade Level ED_Yes'] + ed4_total_df['Master Grade Level ED_Yes'])/ed4_total_df['Total']\n",
    "ed4_total_df.head(3)"
   ]
  },
  {
   "cell_type": "code",
   "execution_count": 76,
   "metadata": {},
   "outputs": [
    {
     "data": {
      "text/html": [
       "<div>\n",
       "<style scoped>\n",
       "    .dataframe tbody tr th:only-of-type {\n",
       "        vertical-align: middle;\n",
       "    }\n",
       "\n",
       "    .dataframe tbody tr th {\n",
       "        vertical-align: top;\n",
       "    }\n",
       "\n",
       "    .dataframe thead th {\n",
       "        text-align: right;\n",
       "    }\n",
       "</style>\n",
       "<table border=\"1\" class=\"dataframe\">\n",
       "  <thead>\n",
       "    <tr style=\"text-align: right;\">\n",
       "      <th></th>\n",
       "      <th>District Type</th>\n",
       "      <th>%Pass ED_Yes</th>\n",
       "    </tr>\n",
       "  </thead>\n",
       "  <tbody>\n",
       "    <tr>\n",
       "      <th>0</th>\n",
       "      <td>INDEPENDENT</td>\n",
       "      <td>0.177778</td>\n",
       "    </tr>\n",
       "    <tr>\n",
       "      <th>1</th>\n",
       "      <td>INDEPENDENT</td>\n",
       "      <td>0.200000</td>\n",
       "    </tr>\n",
       "    <tr>\n",
       "      <th>2</th>\n",
       "      <td>INDEPENDENT</td>\n",
       "      <td>0.093220</td>\n",
       "    </tr>\n",
       "  </tbody>\n",
       "</table>\n",
       "</div>"
      ],
      "text/plain": [
       "  District Type  %Pass ED_Yes\n",
       "0   INDEPENDENT      0.177778\n",
       "1   INDEPENDENT      0.200000\n",
       "2   INDEPENDENT      0.093220"
      ]
     },
     "execution_count": 76,
     "metadata": {},
     "output_type": "execute_result"
    }
   ],
   "source": [
    "ed4_plot_df = ed4_total_df[['District Type', '%Pass ED_Yes']]\n",
    "ed4_plot_df.head(3)"
   ]
  },
  {
   "cell_type": "code",
   "execution_count": 77,
   "metadata": {},
   "outputs": [],
   "source": [
    "for index, row in ed4_plot_df.iterrows():\n",
    "    ed4_inp_df = ed4_plot_df.loc[ed4_plot_df['District Type'] == 'INDEPENDENT']\n",
    "    \n",
    "for index, row in ed4_plot_df.iterrows():\n",
    "    ed4_cht_df = ed4_plot_df.loc[ed4_plot_df['District Type'] == 'CHARTER']"
   ]
  },
  {
   "cell_type": "code",
   "execution_count": 78,
   "metadata": {},
   "outputs": [
    {
     "data": {
      "text/plain": [
       "[4155, 360]"
      ]
     },
     "execution_count": 78,
     "metadata": {},
     "output_type": "execute_result"
    }
   ],
   "source": [
    "[len(ed4_inp_df), len(ed4_cht_df)]"
   ]
  },
  {
   "cell_type": "code",
   "execution_count": 79,
   "metadata": {},
   "outputs": [
    {
     "data": {
      "text/plain": [
       "District Type    False\n",
       "%Pass ED_Yes      True\n",
       "dtype: bool"
      ]
     },
     "execution_count": 79,
     "metadata": {},
     "output_type": "execute_result"
    }
   ],
   "source": [
    "#ed4_inp_df.isnull().any()\n",
    "ed4_cht_df.isnull().any()"
   ]
  },
  {
   "cell_type": "code",
   "execution_count": 80,
   "metadata": {},
   "outputs": [],
   "source": [
    "ed4_inp_dpna = ed4_inp_df.dropna(how='any')\n",
    "ed4_cht_dpna = ed4_cht_df.dropna(how='any')"
   ]
  },
  {
   "cell_type": "code",
   "execution_count": 81,
   "metadata": {},
   "outputs": [
    {
     "data": {
      "text/plain": [
       "[4043, 324]"
      ]
     },
     "execution_count": 81,
     "metadata": {},
     "output_type": "execute_result"
    }
   ],
   "source": [
    "[len(ed4_inp_dpna), len(ed4_cht_dpna)]"
   ]
  },
  {
   "cell_type": "code",
   "execution_count": 82,
   "metadata": {},
   "outputs": [],
   "source": [
    "ed4_inp_vector = []\n",
    "for index, row in ed4_inp_dpna.iterrows():\n",
    "    ed4_inp_vector.append(row[1])\n",
    "    \n",
    "ed4_cht_vector = []\n",
    "for index, row in ed4_cht_dpna.iterrows():\n",
    "    ed4_cht_vector.append(row[1])"
   ]
  },
  {
   "cell_type": "code",
   "execution_count": 83,
   "metadata": {},
   "outputs": [
    {
     "data": {
      "text/plain": [
       "[4043, 324]"
      ]
     },
     "execution_count": 83,
     "metadata": {},
     "output_type": "execute_result"
    }
   ],
   "source": [
    "[len(ed4_inp_vector), len(ed4_cht_vector)]"
   ]
  },
  {
   "cell_type": "code",
   "execution_count": 84,
   "metadata": {},
   "outputs": [],
   "source": [
    "t = sp.ttest_ind(ed4_inp_vector, ed4_cht_vector, equal_var=True)\n",
    "stat4 = t[1]"
   ]
  },
  {
   "cell_type": "code",
   "execution_count": 85,
   "metadata": {},
   "outputs": [
    {
     "data": {
      "image/png": "[encoded data removed]",
      "text/plain": [
       "<Figure size 648x432 with 1 Axes>"
      ]
     },
     "metadata": {
      "needs_background": "light"
     },
     "output_type": "display_data"
    }
   ],
   "source": [
    "#Create Boxplot\n",
    "\n",
    "plt.figure(figsize=(9,6))\n",
    "boxplotdataI4 = [ed4_inp_vector]\n",
    "boxplotdataC4 = [ed4_cht_vector]\n",
    "\n",
    "plt.boxplot(boxplotdataI4, positions=[1], patch_artist=True, boxprops=dict(facecolor='green'))\n",
    "plt.boxplot(boxplotdataC4, positions=[2], patch_artist=True, boxprops=dict(facecolor='red'))\n",
    "\n",
    "plt.suptitle('Economically Disadvantaged Grade 4: %Pass By School Type', fontsize=16, fontweight='bold')\n",
    "plt.xlabel('School Type', fontsize=14, fontweight='bold')\n",
    "plt.ylabel('%Pass (Meet or Master Grade Level)', fontsize=14, fontweight='bold')\n",
    "plt.xticks([1,2], ['Independent (N=4043)', 'Charter (N=324)'], fontsize=14)\n",
    "plt.text(1.13, 0 ,f'P-Value={stat4}', fontsize=12)\n",
    "\n",
    "#Save plot\n",
    "plt.savefig('../reports/EconomicallyDisadvantagedGrade4', dpi=300)"
   ]
  },
  {
   "cell_type": "code",
   "execution_count": 86,
   "metadata": {},
   "outputs": [],
   "source": [
    "#Create path using OS module for opening files. Open and start processing for Grade 5 data.\n",
    "path = os.path.join('..', 'cleandata', 'EconomicallyDisadvantagedGrade5.csv')\n",
    "ED5_df = pd.read_csv(path, delimiter=',')"
   ]
  },
  {
   "cell_type": "code",
   "execution_count": 87,
   "metadata": {},
   "outputs": [],
   "source": [
    "ed5_total_df = ED5_df[['District Type',\n",
    "       'Below Grade Level ED_Yes', 'Below Grade Level ED_No',\n",
    "       'Approach Grade Level ED_Yes', 'Approach Grade Level ED_No',\n",
    "       'Meets Grade Level ED_Yes', 'Meets Grade Level ED_No',\n",
    "       'Master Grade Level ED_Yes', 'Master Grade Level ED_No']]"
   ]
  },
  {
   "cell_type": "code",
   "execution_count": 88,
   "metadata": {},
   "outputs": [
    {
     "name": "stderr",
     "output_type": "stream",
     "text": [
      "C:\\Users\\StevenJBark\\Anaconda3\\lib\\site-packages\\ipykernel_launcher.py:1: SettingWithCopyWarning: \n",
      "A value is trying to be set on a copy of a slice from a DataFrame.\n",
      "Try using .loc[row_indexer,col_indexer] = value instead\n",
      "\n",
      "See the caveats in the documentation: http://pandas.pydata.org/pandas-docs/stable/indexing.html#indexing-view-versus-copy\n",
      "  \"\"\"Entry point for launching an IPython kernel.\n"
     ]
    },
    {
     "data": {
      "text/html": [
       "<div>\n",
       "<style scoped>\n",
       "    .dataframe tbody tr th:only-of-type {\n",
       "        vertical-align: middle;\n",
       "    }\n",
       "\n",
       "    .dataframe tbody tr th {\n",
       "        vertical-align: top;\n",
       "    }\n",
       "\n",
       "    .dataframe thead th {\n",
       "        text-align: right;\n",
       "    }\n",
       "</style>\n",
       "<table border=\"1\" class=\"dataframe\">\n",
       "  <thead>\n",
       "    <tr style=\"text-align: right;\">\n",
       "      <th></th>\n",
       "      <th>District Type</th>\n",
       "      <th>Below Grade Level ED_Yes</th>\n",
       "      <th>Below Grade Level ED_No</th>\n",
       "      <th>Approach Grade Level ED_Yes</th>\n",
       "      <th>Approach Grade Level ED_No</th>\n",
       "      <th>Meets Grade Level ED_Yes</th>\n",
       "      <th>Meets Grade Level ED_No</th>\n",
       "      <th>Master Grade Level ED_Yes</th>\n",
       "      <th>Master Grade Level ED_No</th>\n",
       "      <th>Total</th>\n",
       "    </tr>\n",
       "  </thead>\n",
       "  <tbody>\n",
       "    <tr>\n",
       "      <th>0</th>\n",
       "      <td>INDEPENDENT</td>\n",
       "      <td>2.0</td>\n",
       "      <td>2.0</td>\n",
       "      <td>21.0</td>\n",
       "      <td>23.0</td>\n",
       "      <td>20.0</td>\n",
       "      <td>21.0</td>\n",
       "      <td>13.0</td>\n",
       "      <td>16.0</td>\n",
       "      <td>118.0</td>\n",
       "    </tr>\n",
       "    <tr>\n",
       "      <th>1</th>\n",
       "      <td>INDEPENDENT</td>\n",
       "      <td>2.0</td>\n",
       "      <td>1.0</td>\n",
       "      <td>38.0</td>\n",
       "      <td>42.0</td>\n",
       "      <td>30.0</td>\n",
       "      <td>35.0</td>\n",
       "      <td>16.0</td>\n",
       "      <td>27.0</td>\n",
       "      <td>191.0</td>\n",
       "    </tr>\n",
       "    <tr>\n",
       "      <th>2</th>\n",
       "      <td>INDEPENDENT</td>\n",
       "      <td>4.0</td>\n",
       "      <td>3.0</td>\n",
       "      <td>27.0</td>\n",
       "      <td>26.0</td>\n",
       "      <td>20.0</td>\n",
       "      <td>20.0</td>\n",
       "      <td>13.0</td>\n",
       "      <td>13.0</td>\n",
       "      <td>126.0</td>\n",
       "    </tr>\n",
       "  </tbody>\n",
       "</table>\n",
       "</div>"
      ],
      "text/plain": [
       "  District Type  Below Grade Level ED_Yes  Below Grade Level ED_No  \\\n",
       "0   INDEPENDENT                       2.0                      2.0   \n",
       "1   INDEPENDENT                       2.0                      1.0   \n",
       "2   INDEPENDENT                       4.0                      3.0   \n",
       "\n",
       "   Approach Grade Level ED_Yes  Approach Grade Level ED_No  \\\n",
       "0                         21.0                        23.0   \n",
       "1                         38.0                        42.0   \n",
       "2                         27.0                        26.0   \n",
       "\n",
       "   Meets Grade Level ED_Yes  Meets Grade Level ED_No  \\\n",
       "0                      20.0                     21.0   \n",
       "1                      30.0                     35.0   \n",
       "2                      20.0                     20.0   \n",
       "\n",
       "   Master Grade Level ED_Yes  Master Grade Level ED_No  Total  \n",
       "0                       13.0                      16.0  118.0  \n",
       "1                       16.0                      27.0  191.0  \n",
       "2                       13.0                      13.0  126.0  "
      ]
     },
     "execution_count": 88,
     "metadata": {},
     "output_type": "execute_result"
    }
   ],
   "source": [
    "ed5_total_df['Total'] = ed5_total_df.sum(axis=1)\n",
    "ed5_total_df.head(3)"
   ]
  },
  {
   "cell_type": "code",
   "execution_count": 89,
   "metadata": {},
   "outputs": [
    {
     "name": "stderr",
     "output_type": "stream",
     "text": [
      "C:\\Users\\StevenJBark\\Anaconda3\\lib\\site-packages\\ipykernel_launcher.py:1: SettingWithCopyWarning: \n",
      "A value is trying to be set on a copy of a slice from a DataFrame.\n",
      "Try using .loc[row_indexer,col_indexer] = value instead\n",
      "\n",
      "See the caveats in the documentation: http://pandas.pydata.org/pandas-docs/stable/indexing.html#indexing-view-versus-copy\n",
      "  \"\"\"Entry point for launching an IPython kernel.\n"
     ]
    },
    {
     "data": {
      "text/html": [
       "<div>\n",
       "<style scoped>\n",
       "    .dataframe tbody tr th:only-of-type {\n",
       "        vertical-align: middle;\n",
       "    }\n",
       "\n",
       "    .dataframe tbody tr th {\n",
       "        vertical-align: top;\n",
       "    }\n",
       "\n",
       "    .dataframe thead th {\n",
       "        text-align: right;\n",
       "    }\n",
       "</style>\n",
       "<table border=\"1\" class=\"dataframe\">\n",
       "  <thead>\n",
       "    <tr style=\"text-align: right;\">\n",
       "      <th></th>\n",
       "      <th>District Type</th>\n",
       "      <th>Below Grade Level ED_Yes</th>\n",
       "      <th>Below Grade Level ED_No</th>\n",
       "      <th>Approach Grade Level ED_Yes</th>\n",
       "      <th>Approach Grade Level ED_No</th>\n",
       "      <th>Meets Grade Level ED_Yes</th>\n",
       "      <th>Meets Grade Level ED_No</th>\n",
       "      <th>Master Grade Level ED_Yes</th>\n",
       "      <th>Master Grade Level ED_No</th>\n",
       "      <th>Total</th>\n",
       "      <th>%Pass ED_Yes</th>\n",
       "    </tr>\n",
       "  </thead>\n",
       "  <tbody>\n",
       "    <tr>\n",
       "      <th>0</th>\n",
       "      <td>INDEPENDENT</td>\n",
       "      <td>2.0</td>\n",
       "      <td>2.0</td>\n",
       "      <td>21.0</td>\n",
       "      <td>23.0</td>\n",
       "      <td>20.0</td>\n",
       "      <td>21.0</td>\n",
       "      <td>13.0</td>\n",
       "      <td>16.0</td>\n",
       "      <td>118.0</td>\n",
       "      <td>0.279661</td>\n",
       "    </tr>\n",
       "    <tr>\n",
       "      <th>1</th>\n",
       "      <td>INDEPENDENT</td>\n",
       "      <td>2.0</td>\n",
       "      <td>1.0</td>\n",
       "      <td>38.0</td>\n",
       "      <td>42.0</td>\n",
       "      <td>30.0</td>\n",
       "      <td>35.0</td>\n",
       "      <td>16.0</td>\n",
       "      <td>27.0</td>\n",
       "      <td>191.0</td>\n",
       "      <td>0.240838</td>\n",
       "    </tr>\n",
       "    <tr>\n",
       "      <th>2</th>\n",
       "      <td>INDEPENDENT</td>\n",
       "      <td>4.0</td>\n",
       "      <td>3.0</td>\n",
       "      <td>27.0</td>\n",
       "      <td>26.0</td>\n",
       "      <td>20.0</td>\n",
       "      <td>20.0</td>\n",
       "      <td>13.0</td>\n",
       "      <td>13.0</td>\n",
       "      <td>126.0</td>\n",
       "      <td>0.261905</td>\n",
       "    </tr>\n",
       "  </tbody>\n",
       "</table>\n",
       "</div>"
      ],
      "text/plain": [
       "  District Type  Below Grade Level ED_Yes  Below Grade Level ED_No  \\\n",
       "0   INDEPENDENT                       2.0                      2.0   \n",
       "1   INDEPENDENT                       2.0                      1.0   \n",
       "2   INDEPENDENT                       4.0                      3.0   \n",
       "\n",
       "   Approach Grade Level ED_Yes  Approach Grade Level ED_No  \\\n",
       "0                         21.0                        23.0   \n",
       "1                         38.0                        42.0   \n",
       "2                         27.0                        26.0   \n",
       "\n",
       "   Meets Grade Level ED_Yes  Meets Grade Level ED_No  \\\n",
       "0                      20.0                     21.0   \n",
       "1                      30.0                     35.0   \n",
       "2                      20.0                     20.0   \n",
       "\n",
       "   Master Grade Level ED_Yes  Master Grade Level ED_No  Total  %Pass ED_Yes  \n",
       "0                       13.0                      16.0  118.0      0.279661  \n",
       "1                       16.0                      27.0  191.0      0.240838  \n",
       "2                       13.0                      13.0  126.0      0.261905  "
      ]
     },
     "execution_count": 89,
     "metadata": {},
     "output_type": "execute_result"
    }
   ],
   "source": [
    "ed5_total_df['%Pass ED_Yes'] = (ed5_total_df['Meets Grade Level ED_Yes'] + ed5_total_df['Master Grade Level ED_Yes'])/ed5_total_df['Total']\n",
    "ed5_total_df.head(3)"
   ]
  },
  {
   "cell_type": "code",
   "execution_count": 90,
   "metadata": {},
   "outputs": [
    {
     "data": {
      "text/html": [
       "<div>\n",
       "<style scoped>\n",
       "    .dataframe tbody tr th:only-of-type {\n",
       "        vertical-align: middle;\n",
       "    }\n",
       "\n",
       "    .dataframe tbody tr th {\n",
       "        vertical-align: top;\n",
       "    }\n",
       "\n",
       "    .dataframe thead th {\n",
       "        text-align: right;\n",
       "    }\n",
       "</style>\n",
       "<table border=\"1\" class=\"dataframe\">\n",
       "  <thead>\n",
       "    <tr style=\"text-align: right;\">\n",
       "      <th></th>\n",
       "      <th>District Type</th>\n",
       "      <th>%Pass ED_Yes</th>\n",
       "    </tr>\n",
       "  </thead>\n",
       "  <tbody>\n",
       "    <tr>\n",
       "      <th>0</th>\n",
       "      <td>INDEPENDENT</td>\n",
       "      <td>0.279661</td>\n",
       "    </tr>\n",
       "    <tr>\n",
       "      <th>1</th>\n",
       "      <td>INDEPENDENT</td>\n",
       "      <td>0.240838</td>\n",
       "    </tr>\n",
       "    <tr>\n",
       "      <th>2</th>\n",
       "      <td>INDEPENDENT</td>\n",
       "      <td>0.261905</td>\n",
       "    </tr>\n",
       "  </tbody>\n",
       "</table>\n",
       "</div>"
      ],
      "text/plain": [
       "  District Type  %Pass ED_Yes\n",
       "0   INDEPENDENT      0.279661\n",
       "1   INDEPENDENT      0.240838\n",
       "2   INDEPENDENT      0.261905"
      ]
     },
     "execution_count": 90,
     "metadata": {},
     "output_type": "execute_result"
    }
   ],
   "source": [
    "ed5_plot_df = ed5_total_df[['District Type', '%Pass ED_Yes']]\n",
    "ed5_plot_df.head(3)"
   ]
  },
  {
   "cell_type": "code",
   "execution_count": 91,
   "metadata": {},
   "outputs": [],
   "source": [
    "for index, row in ed5_plot_df.iterrows():\n",
    "    ed5_inp_df = ed5_plot_df.loc[ed5_plot_df['District Type'] == 'INDEPENDENT']\n",
    "    \n",
    "for index, row in ed5_plot_df.iterrows():\n",
    "    ed5_cht_df = ed5_plot_df.loc[ed5_plot_df['District Type'] == 'CHARTER']"
   ]
  },
  {
   "cell_type": "code",
   "execution_count": 92,
   "metadata": {},
   "outputs": [
    {
     "data": {
      "text/plain": [
       "[3915, 368]"
      ]
     },
     "execution_count": 92,
     "metadata": {},
     "output_type": "execute_result"
    }
   ],
   "source": [
    "[len(ed5_inp_df), len(ed5_cht_df)]"
   ]
  },
  {
   "cell_type": "code",
   "execution_count": 93,
   "metadata": {},
   "outputs": [
    {
     "data": {
      "text/plain": [
       "District Type    False\n",
       "%Pass ED_Yes      True\n",
       "dtype: bool"
      ]
     },
     "execution_count": 93,
     "metadata": {},
     "output_type": "execute_result"
    }
   ],
   "source": [
    "#ed5_inp_df.isnull().any()\n",
    "ed5_cht_df.isnull().any()"
   ]
  },
  {
   "cell_type": "code",
   "execution_count": 94,
   "metadata": {},
   "outputs": [],
   "source": [
    "ed5_inp_dpna = ed5_inp_df.dropna(how='any')\n",
    "ed5_cht_dpna = ed5_cht_df.dropna(how='any')"
   ]
  },
  {
   "cell_type": "code",
   "execution_count": 95,
   "metadata": {},
   "outputs": [
    {
     "data": {
      "text/plain": [
       "[3802, 323]"
      ]
     },
     "execution_count": 95,
     "metadata": {},
     "output_type": "execute_result"
    }
   ],
   "source": [
    "[len(ed5_inp_dpna), len(ed5_cht_dpna)]"
   ]
  },
  {
   "cell_type": "code",
   "execution_count": 96,
   "metadata": {},
   "outputs": [],
   "source": [
    "ed5_inp_vector = []\n",
    "for index, row in ed5_inp_dpna.iterrows():\n",
    "    ed5_inp_vector.append(row[1])\n",
    "    \n",
    "ed5_cht_vector = []\n",
    "for index, row in ed5_cht_dpna.iterrows():\n",
    "    ed5_cht_vector.append(row[1])"
   ]
  },
  {
   "cell_type": "code",
   "execution_count": 97,
   "metadata": {},
   "outputs": [
    {
     "data": {
      "text/plain": [
       "[3802, 323]"
      ]
     },
     "execution_count": 97,
     "metadata": {},
     "output_type": "execute_result"
    }
   ],
   "source": [
    "[len(ed5_inp_vector), len(ed5_cht_vector)]"
   ]
  },
  {
   "cell_type": "code",
   "execution_count": 98,
   "metadata": {},
   "outputs": [],
   "source": [
    "t = sp.ttest_ind(ed5_inp_vector, ed5_cht_vector, equal_var=True)\n",
    "stat5 = t[1]"
   ]
  },
  {
   "cell_type": "code",
   "execution_count": 99,
   "metadata": {},
   "outputs": [
    {
     "data": {
      "image/png": "[encoded data removed]",
      "text/plain": [
       "<Figure size 648x432 with 1 Axes>"
      ]
     },
     "metadata": {
      "needs_background": "light"
     },
     "output_type": "display_data"
    }
   ],
   "source": [
    "#Create Boxplot\n",
    "\n",
    "plt.figure(figsize=(9,6))\n",
    "boxplotdataI5 = [ed5_inp_vector]\n",
    "boxplotdataC5 = [ed5_cht_vector]\n",
    "\n",
    "plt.boxplot(boxplotdataI5, positions=[1], patch_artist=True, boxprops=dict(facecolor='green'))\n",
    "plt.boxplot(boxplotdataC5, positions=[2], patch_artist=True, boxprops=dict(facecolor='red'))\n",
    "\n",
    "plt.suptitle('Economically Disadvantaged Grade 5: %Pass By School Type', fontsize=16, fontweight='bold')\n",
    "plt.xlabel('School Type', fontsize=14, fontweight='bold')\n",
    "plt.ylabel('%Pass (Meet or Master Grade Level)', fontsize=14, fontweight='bold')\n",
    "plt.xticks([1,2], ['Independent (N=3802)', 'Charter (N=323)'], fontsize=14)\n",
    "plt.text(1.13, 0 ,f'P-Value={stat5}', fontsize=12)\n",
    "\n",
    "#Save plot\n",
    "plt.savefig('../reports/EconomicallyDisadvantagedGrade5', dpi=300)"
   ]
  },
  {
   "cell_type": "code",
   "execution_count": null,
   "metadata": {},
   "outputs": [],
   "source": []
  }
 ],
 "metadata": {
  "kernelspec": {
   "display_name": "Python 3",
   "language": "python",
   "name": "python3"
  },
  "language_info": {
   "codemirror_mode": {
    "name": "ipython",
    "version": 3
   },
   "file_extension": ".py",
   "mimetype": "text/x-python",
   "name": "python",
   "nbconvert_exporter": "python",
   "pygments_lexer": "ipython3",
   "version": "3.7.3"
  }
 },
 "nbformat": 4,
 "nbformat_minor": 2
}
