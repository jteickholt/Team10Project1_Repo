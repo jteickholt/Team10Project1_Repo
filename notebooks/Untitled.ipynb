{
 "cells": [
  {
   "cell_type": "code",
   "execution_count": 1,
   "metadata": {},
   "outputs": [],
   "source": [
    "#Calculations dataframes for analysis of STAAR data.\n",
    "import pandas as pd\n",
    "import numpy as np\n",
    "import scipy as sp\n",
    "import matplotlib.pyplot as plt\n"
   ]
  },
  {
   "cell_type": "code",
   "execution_count": 4,
   "metadata": {},
   "outputs": [
    {
     "data": {
      "text/html": [
       "<div>\n",
       "<style scoped>\n",
       "    .dataframe tbody tr th:only-of-type {\n",
       "        vertical-align: middle;\n",
       "    }\n",
       "\n",
       "    .dataframe tbody tr th {\n",
       "        vertical-align: top;\n",
       "    }\n",
       "\n",
       "    .dataframe thead th {\n",
       "        text-align: right;\n",
       "    }\n",
       "</style>\n",
       "<table border=\"1\" class=\"dataframe\">\n",
       "  <thead>\n",
       "    <tr style=\"text-align: right;\">\n",
       "      <th></th>\n",
       "      <th>CAMPUS</th>\n",
       "      <th>DNAME</th>\n",
       "      <th>CNAME</th>\n",
       "      <th>GRADE</th>\n",
       "      <th>District Type</th>\n",
       "      <th>School Street Address</th>\n",
       "      <th>School City</th>\n",
       "      <th>School Zip</th>\n",
       "      <th>Below Grade Level</th>\n",
       "      <th>Approach Grade Level</th>\n",
       "      <th>Meet Grade Level</th>\n",
       "      <th>Master Grade Level</th>\n",
       "    </tr>\n",
       "  </thead>\n",
       "  <tbody>\n",
       "    <tr>\n",
       "      <th>0</th>\n",
       "      <td>1902103</td>\n",
       "      <td>CAYUGA ISD</td>\n",
       "      <td>CAYUGA ELEM.</td>\n",
       "      <td>3</td>\n",
       "      <td>INDEPENDENT</td>\n",
       "      <td>P O BOX 427</td>\n",
       "      <td>CAYUGA</td>\n",
       "      <td>75832-0427</td>\n",
       "      <td>6.0</td>\n",
       "      <td>40.0</td>\n",
       "      <td>38.0</td>\n",
       "      <td>27.0</td>\n",
       "    </tr>\n",
       "    <tr>\n",
       "      <th>1</th>\n",
       "      <td>1903102</td>\n",
       "      <td>ELKHART ISD</td>\n",
       "      <td>ELKHART INTERME</td>\n",
       "      <td>3</td>\n",
       "      <td>INDEPENDENT</td>\n",
       "      <td>301 E PARKER ST</td>\n",
       "      <td>ELKHART</td>\n",
       "      <td>75839-9701</td>\n",
       "      <td>26.0</td>\n",
       "      <td>68.0</td>\n",
       "      <td>37.0</td>\n",
       "      <td>12.0</td>\n",
       "    </tr>\n",
       "    <tr>\n",
       "      <th>2</th>\n",
       "      <td>1904102</td>\n",
       "      <td>FRANKSTON ISD</td>\n",
       "      <td>FRANKSTON ELEM.</td>\n",
       "      <td>3</td>\n",
       "      <td>INDEPENDENT</td>\n",
       "      <td>P O BOX 428</td>\n",
       "      <td>FRANKSTON</td>\n",
       "      <td>75763-0428</td>\n",
       "      <td>16.0</td>\n",
       "      <td>39.0</td>\n",
       "      <td>26.0</td>\n",
       "      <td>10.0</td>\n",
       "    </tr>\n",
       "    <tr>\n",
       "      <th>3</th>\n",
       "      <td>1906102</td>\n",
       "      <td>NECHES ISD</td>\n",
       "      <td>NECHES ELEM.</td>\n",
       "      <td>3</td>\n",
       "      <td>INDEPENDENT</td>\n",
       "      <td>P O BOX 310</td>\n",
       "      <td>NECHES</td>\n",
       "      <td>75779-0310</td>\n",
       "      <td>5.0</td>\n",
       "      <td>20.0</td>\n",
       "      <td>7.0</td>\n",
       "      <td>2.0</td>\n",
       "    </tr>\n",
       "    <tr>\n",
       "      <th>4</th>\n",
       "      <td>1907107</td>\n",
       "      <td>PALESTINE ISD</td>\n",
       "      <td>SOUTHSIDE ELEM.</td>\n",
       "      <td>3</td>\n",
       "      <td>INDEPENDENT</td>\n",
       "      <td>201 GILLESPIE RD</td>\n",
       "      <td>PALESTINE</td>\n",
       "      <td>75801-7627</td>\n",
       "      <td>46.0</td>\n",
       "      <td>174.0</td>\n",
       "      <td>93.0</td>\n",
       "      <td>51.0</td>\n",
       "    </tr>\n",
       "  </tbody>\n",
       "</table>\n",
       "</div>"
      ],
      "text/plain": [
       "    CAMPUS          DNAME            CNAME  GRADE District Type  \\\n",
       "0  1902103     CAYUGA ISD     CAYUGA ELEM.      3   INDEPENDENT   \n",
       "1  1903102    ELKHART ISD  ELKHART INTERME      3   INDEPENDENT   \n",
       "2  1904102  FRANKSTON ISD  FRANKSTON ELEM.      3   INDEPENDENT   \n",
       "3  1906102     NECHES ISD     NECHES ELEM.      3   INDEPENDENT   \n",
       "4  1907107  PALESTINE ISD  SOUTHSIDE ELEM.      3   INDEPENDENT   \n",
       "\n",
       "  School Street Address School City  School Zip  Below Grade Level  \\\n",
       "0           P O BOX 427      CAYUGA  75832-0427                6.0   \n",
       "1       301 E PARKER ST     ELKHART  75839-9701               26.0   \n",
       "2           P O BOX 428   FRANKSTON  75763-0428               16.0   \n",
       "3           P O BOX 310      NECHES  75779-0310                5.0   \n",
       "4      201 GILLESPIE RD   PALESTINE  75801-7627               46.0   \n",
       "\n",
       "   Approach Grade Level  Meet Grade Level  Master Grade Level  \n",
       "0                  40.0              38.0                27.0  \n",
       "1                  68.0              37.0                12.0  \n",
       "2                  39.0              26.0                10.0  \n",
       "3                  20.0               7.0                 2.0  \n",
       "4                 174.0              93.0                51.0  "
      ]
     },
     "execution_count": 4,
     "metadata": {},
     "output_type": "execute_result"
    }
   ],
   "source": [
    "#Import cleaned STAAR data for Grade 3, all students.\n",
    "grade3all_df = pd.read_csv('../cleandata/AllStudentsGrade3.csv', header=0)\n",
    "grade3all_df.head()"
   ]
  },
  {
   "cell_type": "code",
   "execution_count": 2,
   "metadata": {},
   "outputs": [
    {
     "data": {
      "text/plain": [
       "'C:\\\\Users\\\\StevenJBark\\\\Desktop\\\\RICEDAV\\\\Projects\\\\RiceBootcampProject1\\\\Team10Project1_Repo\\\\notebooks'"
      ]
     },
     "execution_count": 2,
     "metadata": {},
     "output_type": "execute_result"
    }
   ],
   "source": []
  },
  {
   "cell_type": "code",
   "execution_count": null,
   "metadata": {},
   "outputs": [],
   "source": []
  },
  {
   "cell_type": "code",
   "execution_count": null,
   "metadata": {},
   "outputs": [],
   "source": []
  }
 ],
 "metadata": {
  "kernelspec": {
   "display_name": "Python 3",
   "language": "python",
   "name": "python3"
  },
  "language_info": {
   "codemirror_mode": {
    "name": "ipython",
    "version": 3
   },
   "file_extension": ".py",
   "mimetype": "text/x-python",
   "name": "python",
   "nbconvert_exporter": "python",
   "pygments_lexer": "ipython3",
   "version": "3.7.3"
  }
 },
 "nbformat": 4,
 "nbformat_minor": 2
}
