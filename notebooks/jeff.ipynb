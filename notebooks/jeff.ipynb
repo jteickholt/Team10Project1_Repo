{
 "cells": [
  {
   "cell_type": "code",
   "execution_count": 1,
   "metadata": {},
   "outputs": [],
   "source": [
    "# Dependencies and Setup\n",
    "import matplotlib.pyplot as plt\n",
    "import pandas as pd\n",
    "import numpy as np\n",
    "import requests\n",
    "import os\n",
    "\n",
    "#Adding datatime dependency to be able to get the current date each time code is run\n",
    "import datetime\n",
    "\n",
    "# Import API key\n",
    "# from api_keys import api_key\n",
    "\n",
    "# Incorporated citipy to determine city based on latitude and longitude\n",
    "from citipy import citipy\n",
    "\n",
    "#Import pprint\n",
    "from pprint import pprint\n",
    "\n",
    "# Google developer API key\n",
    "from config import gkey"
   ]
  },
  {
   "cell_type": "code",
   "execution_count": 2,
   "metadata": {
    "scrolled": true
   },
   "outputs": [
    {
     "data": {
      "text/plain": [
       "list"
      ]
     },
     "execution_count": 2,
     "metadata": {},
     "output_type": "execute_result"
    }
   ],
   "source": [
    "#define path to data containing the address info for each school and read in to a dataframe\n",
    "path_to_file = os.path.join(\"..\" , \"rawdata\" ,\"SchoolDirectory2.csv\")\n",
    "\n",
    "school_desc_df = pd.read_csv(path_to_file)\n",
    "\n",
    "#just keep the fields that will be used\n",
    "school_desc_df=school_desc_df[['School Name','School Number', 'District Type', 'School Site Street Address', 'School Site City', 'School Site State', 'School Site Zip', 'Grade Range']]\n",
    "school_desc_df.head()\n",
    "\n",
    "#the school number was stored with an apostrophe in front (ie. '001902001), so removing the apostrophe and changing to numberic\n",
    "#to get rid of any zeroes stored in front of number\n",
    "school_desc_df['School Number 2']=school_desc_df['School Number'].str[1:]\n",
    "school_desc_df['School Number 2']=school_desc_df['School Number 2'].apply(pd.to_numeric)\n",
    "school_desc_df.head()\n",
    "\n",
    "#Create a list that contains the school number  and a full address that Combines the street address, \n",
    "# school, and zip code into a single field that can be passed to Google geocode\n",
    "fulladdress = []\n",
    "school_desc_df[['School Number', 'School Name', 'School Site Street Address', 'School Site City', 'School Site Zip']].head() \n",
    "# fulladdress=[school_desc_df['School Number 2'], [school_desc_df['School Site Street Address'] + ' ' + school_desc_df['School Site City'] + ',TX ' + school_desc_df['School Site Zip']]]\n",
    "fulladdress=school_desc_df['School Site Street Address'] + ' ' + school_desc_df['School Site City'] + ',TX ' + school_desc_df['School Site Zip']\n",
    "schoolnum=school_desc_df['School Number 2']\n",
    "\n",
    "fulladdress=fulladdress.tolist()\n",
    "schoolnum=schoolnum.tolist()\n",
    "type(fulladdress)"
   ]
  },
  {
   "cell_type": "code",
   "execution_count": 3,
   "metadata": {},
   "outputs": [],
   "source": [
    "#Create a small subset of addresses for testing\n",
    "testlist=fulladdress[0:5]\n",
    "\n",
    "# print(testlist)\n",
    "\n",
    "# create lists to hold latitudes and longitudes\n",
    "lats = []\n",
    "lngs = []\n",
    "\n",
    "for address in testlist:\n",
    "    # Build the endpoint URL\n",
    "    target_url = ('https://maps.googleapis.com/maps/api/geocode/json?address={0}&key={1}').format(address, gkey)\n",
    "    \n",
    "    response = requests.get(target_url)\n",
    " \n",
    "    # Convert the response to json\n",
    "    response_json = response.json()\n",
    "\n",
    "    # store lat/long data in variables that are then added to alist\n",
    "    lat = response_json[\"results\"][0][\"geometry\"][\"location\"][\"lat\"]\n",
    "    lats.append(lat)\n",
    "    \n",
    "    lng = response_json[\"results\"][0][\"geometry\"][\"location\"][\"lng\"]\n",
    "    lngs.append(lng)\n",
    "\n",
    "\n"
   ]
  },
  {
   "cell_type": "code",
   "execution_count": 4,
   "metadata": {},
   "outputs": [
    {
     "name": "stdout",
     "output_type": "stream",
     "text": [
      "[31.9229638, 31.9229638, 31.9229638, 31.6558007, 31.7731815]\n",
      "[-95.92387049999999, -95.92387049999999, -95.92387049999999, -95.58306929999999, -95.6398186]\n"
     ]
    }
   ],
   "source": [
    "print(lats)\n",
    "print(lngs)\n"
   ]
  },
  {
   "cell_type": "code",
   "execution_count": null,
   "metadata": {},
   "outputs": [],
   "source": []
  }
 ],
 "metadata": {
  "kernelspec": {
   "display_name": "Python 3",
   "language": "python",
   "name": "python3"
  },
  "language_info": {
   "codemirror_mode": {
    "name": "ipython",
    "version": 3
   },
   "file_extension": ".py",
   "mimetype": "text/x-python",
   "name": "python",
   "nbconvert_exporter": "python",
   "pygments_lexer": "ipython3",
   "version": "3.7.3"
  }
 },
 "nbformat": 4,
 "nbformat_minor": 2
}
