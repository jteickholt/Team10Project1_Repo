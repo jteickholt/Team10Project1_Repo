{
 "cells": [
  {
   "cell_type": "code",
   "execution_count": 1,
   "metadata": {},
   "outputs": [],
   "source": [
    "# Dependencies and Setup\n",
    "import matplotlib.pyplot as plt\n",
    "import pandas as pd\n",
    "import numpy as np\n",
    "import requests\n",
    "import os\n",
    "\n",
    "#Adding datatime dependency to be able to get the current date each time code is run\n",
    "import datetime\n",
    "\n",
    "# Import API key\n",
    "# from api_keys import api_key\n",
    "\n",
    "# Incorporated citipy to determine city based on latitude and longitude\n",
    "from citipy import citipy\n",
    "\n",
    "#Import pprint\n",
    "from pprint import pprint\n",
    "\n",
    "# Google developer API key\n",
    "from config import gkey"
   ]
  },
  {
   "cell_type": "code",
   "execution_count": 16,
   "metadata": {},
   "outputs": [
    {
     "data": {
      "text/plain": [
       "0                   P O BOX 427CAYUGA, 75832-0427\n",
       "1                   P O BOX 427CAYUGA, 75832-0427\n",
       "2                   P O BOX 427CAYUGA, 75832-0427\n",
       "3              301 E PARKER STELKHART, 75839-9701\n",
       "4                   301 E PARKER STELKHART, 75839\n",
       "5              301 E PARKER STELKHART, 75839-9701\n",
       "6              301 E PARKER STELKHART, 75839-9701\n",
       "7              301 E PARKER STELKHART, 75839-9701\n",
       "8                P O BOX 428FRANKSTON, 75763-0428\n",
       "9                P O BOX 428FRANKSTON, 75763-0428\n",
       "10               P O BOX 428FRANKSTON, 75763-0428\n",
       "11                  P O BOX 310NECHES, 75779-0310\n",
       "12                  P O BOX 310NECHES, 75779-0310\n",
       "13           1600 S LOOP 256PALESTINE, 75801-5898\n",
       "14          233 BEN MILAM DRPALESTINE, 75801-6003\n",
       "15            2509 HWY 155 NPALESTINE, 75801-9999\n",
       "16                  1020 W HAMLETPALESTINE, 75803\n",
       "17          201 GILLESPIE RDPALESTINE, 75801-7627\n",
       "18           5300 S LOOP 256PALESTINE, 75801-2415\n",
       "19               P O BOX 260PALESTINE, 75802-0260\n",
       "20               P O BOX 260PALESTINE, 75802-0260\n",
       "21               P O BOX 260PALESTINE, 75802-0260\n",
       "22               P O BOX 260PALESTINE, 75802-0260\n",
       "23        5765 E STATE HWY 294ELKHART, 75839-9802\n",
       "24        5765 E STATE HWY 294ELKHART, 75839-9802\n",
       "25               405 NW 3RD STANDREWS, 79714-5098\n",
       "26              405 N W 3RD STANDREWS, 79714-5098\n",
       "27               405 NW 3RD STANDREWS, 79714-5098\n",
       "28               405 NW 3RD STANDREWS, 79714-5098\n",
       "29               405 NW 3RD STANDREWS, 79714-5098\n",
       "                          ...                    \n",
       "9470       505 S CHESTNUT STWINNSBORO, 75494-2628\n",
       "9471           310 W COKE RDWINNSBORO, 75494-2628\n",
       "9472       601 MUSTANG AVEDENVER CITY, 79323-2797\n",
       "9473       419 MUSTANG AVEDENVER CITY, 79323-2798\n",
       "9474          500 N SOLANDDENVER CITY, 79323-2824\n",
       "9475               600 N SOLANDDENVER CITY, 79323\n",
       "9476                P O BOX 479PLAINS, 79355-0479\n",
       "9477                P O BOX 479PLAINS, 79355-0479\n",
       "9478                P O BOX 479PLAINS, 79355-0479\n",
       "9479             1000 BRAZOS STGRAHAM, 76450-3900\n",
       "9480              701 TENNESSEEGRAHAM, 76450-3226\n",
       "9481             1000 SECOND STGRAHAM, 76450-2618\n",
       "9482              1219 CLIFF DRGRAHAM, 76450-4103\n",
       "9483             P O BOX 129NEWCASTLE, 73672-0129\n",
       "9484                      704 W GROVEOLNEY, 76374\n",
       "9485                 300 S AVE HOLNEY, 76374-1362\n",
       "9486                   801 W HAMILTONOLNEY, 76374\n",
       "9487                     P O BOX 158ZAPATA, 78076\n",
       "9488                P O BOX 158ZAPATA, 78076-3636\n",
       "9489                     P O BOX 158ZAPATA, 78076\n",
       "9490                P O BOX 158ZAPATA, 78076-3224\n",
       "9491                     P O BOX 158ZAPATA, 78076\n",
       "9492                     P O BOX 158ZAPATA, 78076\n",
       "9493    805 E CROCKETT STCRYSTAL CITY, 78839-2799\n",
       "9494       805 E CROCKETTCRYSTAL CITY, 78839-2799\n",
       "9495       805 E CROCKETTCRYSTAL CITY, 78839-2799\n",
       "9496       805 E CROCKETTCRYSTAL CITY, 78839-2799\n",
       "9497    805 E CROCKETT STCRYSTAL CITY, 78839-2799\n",
       "9498              P O BOX 519LA PRYOR, 78872-0519\n",
       "9499              P O BOX 519LA PRYOR, 78872-0519\n",
       "Name: fulladdress, Length: 9500, dtype: object"
      ]
     },
     "execution_count": 16,
     "metadata": {},
     "output_type": "execute_result"
    }
   ],
   "source": [
    "path_to_file = os.path.join(\"..\" , \"rawdata\"  ,\"SchoolDirectory.csv\")\n",
    "school_desc_df = pd.read_csv(path_to_file)\n",
    "\n",
    "school_desc_df[['School Number', 'School Name', 'School Street Address', 'School City', 'School Zip']].head()\n",
    "school_desc_df['fulladdress']=school_desc_df['School Street Address'] + school_desc_df['School City'] + ', ' + school_desc_df['School Zip']\n",
    "\n",
    "school_desc_df['fulladdress']\n",
    "# school_desc_df.info()"
   ]
  },
  {
   "cell_type": "code",
   "execution_count": 17,
   "metadata": {},
   "outputs": [
    {
     "data": {
      "text/plain": [
       "District Type\n",
       "CHARTER         808\n",
       "COMMON            8\n",
       "INDEPENDENT    8677\n",
       "TJJD              5\n",
       "TSD/TSBVI         2\n",
       "Name: District Type, dtype: int64"
      ]
     },
     "execution_count": 17,
     "metadata": {},
     "output_type": "execute_result"
    }
   ],
   "source": [
    "school_desc_df.head()\n",
    "school_desc_df_grp=school_desc_df.groupby('District Type')\n",
    "\n",
    "school_desc_df_grp['District Type'].count()"
   ]
  },
  {
   "cell_type": "code",
   "execution_count": null,
   "metadata": {},
   "outputs": [],
   "source": []
  }
 ],
 "metadata": {
  "kernelspec": {
   "display_name": "Python 3",
   "language": "python",
   "name": "python3"
  },
  "language_info": {
   "codemirror_mode": {
    "name": "ipython",
    "version": 3
   },
   "file_extension": ".py",
   "mimetype": "text/x-python",
   "name": "python",
   "nbconvert_exporter": "python",
   "pygments_lexer": "ipython3",
   "version": "3.7.3"
  }
 },
 "nbformat": 4,
 "nbformat_minor": 2
}
