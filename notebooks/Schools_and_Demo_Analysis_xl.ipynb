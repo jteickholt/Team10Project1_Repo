{
 "cells": [
  {
   "cell_type": "markdown",
   "metadata": {},
   "source": [
    "# School Project Analysis \n",
    "\n",
    "This analysis showed income and poverty level can influence parents decision on what type of school they will send their children. The results on education category isn't show significant difference for parents on school choice. "
   ]
  },
  {
   "cell_type": "code",
   "execution_count": 34,
   "metadata": {},
   "outputs": [],
   "source": [
    "# import dependencies\n",
    "import pandas as pd\n",
    "import os\n",
    "from matplotlib import pyplot as plt\n",
    "import numpy as np\n",
    "import scipy.stats as stats"
   ]
  },
  {
   "cell_type": "code",
   "execution_count": 35,
   "metadata": {},
   "outputs": [
    {
     "data": {
      "text/plain": [
       "33120"
      ]
     },
     "execution_count": 35,
     "metadata": {},
     "output_type": "execute_result"
    }
   ],
   "source": [
    "# Read and coonvert csv files to data frame\n",
    "file1 = os.path.join(\"Resources\", \"AllStudentsGrade5_edit.csv\")\n",
    "file2 = os.path.join(\"Resources\", \"census_demo.csv\")\n",
    "file1_df = pd.read_csv(file1, encoding=\"ISO-8859-1\")\n",
    "file2_df = pd.read_csv(file2, encoding=\"ISO-8859-1\")\n",
    "\n",
    "# Check the length of the files to knowing the number of rows on each file\n",
    "len(file1_df)\n",
    "len(file2_df)"
   ]
  },
  {
   "cell_type": "code",
   "execution_count": 36,
   "metadata": {},
   "outputs": [
    {
     "data": {
      "text/plain": [
       "4326"
      ]
     },
     "execution_count": 36,
     "metadata": {},
     "output_type": "execute_result"
    }
   ],
   "source": [
    "# Combine those 2 files by merging file1 at the left side of file2\n",
    "merge_table = pd.merge(file1_df, file2_df, on=\"Zipcode\", how=\"left\")\n",
    "len(merge_table)"
   ]
  },
  {
   "cell_type": "code",
   "execution_count": 37,
   "metadata": {},
   "outputs": [
    {
     "data": {
      "text/html": [
       "<div>\n",
       "<style scoped>\n",
       "    .dataframe tbody tr th:only-of-type {\n",
       "        vertical-align: middle;\n",
       "    }\n",
       "\n",
       "    .dataframe tbody tr th {\n",
       "        vertical-align: top;\n",
       "    }\n",
       "\n",
       "    .dataframe thead th {\n",
       "        text-align: right;\n",
       "    }\n",
       "</style>\n",
       "<table border=\"1\" class=\"dataframe\">\n",
       "  <thead>\n",
       "    <tr style=\"text-align: right;\">\n",
       "      <th></th>\n",
       "      <th>CAMPUS</th>\n",
       "      <th>DNAME</th>\n",
       "      <th>CNAME</th>\n",
       "      <th>GRADE</th>\n",
       "      <th>District Type</th>\n",
       "      <th>School Site Street Address</th>\n",
       "      <th>School Site City</th>\n",
       "      <th>Zipcode</th>\n",
       "      <th>Below Grade Level</th>\n",
       "      <th>Approach Grade Level</th>\n",
       "      <th>Meet Grade Level</th>\n",
       "      <th>Master Grade Level</th>\n",
       "      <th>Income Below 75K</th>\n",
       "      <th>Income Over 100K</th>\n",
       "      <th>High School Diploma</th>\n",
       "      <th>Master Degree</th>\n",
       "      <th>Poverty Family</th>\n",
       "      <th>Non Poverty Family</th>\n",
       "    </tr>\n",
       "  </thead>\n",
       "  <tbody>\n",
       "    <tr>\n",
       "      <th>0</th>\n",
       "      <td>1902103</td>\n",
       "      <td>CAYUGA ISD</td>\n",
       "      <td>CAYUGA ELEM.</td>\n",
       "      <td>5</td>\n",
       "      <td>INDEPENDENT</td>\n",
       "      <td>17750 N US HWY 287</td>\n",
       "      <td>TENNESSEE COLONY</td>\n",
       "      <td>75861.0</td>\n",
       "      <td>4.0</td>\n",
       "      <td>44.0</td>\n",
       "      <td>41.0</td>\n",
       "      <td>29.0</td>\n",
       "      <td>0.0</td>\n",
       "      <td>0.0</td>\n",
       "      <td>1132.0</td>\n",
       "      <td>45.0</td>\n",
       "      <td>0.0</td>\n",
       "      <td>192.0</td>\n",
       "    </tr>\n",
       "    <tr>\n",
       "      <th>1</th>\n",
       "      <td>1903102</td>\n",
       "      <td>ELKHART ISD</td>\n",
       "      <td>ELKHART INTERME</td>\n",
       "      <td>5</td>\n",
       "      <td>INDEPENDENT</td>\n",
       "      <td>301 E PARKER ST</td>\n",
       "      <td>ELKHART</td>\n",
       "      <td>75839.0</td>\n",
       "      <td>3.0</td>\n",
       "      <td>80.0</td>\n",
       "      <td>65.0</td>\n",
       "      <td>43.0</td>\n",
       "      <td>12.0</td>\n",
       "      <td>0.0</td>\n",
       "      <td>1123.0</td>\n",
       "      <td>125.0</td>\n",
       "      <td>48.0</td>\n",
       "      <td>601.0</td>\n",
       "    </tr>\n",
       "    <tr>\n",
       "      <th>2</th>\n",
       "      <td>1904102</td>\n",
       "      <td>FRANKSTON ISD</td>\n",
       "      <td>FRANKSTON ELEM.</td>\n",
       "      <td>5</td>\n",
       "      <td>INDEPENDENT</td>\n",
       "      <td>100 PERRY ST</td>\n",
       "      <td>FRANKSTON</td>\n",
       "      <td>75763.0</td>\n",
       "      <td>7.0</td>\n",
       "      <td>53.0</td>\n",
       "      <td>40.0</td>\n",
       "      <td>26.0</td>\n",
       "      <td>0.0</td>\n",
       "      <td>0.0</td>\n",
       "      <td>1341.0</td>\n",
       "      <td>278.0</td>\n",
       "      <td>131.0</td>\n",
       "      <td>582.0</td>\n",
       "    </tr>\n",
       "    <tr>\n",
       "      <th>3</th>\n",
       "      <td>1906102</td>\n",
       "      <td>NECHES ISD</td>\n",
       "      <td>NECHES ELEM.</td>\n",
       "      <td>5</td>\n",
       "      <td>INDEPENDENT</td>\n",
       "      <td>3055 FM 2574</td>\n",
       "      <td>PALESTINE</td>\n",
       "      <td>75803.0</td>\n",
       "      <td>1.0</td>\n",
       "      <td>23.0</td>\n",
       "      <td>15.0</td>\n",
       "      <td>10.0</td>\n",
       "      <td>53.0</td>\n",
       "      <td>0.0</td>\n",
       "      <td>4501.0</td>\n",
       "      <td>501.0</td>\n",
       "      <td>136.0</td>\n",
       "      <td>2279.0</td>\n",
       "    </tr>\n",
       "    <tr>\n",
       "      <th>4</th>\n",
       "      <td>1907110</td>\n",
       "      <td>PALESTINE ISD</td>\n",
       "      <td>STORY INTERMEDI</td>\n",
       "      <td>5</td>\n",
       "      <td>INDEPENDENT</td>\n",
       "      <td>5300 S LOOP 256</td>\n",
       "      <td>PALESTINE</td>\n",
       "      <td>75801.0</td>\n",
       "      <td>58.0</td>\n",
       "      <td>185.0</td>\n",
       "      <td>106.0</td>\n",
       "      <td>51.0</td>\n",
       "      <td>0.0</td>\n",
       "      <td>0.0</td>\n",
       "      <td>2441.0</td>\n",
       "      <td>545.0</td>\n",
       "      <td>43.0</td>\n",
       "      <td>1334.0</td>\n",
       "    </tr>\n",
       "  </tbody>\n",
       "</table>\n",
       "</div>"
      ],
      "text/plain": [
       "    CAMPUS          DNAME            CNAME  GRADE District Type  \\\n",
       "0  1902103     CAYUGA ISD     CAYUGA ELEM.      5   INDEPENDENT   \n",
       "1  1903102    ELKHART ISD  ELKHART INTERME      5   INDEPENDENT   \n",
       "2  1904102  FRANKSTON ISD  FRANKSTON ELEM.      5   INDEPENDENT   \n",
       "3  1906102     NECHES ISD     NECHES ELEM.      5   INDEPENDENT   \n",
       "4  1907110  PALESTINE ISD  STORY INTERMEDI      5   INDEPENDENT   \n",
       "\n",
       "  School Site Street Address  School Site City  Zipcode  Below Grade Level  \\\n",
       "0         17750 N US HWY 287  TENNESSEE COLONY  75861.0                4.0   \n",
       "1            301 E PARKER ST           ELKHART  75839.0                3.0   \n",
       "2               100 PERRY ST         FRANKSTON  75763.0                7.0   \n",
       "3               3055 FM 2574         PALESTINE  75803.0                1.0   \n",
       "4            5300 S LOOP 256         PALESTINE  75801.0               58.0   \n",
       "\n",
       "   Approach Grade Level  Meet Grade Level  Master Grade Level  \\\n",
       "0                  44.0              41.0                29.0   \n",
       "1                  80.0              65.0                43.0   \n",
       "2                  53.0              40.0                26.0   \n",
       "3                  23.0              15.0                10.0   \n",
       "4                 185.0             106.0                51.0   \n",
       "\n",
       "   Income Below 75K  Income Over 100K  High School Diploma  Master Degree  \\\n",
       "0               0.0               0.0               1132.0           45.0   \n",
       "1              12.0               0.0               1123.0          125.0   \n",
       "2               0.0               0.0               1341.0          278.0   \n",
       "3              53.0               0.0               4501.0          501.0   \n",
       "4               0.0               0.0               2441.0          545.0   \n",
       "\n",
       "   Poverty Family  Non Poverty Family  \n",
       "0             0.0               192.0  \n",
       "1            48.0               601.0  \n",
       "2           131.0               582.0  \n",
       "3           136.0              2279.0  \n",
       "4            43.0              1334.0  "
      ]
     },
     "execution_count": 37,
     "metadata": {},
     "output_type": "execute_result"
    }
   ],
   "source": [
    "# Display the combined dataframe and check the table headers\n",
    "merge_table.head()"
   ]
  },
  {
   "cell_type": "code",
   "execution_count": 38,
   "metadata": {},
   "outputs": [],
   "source": [
    "# Export file as a CSV, without the Pandas index, but with the header\n",
    "output_file = os.path.join(\"Output\", \"Grade5_TXdemo.csv\")\n",
    "merge_table.to_csv(output_file, index=False, header=True)"
   ]
  },
  {
   "cell_type": "code",
   "execution_count": 39,
   "metadata": {},
   "outputs": [
    {
     "data": {
      "text/plain": [
       "Index(['CAMPUS', 'DNAME', 'CNAME', 'GRADE', 'District Type',\n",
       "       'School Site Street Address', 'School Site City', 'Zipcode',\n",
       "       'Below Grade Level', 'Approach Grade Level', 'Meet Grade Level',\n",
       "       'Master Grade Level', 'Income Below 75K', 'Income Over 100K',\n",
       "       'High School Diploma', 'Master Degree', 'Poverty Family',\n",
       "       'Non Poverty Family'],\n",
       "      dtype='object')"
      ]
     },
     "execution_count": 39,
     "metadata": {},
     "output_type": "execute_result"
    }
   ],
   "source": [
    "# List out the columns header for reorganizing the file\n",
    "merge_table.columns"
   ]
  },
  {
   "cell_type": "code",
   "execution_count": 40,
   "metadata": {},
   "outputs": [],
   "source": [
    "# Add 2 new columns for number of students that below and passed STAAR test \n",
    "merge_table['Below Grade'] = (merge_table['Below Grade Level'] + merge_table['Approach Grade Level'])\n",
    "merge_table['Pass Grade'] = (merge_table['Meet Grade Level'] + merge_table['Master Grade Level'])"
   ]
  },
  {
   "cell_type": "code",
   "execution_count": 41,
   "metadata": {},
   "outputs": [
    {
     "data": {
      "text/html": [
       "<div>\n",
       "<style scoped>\n",
       "    .dataframe tbody tr th:only-of-type {\n",
       "        vertical-align: middle;\n",
       "    }\n",
       "\n",
       "    .dataframe tbody tr th {\n",
       "        vertical-align: top;\n",
       "    }\n",
       "\n",
       "    .dataframe thead th {\n",
       "        text-align: right;\n",
       "    }\n",
       "</style>\n",
       "<table border=\"1\" class=\"dataframe\">\n",
       "  <thead>\n",
       "    <tr style=\"text-align: right;\">\n",
       "      <th></th>\n",
       "      <th>District Type</th>\n",
       "      <th>Below Grade</th>\n",
       "      <th>Pass Grade</th>\n",
       "      <th>Income Below 75K</th>\n",
       "      <th>Income Over 100K</th>\n",
       "      <th>High School Diploma</th>\n",
       "      <th>Master Degree</th>\n",
       "      <th>Poverty Family</th>\n",
       "      <th>Non Poverty Family</th>\n",
       "    </tr>\n",
       "  </thead>\n",
       "  <tbody>\n",
       "    <tr>\n",
       "      <th>0</th>\n",
       "      <td>INDEPENDENT</td>\n",
       "      <td>48.0</td>\n",
       "      <td>70.0</td>\n",
       "      <td>0.0</td>\n",
       "      <td>0.0</td>\n",
       "      <td>1132.0</td>\n",
       "      <td>45.0</td>\n",
       "      <td>0.0</td>\n",
       "      <td>192.0</td>\n",
       "    </tr>\n",
       "    <tr>\n",
       "      <th>1</th>\n",
       "      <td>INDEPENDENT</td>\n",
       "      <td>83.0</td>\n",
       "      <td>108.0</td>\n",
       "      <td>12.0</td>\n",
       "      <td>0.0</td>\n",
       "      <td>1123.0</td>\n",
       "      <td>125.0</td>\n",
       "      <td>48.0</td>\n",
       "      <td>601.0</td>\n",
       "    </tr>\n",
       "    <tr>\n",
       "      <th>2</th>\n",
       "      <td>INDEPENDENT</td>\n",
       "      <td>60.0</td>\n",
       "      <td>66.0</td>\n",
       "      <td>0.0</td>\n",
       "      <td>0.0</td>\n",
       "      <td>1341.0</td>\n",
       "      <td>278.0</td>\n",
       "      <td>131.0</td>\n",
       "      <td>582.0</td>\n",
       "    </tr>\n",
       "    <tr>\n",
       "      <th>3</th>\n",
       "      <td>INDEPENDENT</td>\n",
       "      <td>24.0</td>\n",
       "      <td>25.0</td>\n",
       "      <td>53.0</td>\n",
       "      <td>0.0</td>\n",
       "      <td>4501.0</td>\n",
       "      <td>501.0</td>\n",
       "      <td>136.0</td>\n",
       "      <td>2279.0</td>\n",
       "    </tr>\n",
       "    <tr>\n",
       "      <th>4</th>\n",
       "      <td>INDEPENDENT</td>\n",
       "      <td>243.0</td>\n",
       "      <td>157.0</td>\n",
       "      <td>0.0</td>\n",
       "      <td>0.0</td>\n",
       "      <td>2441.0</td>\n",
       "      <td>545.0</td>\n",
       "      <td>43.0</td>\n",
       "      <td>1334.0</td>\n",
       "    </tr>\n",
       "  </tbody>\n",
       "</table>\n",
       "</div>"
      ],
      "text/plain": [
       "  District Type  Below Grade  Pass Grade  Income Below 75K  Income Over 100K  \\\n",
       "0   INDEPENDENT         48.0        70.0               0.0               0.0   \n",
       "1   INDEPENDENT         83.0       108.0              12.0               0.0   \n",
       "2   INDEPENDENT         60.0        66.0               0.0               0.0   \n",
       "3   INDEPENDENT         24.0        25.0              53.0               0.0   \n",
       "4   INDEPENDENT        243.0       157.0               0.0               0.0   \n",
       "\n",
       "   High School Diploma  Master Degree  Poverty Family  Non Poverty Family  \n",
       "0               1132.0           45.0             0.0               192.0  \n",
       "1               1123.0          125.0            48.0               601.0  \n",
       "2               1341.0          278.0           131.0               582.0  \n",
       "3               4501.0          501.0           136.0              2279.0  \n",
       "4               2441.0          545.0            43.0              1334.0  "
      ]
     },
     "execution_count": 41,
     "metadata": {},
     "output_type": "execute_result"
    }
   ],
   "source": [
    "# Reorganize the df by filtering the columns that won't used in the analysis\n",
    "analysis_df = merge_table[['District Type',\n",
    "       'Below Grade', 'Pass Grade', 'Income Below 75K',\n",
    "       'Income Over 100K', 'High School Diploma',\n",
    "       'Master Degree', 'Poverty Family', 'Non Poverty Family']]\n",
    "analysis_df.head()"
   ]
  },
  {
   "cell_type": "code",
   "execution_count": 42,
   "metadata": {},
   "outputs": [],
   "source": [
    "# analysis_df = analysis_df.replace(0.0,np.NaN)"
   ]
  },
  {
   "cell_type": "code",
   "execution_count": 43,
   "metadata": {},
   "outputs": [],
   "source": [
    "# analysis_df = analysis_df.fillna(\"\")\n",
    "# analysis_df.head()"
   ]
  },
  {
   "cell_type": "code",
   "execution_count": 44,
   "metadata": {},
   "outputs": [],
   "source": [
    "# Replace none value with 0\n",
    "# analysis_df = analysis_df.fillna(0)"
   ]
  },
  {
   "cell_type": "code",
   "execution_count": 45,
   "metadata": {},
   "outputs": [],
   "source": [
    "# Separate two types of schools \n",
    "independ = analysis_df.loc[analysis_df['District Type'] == 'INDEPENDENT', :]\n",
    "charter = analysis_df.loc[analysis_df['District Type'] == 'CHARTER', :]"
   ]
  },
  {
   "cell_type": "code",
   "execution_count": 55,
   "metadata": {},
   "outputs": [
    {
     "data": {
      "text/plain": [
       "Ttest_indResult(statistic=2.3500222377212143, pvalue=0.019169723907682373)"
      ]
     },
     "execution_count": 55,
     "metadata": {},
     "output_type": "execute_result"
    }
   ],
   "source": [
    "# Using t-test to evaluate difference between ISD and Charter schools on those demo that related to school choice. Used 'omit' on nan_policy to handle \"NaN\" value. \n",
    "stats.ttest_ind(independ['Income Below 75K'], charter['Income Below 75K'], equal_var=False, nan_policy='omit')\n",
    "stats.ttest_ind(independ['Income Over 100K'], charter['Income Over 100K'], equal_var=False, nan_policy='omit')\n",
    "stats.ttest_ind(independ['High School Diploma'], charter['High School Diploma'], equal_var=False, nan_policy='omit')\n",
    "stats.ttest_ind(independ['Master Degree'], charter['Master Degree'], equal_var=False, nan_policy='omit')\n",
    "stats.ttest_ind(independ['Poverty Family'], charter['Poverty Family'], equal_var=False, nan_policy='omit')\n",
    "stats.ttest_ind(independ['Non Poverty Family'], charter['Non Poverty Family'], equal_var=False, nan_policy='omit')"
   ]
  },
  {
   "cell_type": "code",
   "execution_count": 56,
   "metadata": {},
   "outputs": [
    {
     "data": {
      "text/html": [
       "<div>\n",
       "<style scoped>\n",
       "    .dataframe tbody tr th:only-of-type {\n",
       "        vertical-align: middle;\n",
       "    }\n",
       "\n",
       "    .dataframe tbody tr th {\n",
       "        vertical-align: top;\n",
       "    }\n",
       "\n",
       "    .dataframe thead th {\n",
       "        text-align: right;\n",
       "    }\n",
       "</style>\n",
       "<table border=\"1\" class=\"dataframe\">\n",
       "  <thead>\n",
       "    <tr style=\"text-align: right;\">\n",
       "      <th></th>\n",
       "      <th>ISD vs Charter</th>\n",
       "      <th>Income &lt; 75K</th>\n",
       "      <th>Income &gt; 100K</th>\n",
       "      <th>High School Diploma</th>\n",
       "      <th>Master Degree</th>\n",
       "      <th>Poverty Family</th>\n",
       "      <th>Non Poverty Family</th>\n",
       "    </tr>\n",
       "  </thead>\n",
       "  <tbody>\n",
       "    <tr>\n",
       "      <th>0</th>\n",
       "      <td>t-test score</td>\n",
       "      <td>0.0002</td>\n",
       "      <td>0.0023</td>\n",
       "      <td>1.3486</td>\n",
       "      <td>0.3379</td>\n",
       "      <td>0.0015</td>\n",
       "      <td>0.0192</td>\n",
       "    </tr>\n",
       "  </tbody>\n",
       "</table>\n",
       "</div>"
      ],
      "text/plain": [
       "  ISD vs Charter Income < 75K Income > 100K High School Diploma Master Degree  \\\n",
       "0   t-test score       0.0002        0.0023              1.3486        0.3379   \n",
       "\n",
       "  Poverty Family Non Poverty Family  \n",
       "0         0.0015             0.0192  "
      ]
     },
     "execution_count": 56,
     "metadata": {},
     "output_type": "execute_result"
    }
   ],
   "source": [
    "# Create a date frame with the t-test score\n",
    "school_df = pd.DataFrame({'ISD vs Charter':['t-test score'],\n",
    "                         'Income < 75K':['0.0002'],\n",
    "                        'Income > 100K':['0.0023'], \n",
    "                        'High School Diploma':['1.3486'], \n",
    "                        'Master Degree':['0.3379'], \n",
    "                        'Poverty Family':['0.0015'], \n",
    "                        'Non Poverty Family':['0.0192']})\n",
    "school_df.head()"
   ]
  },
  {
   "cell_type": "code",
   "execution_count": 57,
   "metadata": {},
   "outputs": [],
   "source": [
    "# Converting the data frame to a csv file\n",
    "output_file = os.path.join(\"Output\", \"ISD_vs_Charter_demo_ttest.csv\")\n",
    "\n",
    "school_df.to_csv(output_file, index=False, header=True)"
   ]
  },
  {
   "cell_type": "code",
   "execution_count": null,
   "metadata": {},
   "outputs": [],
   "source": []
  }
 ],
 "metadata": {
  "anaconda-cloud": {},
  "kernelspec": {
   "display_name": "Python 3",
   "language": "python",
   "name": "python3"
  },
  "language_info": {
   "codemirror_mode": {
    "name": "ipython",
    "version": 3
   },
   "file_extension": ".py",
   "mimetype": "text/x-python",
   "name": "python",
   "nbconvert_exporter": "python",
   "pygments_lexer": "ipython3",
   "version": "3.7.3"
  }
 },
 "nbformat": 4,
 "nbformat_minor": 2
}
