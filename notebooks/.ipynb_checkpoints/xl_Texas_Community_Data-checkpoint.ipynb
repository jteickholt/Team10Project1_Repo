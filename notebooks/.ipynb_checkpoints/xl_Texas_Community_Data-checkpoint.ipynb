{
 "cells": [
  {
   "cell_type": "markdown",
   "metadata": {},
   "source": [
    "# Explore the Census Wrapper and API\n",
    "\n",
    "### Requirements\n",
    "* install the `census` module before getting started. To do this, run the following command from the command line: \n",
    "    * **`pip install census`**\n",
    "\n",
    "### Documentation\n",
    "* [Python wrapper for census API](https://github.com/datamade/census)\n",
    "* [List of available fields and labels](https://gist.github.com/afhaque/60558290d6efd892351c4b64e5c01e9b)\n",
    "* [Census API Docs](https://www.census.gov/data/developers/data-sets.html)\n"
   ]
  },
  {
   "cell_type": "markdown",
   "metadata": {},
   "source": [
    "### Import Dependencies"
   ]
  },
  {
   "cell_type": "code",
   "execution_count": 2,
   "metadata": {},
   "outputs": [
    {
     "ename": "ModuleNotFoundError",
     "evalue": "No module named 'config'",
     "output_type": "error",
     "traceback": [
      "\u001b[1;31m---------------------------------------------------------------------------\u001b[0m",
      "\u001b[1;31mModuleNotFoundError\u001b[0m                       Traceback (most recent call last)",
      "\u001b[1;32m<ipython-input-2-844559751c6e>\u001b[0m in \u001b[0;36m<module>\u001b[1;34m\u001b[0m\n\u001b[0;32m      4\u001b[0m \u001b[1;33m\u001b[0m\u001b[0m\n\u001b[0;32m      5\u001b[0m \u001b[1;31m# Census API Key\u001b[0m\u001b[1;33m\u001b[0m\u001b[1;33m\u001b[0m\u001b[1;33m\u001b[0m\u001b[0m\n\u001b[1;32m----> 6\u001b[1;33m \u001b[1;32mfrom\u001b[0m \u001b[0mconfig\u001b[0m \u001b[1;32mimport\u001b[0m \u001b[0mapi_key\u001b[0m\u001b[1;33m\u001b[0m\u001b[1;33m\u001b[0m\u001b[0m\n\u001b[0m\u001b[0;32m      7\u001b[0m \u001b[1;33m\u001b[0m\u001b[0m\n\u001b[0;32m      8\u001b[0m \u001b[1;31m# provide the api key and the year to establish a session\u001b[0m\u001b[1;33m\u001b[0m\u001b[1;33m\u001b[0m\u001b[1;33m\u001b[0m\u001b[0m\n",
      "\u001b[1;31mModuleNotFoundError\u001b[0m: No module named 'config'"
     ]
    }
   ],
   "source": [
    "import pandas as pd\n",
    "from census import Census #<-- Python wrapper for census API\n",
    "import requests\n",
    "\n",
    "# Census API Key\n",
    "from config import api_key\n",
    "\n",
    "# provide the api key and the year to establish a session\n",
    "c = Census(api_key, year=2013)\n",
    "\n",
    "# Set an option to allow up to 300 characters to print in each column\n",
    "pd.set_option('max_colwidth', 300)"
   ]
  },
  {
   "cell_type": "markdown",
   "metadata": {},
   "source": [
    "### Gather all of the available tables for the 2013 ACS5 data\n",
    "\n",
    "There are a number of convenient methods that the wrapper provides, but the standard function requires a tuple of field IDs that you're interested in, and a geographic reference stored in a dictionary as seen below. In this code, we're saying we want data for these 6 fields for ALL zip codes\n",
    "\n",
    "**NOTE:** We're using the `acs5` function set to pull our data from the 5-year American Consumer Survey."
   ]
  },
  {
   "cell_type": "code",
   "execution_count": 3,
   "metadata": {},
   "outputs": [
    {
     "ename": "NameError",
     "evalue": "name 'c' is not defined",
     "output_type": "error",
     "traceback": [
      "\u001b[1;31m---------------------------------------------------------------------------\u001b[0m",
      "\u001b[1;31mNameError\u001b[0m                                 Traceback (most recent call last)",
      "\u001b[1;32m<ipython-input-3-bd773426611b>\u001b[0m in \u001b[0;36m<module>\u001b[1;34m\u001b[0m\n\u001b[0;32m      1\u001b[0m \u001b[1;31m# query for all tables\u001b[0m\u001b[1;33m\u001b[0m\u001b[1;33m\u001b[0m\u001b[1;33m\u001b[0m\u001b[0m\n\u001b[1;32m----> 2\u001b[1;33m \u001b[0mtables\u001b[0m \u001b[1;33m=\u001b[0m \u001b[0mc\u001b[0m\u001b[1;33m.\u001b[0m\u001b[0macs5\u001b[0m\u001b[1;33m.\u001b[0m\u001b[0mtables\u001b[0m\u001b[1;33m(\u001b[0m\u001b[1;33m)\u001b[0m\u001b[1;33m\u001b[0m\u001b[1;33m\u001b[0m\u001b[0m\n\u001b[0m\u001b[0;32m      3\u001b[0m \u001b[1;33m\u001b[0m\u001b[0m\n\u001b[0;32m      4\u001b[0m \u001b[1;31m# The tables variable contains a list of dicts, so we can convert directly to a dataframe\u001b[0m\u001b[1;33m\u001b[0m\u001b[1;33m\u001b[0m\u001b[1;33m\u001b[0m\u001b[0m\n\u001b[0;32m      5\u001b[0m \u001b[0mtable_df\u001b[0m \u001b[1;33m=\u001b[0m \u001b[0mpd\u001b[0m\u001b[1;33m.\u001b[0m\u001b[0mDataFrame\u001b[0m\u001b[1;33m(\u001b[0m\u001b[0mtables\u001b[0m\u001b[1;33m)\u001b[0m\u001b[1;33m\u001b[0m\u001b[1;33m\u001b[0m\u001b[0m\n",
      "\u001b[1;31mNameError\u001b[0m: name 'c' is not defined"
     ]
    }
   ],
   "source": [
    "# query for all tables\n",
    "tables = c.acs5.tables()\n",
    "\n",
    "# The tables variable contains a list of dicts, so we can convert directly to a dataframe\n",
    "table_df = pd.DataFrame(tables)\n",
    "print(f\"Number of available tables: {len(table_df)}\")\n",
    "table_df.head()"
   ]
  },
  {
   "cell_type": "markdown",
   "metadata": {},
   "source": [
    "### Execute a string search against the *description* column to filter to an area of interest"
   ]
  },
  {
   "cell_type": "code",
   "execution_count": 13,
   "metadata": {},
   "outputs": [
    {
     "data": {
      "text/html": [
       "<div>\n",
       "<style scoped>\n",
       "    .dataframe tbody tr th:only-of-type {\n",
       "        vertical-align: middle;\n",
       "    }\n",
       "\n",
       "    .dataframe tbody tr th {\n",
       "        vertical-align: top;\n",
       "    }\n",
       "\n",
       "    .dataframe thead th {\n",
       "        text-align: right;\n",
       "    }\n",
       "</style>\n",
       "<table border=\"1\" class=\"dataframe\">\n",
       "  <thead>\n",
       "    <tr style=\"text-align: right;\">\n",
       "      <th></th>\n",
       "      <th>description</th>\n",
       "      <th>name</th>\n",
       "      <th>variables</th>\n",
       "    </tr>\n",
       "  </thead>\n",
       "  <tbody>\n",
       "    <tr>\n",
       "      <th>0</th>\n",
       "      <td>POVERTY STATUS IN THE PAST 12 MONTHS OF FAMILIES BY FAMILY TYPE BY SOCIAL SECURITY INCOME BY SUPPLEMENTAL SECURITY INCOME (SSI) AND CASH PUBLIC ASSISTANCE INCOME</td>\n",
       "      <td>B17015</td>\n",
       "      <td>https://api.census.gov/data/2013/acs/acs5/groups/B17015.json</td>\n",
       "    </tr>\n",
       "    <tr>\n",
       "      <th>2</th>\n",
       "      <td>POVERTY STATUS IN THE PAST 12 MONTHS OF FAMILIES BY FAMILY TYPE BY WORK EXPERIENCE OF HOUSEHOLDER AND SPOUSE</td>\n",
       "      <td>B17016</td>\n",
       "      <td>https://api.census.gov/data/2013/acs/acs5/groups/B17016.json</td>\n",
       "    </tr>\n",
       "    <tr>\n",
       "      <th>4</th>\n",
       "      <td>POVERTY STATUS IN THE PAST 12 MONTHS BY HOUSEHOLD TYPE BY AGE OF HOUSEHOLDER</td>\n",
       "      <td>B17017</td>\n",
       "      <td>https://api.census.gov/data/2013/acs/acs5/groups/B17017.json</td>\n",
       "    </tr>\n",
       "    <tr>\n",
       "      <th>6</th>\n",
       "      <td>POVERTY STATUS IN THE PAST 12 MONTHS OF FAMILIES BY HOUSEHOLD TYPE BY EDUCATIONAL ATTAINMENT OF HOUSEHOLDER</td>\n",
       "      <td>B17018</td>\n",
       "      <td>https://api.census.gov/data/2013/acs/acs5/groups/B17018.json</td>\n",
       "    </tr>\n",
       "    <tr>\n",
       "      <th>11</th>\n",
       "      <td>POVERTY STATUS IN THE PAST 12 MONTHS OF FAMILIES BY HOUSEHOLD TYPE BY NUMBER OF RELATED CHILDREN UNDER 18 YEARS</td>\n",
       "      <td>B17012</td>\n",
       "      <td>https://api.census.gov/data/2013/acs/acs5/groups/B17012.json</td>\n",
       "    </tr>\n",
       "    <tr>\n",
       "      <th>13</th>\n",
       "      <td>POVERTY STATUS IN THE PAST 12 MONTHS OF FAMILIES BY HOUSEHOLD TYPE BY NUMBER OF PERSONS IN FAMILY</td>\n",
       "      <td>B17013</td>\n",
       "      <td>https://api.census.gov/data/2013/acs/acs5/groups/B17013.json</td>\n",
       "    </tr>\n",
       "    <tr>\n",
       "      <th>15</th>\n",
       "      <td>POVERTY STATUS IN THE PAST 12 MONTHS OF FAMILIES BY HOUSEHOLD TYPE BY NUMBER OF WORKERS IN FAMILY</td>\n",
       "      <td>B17014</td>\n",
       "      <td>https://api.census.gov/data/2013/acs/acs5/groups/B17014.json</td>\n",
       "    </tr>\n",
       "    <tr>\n",
       "      <th>21</th>\n",
       "      <td>POVERTY STATUS IN THE PAST 12 MONTHS OF FAMILIES BY FAMILY TYPE BY PRESENCE OF RELATED CHILDREN UNDER 18 YEARS BY AGE OF RELATED CHILDREN</td>\n",
       "      <td>B17010</td>\n",
       "      <td>https://api.census.gov/data/2013/acs/acs5/groups/B17010.json</td>\n",
       "    </tr>\n",
       "    <tr>\n",
       "      <th>43</th>\n",
       "      <td>POVERTY STATUS IN THE PAST 12 MONTHS OF FAMILIES BY HOUSEHOLD TYPE BY TENURE</td>\n",
       "      <td>B17019</td>\n",
       "      <td>https://api.census.gov/data/2013/acs/acs5/groups/B17019.json</td>\n",
       "    </tr>\n",
       "    <tr>\n",
       "      <th>44</th>\n",
       "      <td>POVERTY STATUS IN THE PAST 12 MONTHS OF INDIVIDUALS BY SEX BY WORK EXPERIENCE</td>\n",
       "      <td>B17004</td>\n",
       "      <td>https://api.census.gov/data/2013/acs/acs5/groups/B17004.json</td>\n",
       "    </tr>\n",
       "    <tr>\n",
       "      <th>45</th>\n",
       "      <td>POVERTY STATUS IN THE PAST 12 MONTHS OF INDIVIDUALS BY SEX BY EMPLOYMENT STATUS</td>\n",
       "      <td>B17005</td>\n",
       "      <td>https://api.census.gov/data/2013/acs/acs5/groups/B17005.json</td>\n",
       "    </tr>\n",
       "    <tr>\n",
       "      <th>46</th>\n",
       "      <td>POVERTY STATUS IN THE PAST 12 MONTHS OF RELATED CHILDREN UNDER 18 YEARS BY FAMILY TYPE BY AGE OF RELATED CHILDREN UNDER 18 YEARS</td>\n",
       "      <td>B17006</td>\n",
       "      <td>https://api.census.gov/data/2013/acs/acs5/groups/B17006.json</td>\n",
       "    </tr>\n",
       "    <tr>\n",
       "      <th>47</th>\n",
       "      <td>POVERTY STATUS IN THE PAST 12 MONTHS OF UNRELATED INDIVIDUALS 15 YEARS AND OVER BY SEX BY AGE</td>\n",
       "      <td>B17007</td>\n",
       "      <td>https://api.census.gov/data/2013/acs/acs5/groups/B17007.json</td>\n",
       "    </tr>\n",
       "    <tr>\n",
       "      <th>48</th>\n",
       "      <td>GEOGRAPHICAL MOBILITY IN THE PAST YEAR BY POVERTY STATUS IN THE PAST 12 MONTHS FOR CURRENT RESIDENCE IN PUERTO RICO</td>\n",
       "      <td>B07012PR</td>\n",
       "      <td>https://api.census.gov/data/2013/acs/acs5/groups/B07012PR.json</td>\n",
       "    </tr>\n",
       "    <tr>\n",
       "      <th>50</th>\n",
       "      <td>POVERTY STATUS IN THE PAST 12 MONTHS BY SEX BY AGE</td>\n",
       "      <td>B17001</td>\n",
       "      <td>https://api.census.gov/data/2013/acs/acs5/groups/B17001.json</td>\n",
       "    </tr>\n",
       "  </tbody>\n",
       "</table>\n",
       "</div>"
      ],
      "text/plain": [
       "                                                                                                                                                          description  \\\n",
       "0   POVERTY STATUS IN THE PAST 12 MONTHS OF FAMILIES BY FAMILY TYPE BY SOCIAL SECURITY INCOME BY SUPPLEMENTAL SECURITY INCOME (SSI) AND CASH PUBLIC ASSISTANCE INCOME   \n",
       "2                                                        POVERTY STATUS IN THE PAST 12 MONTHS OF FAMILIES BY FAMILY TYPE BY WORK EXPERIENCE OF HOUSEHOLDER AND SPOUSE   \n",
       "4                                                                                        POVERTY STATUS IN THE PAST 12 MONTHS BY HOUSEHOLD TYPE BY AGE OF HOUSEHOLDER   \n",
       "6                                                         POVERTY STATUS IN THE PAST 12 MONTHS OF FAMILIES BY HOUSEHOLD TYPE BY EDUCATIONAL ATTAINMENT OF HOUSEHOLDER   \n",
       "11                                                    POVERTY STATUS IN THE PAST 12 MONTHS OF FAMILIES BY HOUSEHOLD TYPE BY NUMBER OF RELATED CHILDREN UNDER 18 YEARS   \n",
       "13                                                                  POVERTY STATUS IN THE PAST 12 MONTHS OF FAMILIES BY HOUSEHOLD TYPE BY NUMBER OF PERSONS IN FAMILY   \n",
       "15                                                                  POVERTY STATUS IN THE PAST 12 MONTHS OF FAMILIES BY HOUSEHOLD TYPE BY NUMBER OF WORKERS IN FAMILY   \n",
       "21                          POVERTY STATUS IN THE PAST 12 MONTHS OF FAMILIES BY FAMILY TYPE BY PRESENCE OF RELATED CHILDREN UNDER 18 YEARS BY AGE OF RELATED CHILDREN   \n",
       "43                                                                                       POVERTY STATUS IN THE PAST 12 MONTHS OF FAMILIES BY HOUSEHOLD TYPE BY TENURE   \n",
       "44                                                                                      POVERTY STATUS IN THE PAST 12 MONTHS OF INDIVIDUALS BY SEX BY WORK EXPERIENCE   \n",
       "45                                                                                    POVERTY STATUS IN THE PAST 12 MONTHS OF INDIVIDUALS BY SEX BY EMPLOYMENT STATUS   \n",
       "46                                   POVERTY STATUS IN THE PAST 12 MONTHS OF RELATED CHILDREN UNDER 18 YEARS BY FAMILY TYPE BY AGE OF RELATED CHILDREN UNDER 18 YEARS   \n",
       "47                                                                      POVERTY STATUS IN THE PAST 12 MONTHS OF UNRELATED INDIVIDUALS 15 YEARS AND OVER BY SEX BY AGE   \n",
       "48                                                GEOGRAPHICAL MOBILITY IN THE PAST YEAR BY POVERTY STATUS IN THE PAST 12 MONTHS FOR CURRENT RESIDENCE IN PUERTO RICO   \n",
       "50                                                                                                                 POVERTY STATUS IN THE PAST 12 MONTHS BY SEX BY AGE   \n",
       "\n",
       "        name                                                       variables  \n",
       "0     B17015    https://api.census.gov/data/2013/acs/acs5/groups/B17015.json  \n",
       "2     B17016    https://api.census.gov/data/2013/acs/acs5/groups/B17016.json  \n",
       "4     B17017    https://api.census.gov/data/2013/acs/acs5/groups/B17017.json  \n",
       "6     B17018    https://api.census.gov/data/2013/acs/acs5/groups/B17018.json  \n",
       "11    B17012    https://api.census.gov/data/2013/acs/acs5/groups/B17012.json  \n",
       "13    B17013    https://api.census.gov/data/2013/acs/acs5/groups/B17013.json  \n",
       "15    B17014    https://api.census.gov/data/2013/acs/acs5/groups/B17014.json  \n",
       "21    B17010    https://api.census.gov/data/2013/acs/acs5/groups/B17010.json  \n",
       "43    B17019    https://api.census.gov/data/2013/acs/acs5/groups/B17019.json  \n",
       "44    B17004    https://api.census.gov/data/2013/acs/acs5/groups/B17004.json  \n",
       "45    B17005    https://api.census.gov/data/2013/acs/acs5/groups/B17005.json  \n",
       "46    B17006    https://api.census.gov/data/2013/acs/acs5/groups/B17006.json  \n",
       "47    B17007    https://api.census.gov/data/2013/acs/acs5/groups/B17007.json  \n",
       "48  B07012PR  https://api.census.gov/data/2013/acs/acs5/groups/B07012PR.json  \n",
       "50    B17001    https://api.census.gov/data/2013/acs/acs5/groups/B17001.json  "
      ]
     },
     "execution_count": 13,
     "metadata": {},
     "output_type": "execute_result"
    }
   ],
   "source": [
    "table_df[table_df['description'].str.contains(\"POVERTY\")].head(15)\n",
    "# len(table_df[table_df['description'].str.contains(\"POVERTY\")])"
   ]
  },
  {
   "cell_type": "markdown",
   "metadata": {},
   "source": [
    "### Use the provided URL for your table of interest to retrieve all available variables\n",
    "\n",
    "Note: I couldn't find a wrapper function for this, so we're using requests to make the API call"
   ]
  },
  {
   "cell_type": "code",
   "execution_count": 1,
   "metadata": {},
   "outputs": [
    {
     "ename": "NameError",
     "evalue": "name 'table_df' is not defined",
     "output_type": "error",
     "traceback": [
      "\u001b[1;31m---------------------------------------------------------------------------\u001b[0m",
      "\u001b[1;31mNameError\u001b[0m                                 Traceback (most recent call last)",
      "\u001b[1;32m<ipython-input-1-24446ef771cf>\u001b[0m in \u001b[0;36m<module>\u001b[1;34m\u001b[0m\n\u001b[0;32m      3\u001b[0m \u001b[1;33m\u001b[0m\u001b[0m\n\u001b[0;32m      4\u001b[0m \u001b[1;31m# Capture the variables URL from the table_df\u001b[0m\u001b[1;33m\u001b[0m\u001b[1;33m\u001b[0m\u001b[1;33m\u001b[0m\u001b[0m\n\u001b[1;32m----> 5\u001b[1;33m \u001b[0murl\u001b[0m \u001b[1;33m=\u001b[0m \u001b[0mtable_df\u001b[0m\u001b[1;33m.\u001b[0m\u001b[0mloc\u001b[0m\u001b[1;33m[\u001b[0m\u001b[0mtable_df\u001b[0m\u001b[1;33m[\u001b[0m\u001b[1;34m'name'\u001b[0m\u001b[1;33m]\u001b[0m\u001b[1;33m==\u001b[0m\u001b[0mtable_id\u001b[0m\u001b[1;33m,\u001b[0m \u001b[1;34m'variables'\u001b[0m\u001b[1;33m]\u001b[0m\u001b[1;33m.\u001b[0m\u001b[0mvalues\u001b[0m\u001b[1;33m[\u001b[0m\u001b[1;36m0\u001b[0m\u001b[1;33m]\u001b[0m\u001b[1;33m\u001b[0m\u001b[1;33m\u001b[0m\u001b[0m\n\u001b[0m\u001b[0;32m      6\u001b[0m \u001b[1;33m\u001b[0m\u001b[0m\n\u001b[0;32m      7\u001b[0m \u001b[1;31m# Make the API call\u001b[0m\u001b[1;33m\u001b[0m\u001b[1;33m\u001b[0m\u001b[1;33m\u001b[0m\u001b[0m\n",
      "\u001b[1;31mNameError\u001b[0m: name 'table_df' is not defined"
     ]
    }
   ],
   "source": [
    "# Determine which table you're interested in\n",
    "table_id = 'B17001'\n",
    "\n",
    "# Capture the variables URL from the table_df\n",
    "url = table_df.loc[table_df['name']==table_id, 'variables'].values[0]\n",
    "\n",
    "# Make the API call\n",
    "response = requests.get(url).json()\n",
    "print(response)\n",
    "\n",
    "# convert the response to a DataFrame\n",
    "variables = pd.DataFrame(response['variables']).transpose()\n",
    "\n",
    "print(f\"Number of available variables: {len(variables)}\")\n",
    "variables.head(5)"
   ]
  },
  {
   "cell_type": "markdown",
   "metadata": {},
   "source": [
    "### Filter to only fields that will contain an integer\n",
    "\n",
    "Many of the available variables for a table are annotation (notes) fields that are typically null. Luckily the API lets us know what data type each variable is. We can use this to filter to only the ones that will contain an integer."
   ]
  },
  {
   "cell_type": "code",
   "execution_count": 20,
   "metadata": {},
   "outputs": [
    {
     "data": {
      "text/html": [
       "<div>\n",
       "<style scoped>\n",
       "    .dataframe tbody tr th:only-of-type {\n",
       "        vertical-align: middle;\n",
       "    }\n",
       "\n",
       "    .dataframe tbody tr th {\n",
       "        vertical-align: top;\n",
       "    }\n",
       "\n",
       "    .dataframe thead th {\n",
       "        text-align: right;\n",
       "    }\n",
       "</style>\n",
       "<table border=\"1\" class=\"dataframe\">\n",
       "  <thead>\n",
       "    <tr style=\"text-align: right;\">\n",
       "      <th></th>\n",
       "      <th>concept</th>\n",
       "      <th>group</th>\n",
       "      <th>label</th>\n",
       "      <th>limit</th>\n",
       "      <th>predicateOnly</th>\n",
       "      <th>predicateType</th>\n",
       "    </tr>\n",
       "  </thead>\n",
       "  <tbody>\n",
       "    <tr>\n",
       "      <th>B17001_050M</th>\n",
       "      <td>POVERTY STATUS IN THE PAST 12 MONTHS BY SEX BY AGE</td>\n",
       "      <td>B17001</td>\n",
       "      <td>Margin of Error!!Total!!Income in the past 12 months at or above poverty level!!Female!!12 to 14 years</td>\n",
       "      <td>0</td>\n",
       "      <td>True</td>\n",
       "      <td>int</td>\n",
       "    </tr>\n",
       "    <tr>\n",
       "      <th>B17001_050E</th>\n",
       "      <td>POVERTY STATUS IN THE PAST 12 MONTHS BY SEX BY AGE</td>\n",
       "      <td>B17001</td>\n",
       "      <td>Estimate!!Total!!Income in the past 12 months at or above poverty level!!Female!!12 to 14 years</td>\n",
       "      <td>0</td>\n",
       "      <td>True</td>\n",
       "      <td>int</td>\n",
       "    </tr>\n",
       "    <tr>\n",
       "      <th>B17001_051E</th>\n",
       "      <td>POVERTY STATUS IN THE PAST 12 MONTHS BY SEX BY AGE</td>\n",
       "      <td>B17001</td>\n",
       "      <td>Estimate!!Total!!Income in the past 12 months at or above poverty level!!Female!!15 years</td>\n",
       "      <td>0</td>\n",
       "      <td>True</td>\n",
       "      <td>int</td>\n",
       "    </tr>\n",
       "    <tr>\n",
       "      <th>B17001_051M</th>\n",
       "      <td>POVERTY STATUS IN THE PAST 12 MONTHS BY SEX BY AGE</td>\n",
       "      <td>B17001</td>\n",
       "      <td>Margin of Error!!Total!!Income in the past 12 months at or above poverty level!!Female!!15 years</td>\n",
       "      <td>0</td>\n",
       "      <td>True</td>\n",
       "      <td>int</td>\n",
       "    </tr>\n",
       "    <tr>\n",
       "      <th>B17001_052E</th>\n",
       "      <td>POVERTY STATUS IN THE PAST 12 MONTHS BY SEX BY AGE</td>\n",
       "      <td>B17001</td>\n",
       "      <td>Estimate!!Total!!Income in the past 12 months at or above poverty level!!Female!!16 and 17 years</td>\n",
       "      <td>0</td>\n",
       "      <td>True</td>\n",
       "      <td>int</td>\n",
       "    </tr>\n",
       "  </tbody>\n",
       "</table>\n",
       "</div>"
      ],
      "text/plain": [
       "                                                        concept   group  \\\n",
       "B17001_050M  POVERTY STATUS IN THE PAST 12 MONTHS BY SEX BY AGE  B17001   \n",
       "B17001_050E  POVERTY STATUS IN THE PAST 12 MONTHS BY SEX BY AGE  B17001   \n",
       "B17001_051E  POVERTY STATUS IN THE PAST 12 MONTHS BY SEX BY AGE  B17001   \n",
       "B17001_051M  POVERTY STATUS IN THE PAST 12 MONTHS BY SEX BY AGE  B17001   \n",
       "B17001_052E  POVERTY STATUS IN THE PAST 12 MONTHS BY SEX BY AGE  B17001   \n",
       "\n",
       "                                                                                                              label  \\\n",
       "B17001_050M  Margin of Error!!Total!!Income in the past 12 months at or above poverty level!!Female!!12 to 14 years   \n",
       "B17001_050E         Estimate!!Total!!Income in the past 12 months at or above poverty level!!Female!!12 to 14 years   \n",
       "B17001_051E               Estimate!!Total!!Income in the past 12 months at or above poverty level!!Female!!15 years   \n",
       "B17001_051M        Margin of Error!!Total!!Income in the past 12 months at or above poverty level!!Female!!15 years   \n",
       "B17001_052E        Estimate!!Total!!Income in the past 12 months at or above poverty level!!Female!!16 and 17 years   \n",
       "\n",
       "            limit predicateOnly predicateType  \n",
       "B17001_050M     0          True           int  \n",
       "B17001_050E     0          True           int  \n",
       "B17001_051E     0          True           int  \n",
       "B17001_051M     0          True           int  \n",
       "B17001_052E     0          True           int  "
      ]
     },
     "execution_count": 20,
     "metadata": {},
     "output_type": "execute_result"
    }
   ],
   "source": [
    "variables[variables['predicateType']=='int'].head()\n",
    "# len(variables[variables['predicateType']=='int'])"
   ]
  },
  {
   "cell_type": "markdown",
   "metadata": {},
   "source": [
    "### Use the wrapper to query for your selected fields\n",
    "\n",
    "Once we've identified which fields we want, we can begin to query for the actual content\n",
    "\n",
    "There are a number of convenient methods that the wrapper provides, but the standard `get()` function requires a tuple of field IDs, and a geographic reference stored in a dictionary as seen below. \n",
    "\n",
    "In this code, we're saying we want data for these 6 fields for ALL zip codes.\n"
   ]
  },
  {
   "cell_type": "code",
   "execution_count": 16,
   "metadata": {},
   "outputs": [
    {
     "data": {
      "text/plain": [
       "[{'NAME': 'ZCTA5 08518',\n",
       "  'B19013_001E': 74286.0,\n",
       "  'B01003_001E': 5217.0,\n",
       "  'B01002_001E': 41.5,\n",
       "  'B19301_001E': 33963.0,\n",
       "  'B17001_002E': 170.0,\n",
       "  'zip code tabulation area': '08518'},\n",
       " {'NAME': 'ZCTA5 08520',\n",
       "  'B19013_001E': 90293.0,\n",
       "  'B01003_001E': 27468.0,\n",
       "  'B01002_001E': 37.4,\n",
       "  'B19301_001E': 37175.0,\n",
       "  'B17001_002E': 1834.0,\n",
       "  'zip code tabulation area': '08520'},\n",
       " {'NAME': 'ZCTA5 08525',\n",
       "  'B19013_001E': 118656.0,\n",
       "  'B01003_001E': 4782.0,\n",
       "  'B01002_001E': 47.1,\n",
       "  'B19301_001E': 59848.0,\n",
       "  'B17001_002E': 43.0,\n",
       "  'zip code tabulation area': '08525'},\n",
       " {'NAME': 'ZCTA5 08527',\n",
       "  'B19013_001E': 88588.0,\n",
       "  'B01003_001E': 54867.0,\n",
       "  'B01002_001E': 42.2,\n",
       "  'B19301_001E': 37021.0,\n",
       "  'B17001_002E': 2191.0,\n",
       "  'zip code tabulation area': '08527'},\n",
       " {'NAME': 'ZCTA5 08528',\n",
       "  'B19013_001E': 58676.0,\n",
       "  'B01003_001E': 245.0,\n",
       "  'B01002_001E': 48.5,\n",
       "  'B19301_001E': 49117.0,\n",
       "  'B17001_002E': 0.0,\n",
       "  'zip code tabulation area': '08528'}]"
      ]
     },
     "execution_count": 16,
     "metadata": {},
     "output_type": "execute_result"
    }
   ],
   "source": [
    "census_data = c.acs5.get((\"NAME\", \"B19013_001E\", \"B01003_001E\", \"B01002_001E\", \"B19301_001E\", \"B17001_002E\"), \n",
    "                         {'for': 'zip code tabulation area:*'})\n",
    "\n",
    "census_data[:5]"
   ]
  },
  {
   "cell_type": "markdown",
   "metadata": {},
   "source": [
    "### Format the response"
   ]
  },
  {
   "cell_type": "code",
   "execution_count": 21,
   "metadata": {},
   "outputs": [
    {
     "name": "stdout",
     "output_type": "stream",
     "text": [
      "Total number of zip codes in response: 33120\n"
     ]
    },
    {
     "data": {
      "text/html": [
       "<div>\n",
       "<style scoped>\n",
       "    .dataframe tbody tr th:only-of-type {\n",
       "        vertical-align: middle;\n",
       "    }\n",
       "\n",
       "    .dataframe tbody tr th {\n",
       "        vertical-align: top;\n",
       "    }\n",
       "\n",
       "    .dataframe thead th {\n",
       "        text-align: right;\n",
       "    }\n",
       "</style>\n",
       "<table border=\"1\" class=\"dataframe\">\n",
       "  <thead>\n",
       "    <tr style=\"text-align: right;\">\n",
       "      <th></th>\n",
       "      <th>Zipcode</th>\n",
       "      <th>Population</th>\n",
       "      <th>Median Age</th>\n",
       "      <th>Household Income</th>\n",
       "      <th>Per Capita Income</th>\n",
       "      <th>Poverty Rate</th>\n",
       "    </tr>\n",
       "  </thead>\n",
       "  <tbody>\n",
       "    <tr>\n",
       "      <th>0</th>\n",
       "      <td>08518</td>\n",
       "      <td>5217.0</td>\n",
       "      <td>41.5</td>\n",
       "      <td>74286.0</td>\n",
       "      <td>33963.0</td>\n",
       "      <td>3.258578</td>\n",
       "    </tr>\n",
       "    <tr>\n",
       "      <th>1</th>\n",
       "      <td>08520</td>\n",
       "      <td>27468.0</td>\n",
       "      <td>37.4</td>\n",
       "      <td>90293.0</td>\n",
       "      <td>37175.0</td>\n",
       "      <td>6.676860</td>\n",
       "    </tr>\n",
       "    <tr>\n",
       "      <th>2</th>\n",
       "      <td>08525</td>\n",
       "      <td>4782.0</td>\n",
       "      <td>47.1</td>\n",
       "      <td>118656.0</td>\n",
       "      <td>59848.0</td>\n",
       "      <td>0.899205</td>\n",
       "    </tr>\n",
       "    <tr>\n",
       "      <th>3</th>\n",
       "      <td>08527</td>\n",
       "      <td>54867.0</td>\n",
       "      <td>42.2</td>\n",
       "      <td>88588.0</td>\n",
       "      <td>37021.0</td>\n",
       "      <td>3.993293</td>\n",
       "    </tr>\n",
       "    <tr>\n",
       "      <th>4</th>\n",
       "      <td>08528</td>\n",
       "      <td>245.0</td>\n",
       "      <td>48.5</td>\n",
       "      <td>58676.0</td>\n",
       "      <td>49117.0</td>\n",
       "      <td>0.000000</td>\n",
       "    </tr>\n",
       "  </tbody>\n",
       "</table>\n",
       "</div>"
      ],
      "text/plain": [
       "  Zipcode  Population  Median Age  Household Income  Per Capita Income  \\\n",
       "0   08518      5217.0        41.5           74286.0            33963.0   \n",
       "1   08520     27468.0        37.4           90293.0            37175.0   \n",
       "2   08525      4782.0        47.1          118656.0            59848.0   \n",
       "3   08527     54867.0        42.2           88588.0            37021.0   \n",
       "4   08528       245.0        48.5           58676.0            49117.0   \n",
       "\n",
       "   Poverty Rate  \n",
       "0      3.258578  \n",
       "1      6.676860  \n",
       "2      0.899205  \n",
       "3      3.993293  \n",
       "4      0.000000  "
      ]
     },
     "execution_count": 21,
     "metadata": {},
     "output_type": "execute_result"
    }
   ],
   "source": [
    "# Convert to DataFrame\n",
    "census_pd = pd.DataFrame(census_data)\n",
    "\n",
    "# Renaming columns to be more user-friendly\n",
    "census_pd = census_pd.rename(columns={\"B01003_001E\": \"Population\",\n",
    "                                      \"B01002_001E\": \"Median Age\",\n",
    "                                      \"B19013_001E\": \"Household Income\",\n",
    "                                      \"B19301_001E\": \"Per Capita Income\",\n",
    "                                      \"B17001_002E\": \"Poverty Count\",\n",
    "                                      \"NAME\": \"Name\", \n",
    "                                      \"zip code tabulation area\": \"Zipcode\"})\n",
    "\n",
    "# Since Census doesn't provide the poverty rate, we can divide Poverty Count by Population to calculate it ourselves\n",
    "census_pd[\"Poverty Rate\"] = 100 * census_pd[\"Poverty Count\"].astype(int) / census_pd[\"Population\"].astype(int)\n",
    "\n",
    "# Reorder columns and only include ones we're interested in for the final DataFrame\n",
    "census_pd = census_pd[[\"Zipcode\", \"Population\", \"Median Age\", \"Household Income\",\n",
    "                       \"Per Capita Income\", \"Poverty Rate\"]]\n",
    "\n",
    "# Visualize\n",
    "print(\"Total number of zip codes in response: \" + str(len(census_pd)))\n",
    "census_pd.head()"
   ]
  },
  {
   "cell_type": "markdown",
   "metadata": {},
   "source": [
    "### Save to a CSV"
   ]
  },
  {
   "cell_type": "code",
   "execution_count": null,
   "metadata": {},
   "outputs": [],
   "source": [
    "census_pd.to_csv(\"census_data.csv\", encoding=\"utf-8\", index=False)"
   ]
  }
 ],
 "metadata": {
  "kernelspec": {
   "display_name": "Python 3",
   "language": "python",
   "name": "python3"
  },
  "language_info": {
   "codemirror_mode": {
    "name": "ipython",
    "version": 3
   },
   "file_extension": ".py",
   "mimetype": "text/x-python",
   "name": "python",
   "nbconvert_exporter": "python",
   "pygments_lexer": "ipython3",
   "version": "3.7.3"
  }
 },
 "nbformat": 4,
 "nbformat_minor": 4
}
