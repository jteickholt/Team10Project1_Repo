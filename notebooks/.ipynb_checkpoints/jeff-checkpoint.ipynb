{
 "cells": [
  {
   "cell_type": "markdown",
   "metadata": {},
   "source": [
    "###  This analysis will dig into the school test data a little deeper.  It will narrow the scope by examing only the test results the 3rd grade.  I will examine the data to see if there are any geographical differences in schools having successful math test results.  I will also test the hypothesis that elementary schools that are near universities have higher math test success.  The reasoning here is that parents that have easy access to a university might be better educated and this may in turn result in their children doing better in school."
   ]
  },
  {
   "cell_type": "markdown",
   "metadata": {},
   "source": [
    "### Import dependencies"
   ]
  },
  {
   "cell_type": "code",
   "execution_count": 2,
   "metadata": {},
   "outputs": [],
   "source": [
    "# Dependencies and Setup\n",
    "import matplotlib.pyplot as plt\n",
    "import pandas as pd\n",
    "import numpy as np\n",
    "import requests\n",
    "import os\n",
    "\n",
    "#Adding datatime dependency to be able to get the current date each time code is run\n",
    "import datetime\n",
    "\n",
    "# Import API key\n",
    "# from api_keys import api_key\n",
    "\n",
    "# Incorporated citipy to determine city based on latitude and longitude\n",
    "from citipy import citipy\n",
    "\n",
    "#Import pprint\n",
    "from pprint import pprint\n",
    "\n",
    "# Google developer API key\n",
    "from config import gkey\n",
    "\n",
    "# import gmaps\n",
    "import gmaps\n",
    "\n",
    "# Access maps with unique API key\n",
    "gmaps.configure(api_key=gkey)\n",
    "\n",
    "# Import statistical functions\n",
    "from scipy.stats import sem, ttest_ind\n"
   ]
  },
  {
   "cell_type": "markdown",
   "metadata": {},
   "source": [
    "### Below I bring in the cleaned up Staar test data by school that Steve created.  I will focus on just Grade 3 to narrow the scope.  This data includes data on the math tests as well as the schools address.   The test data includes the number of students that were below grade level, approached grade level, met grade level and mastered grade level.  I will use this to define those the percentage of students in each schools that passed the math text.\n"
   ]
  },
  {
   "cell_type": "code",
   "execution_count": 7,
   "metadata": {},
   "outputs": [
    {
     "data": {
      "text/plain": [
       "CAMPUS                        4509\n",
       "DNAME                         4509\n",
       "CNAME                         4509\n",
       "GRADE                         4509\n",
       "District Type                 4509\n",
       "School Site Street Address    4509\n",
       "School Site City              4509\n",
       "School Site Zip               4509\n",
       "Below Grade Level             4509\n",
       "Approach Grade Level          4509\n",
       "Meet Grade Level              4509\n",
       "Master Grade Level            4509\n",
       "Full Address                  4509\n",
       "dtype: int64"
      ]
     },
     "execution_count": 7,
     "metadata": {},
     "output_type": "execute_result"
    }
   ],
   "source": [
    "#Import cleaned STAAR data for Grade 3.  \n",
    "\n",
    "grade3all_df = pd.read_csv('../cleandata/AllStudentsGrade3.csv', header=0)\n",
    "\n",
    "# I create a new field which combines street, city, state, and zipcode, which will be used to pass to Google\n",
    "# to retrieve latitude and longitude\n",
    "\n",
    "grade3all_df['Full Address'] = grade3all_df['School Site Street Address'] + ' ' + grade3all_df['School Site City'] + ',TX ' + grade3all_df['School Site Zip']\n",
    "\n",
    "# Examining the data, I found that there were 33 schools that did not have address data, because they were not incuded\n",
    "# in the original school level data file.  It is not clear why these were not included in the file.  In examining the location\n",
    "# of these schools, they appear to be spread across the state, so no obvious relationship between them.  Given the small number\n",
    "# of schools missing the address (25 out of over 4500 schools) and no obvious way of retieving this data, I have removed \n",
    "# these schools from the further analysis.  There were also 33 schools that did not have test score data.  Some of \n",
    "# these were the same schools that did not have address data, while others were not.  Given the small number of schools \n",
    "# and inability of retieving this data, these were removed. There were also some schools that were missing other data,\n",
    "# such as district name (DNAME), but had the data needed for the analysis, so they were left in the analysis.\n",
    "\n",
    "# Check for columns with NaN\n",
    "\n",
    "grade3all_df[grade3all_df.isna().any(axis=1)].count()\n",
    "\n",
    "# Drop rows that have NaN for just the columns of interest\n",
    "\n",
    "grade3all_df=grade3all_df.dropna(subset=['Meet Grade Level','Master Grade Level', 'Full Address'])\n",
    "grade3all_df.count()\n",
    "\n"
   ]
  },
  {
   "cell_type": "markdown",
   "metadata": {},
   "source": [
    "###  This next section passes the school address to the Google Geocode API to retrieve the latitude and longitude of each school. The API call takes a long time to run for all schools and incurs cost. So, I used a small subset to develop my later analysis. Once I had the analysis finalized, I ran the API call for all schools and output it to a csv file that can be read back in for further analysis. I then reset the code so it would only look at a small subset and commented out the code that output the data. This way the API call can be tested, without taking a lot of time."
   ]
  },
  {
   "cell_type": "code",
   "execution_count": 8,
   "metadata": {},
   "outputs": [],
   "source": [
    "\n",
    "# create lists to hold latitudes and longitudes\n",
    "lats = []\n",
    "lngs = []\n",
    "\n",
    "# Create columns to hold Latitude and Longitude\n",
    "grade3all_df['Latitude']=''\n",
    "grade3all_df['Longitude']=''\n",
    "\n",
    "# Create a subset for testing. Note that I commented out the line below and ran for the whole\n",
    "#list of schools. I outputed the results to a csv file to use in the analysis below.\n",
    "grade3all_df = grade3all_df[:5]\n",
    "\n",
    "\n",
    "# Iterate over the rows of the dataframe and pass the address to the API and retried latitude and longitude\n",
    "for index, row in grade3all_df.iterrows():\n",
    "    address = grade3all_df.loc[index, 'Full Address']\n",
    "    school = grade3all_df.loc[index, 'CAMPUS']\n",
    "    # Build the endpoint URL, request the data and convert to JSON\n",
    "    target_url = ('https://maps.googleapis.com/maps/api/geocode/json?address={0}&key={1}').format(address, gkey)\n",
    "    \n",
    "    response = requests.get(target_url)\n",
    " \n",
    "    response_json = response.json()\n",
    "\n",
    "    # Included some exception handling as there were just a few (10) that did not returen a latitude/Longitude\n",
    "    # It isn't clear why as an examination of these showed addresses that looked appropriate\n",
    "    # and doing a search on the address in the website found them.\n",
    "    try:\n",
    "        grade3all_df.loc[index,'Latitude'] = response_json[\"results\"][0][\"geometry\"][\"location\"][\"lat\"]\n",
    "        grade3all_df.loc[index,'Longitude'] = response_json[\"results\"][0][\"geometry\"][\"location\"][\"lng\"]\n",
    "    except IndexError:\n",
    "        print(f\"Problem with school {school} and address {address}\")\n",
    "    \n",
    "\n",
    "# Output the data with latitude and longitude, so I won't have to run this time consuming API request all the time \n",
    "# Commented this out after running so not to overwrite csv file\n",
    "# grade3all_df.to_csv('../cleandata/grade3_geodata.csv')    \n"
   ]
  },
  {
   "cell_type": "markdown",
   "metadata": {},
   "source": [
    "### Below read in the csv file that contains all the schools along with latitude and longitude"
   ]
  },
  {
   "cell_type": "code",
   "execution_count": 4,
   "metadata": {},
   "outputs": [
    {
     "data": {
      "text/plain": [
       "4499"
      ]
     },
     "execution_count": 4,
     "metadata": {},
     "output_type": "execute_result"
    }
   ],
   "source": [
    "grade3all_df=pd.read_csv('../cleandata/grade3_geodata.csv')\n",
    "\n",
    "# Here I will drop the 10 schools that had no latitude or longitude.  These are discussed in previous cell\n",
    "grade3all_df=grade3all_df.dropna(subset=['Latitude','Longitude'])\n",
    "len(grade3all_df)\n"
   ]
  },
  {
   "cell_type": "markdown",
   "metadata": {},
   "source": [
    "### Below I define the % Pass as the number of students that met or mastered grade level divided by the total number of students"
   ]
  },
  {
   "cell_type": "code",
   "execution_count": 5,
   "metadata": {},
   "outputs": [],
   "source": [
    "# Define the % passing score as the total that meet or master grade level divided by total students\n",
    "\n",
    "grade3all_df['Total Students'] = grade3all_df['Below Grade Level'] + grade3all_df['Approach Grade Level'] + grade3all_df['Meet Grade Level'] + grade3all_df['Master Grade Level'] \n",
    "grade3all_df[\"% Pass\"] = 100*(grade3all_df['Meet Grade Level'] + grade3all_df['Master Grade Level'])/grade3all_df['Total Students']\n",
    "\n"
   ]
  },
  {
   "cell_type": "markdown",
   "metadata": {},
   "source": [
    "### In this next section, I will identify the top 25 schools and 25 bottom schools based on the % Pass variable\n",
    "### These are then plotted on a gmap with the top schools colored green and the bottom colored red."
   ]
  },
  {
   "cell_type": "code",
   "execution_count": 12,
   "metadata": {},
   "outputs": [
    {
     "data": {
      "text/plain": [
       "<Figure size 432x288 with 0 Axes>"
      ]
     },
     "metadata": {},
     "output_type": "display_data"
    }
   ],
   "source": [
    "# Sort by descending % Pass and then create new datafram with just the top 25 schools\n",
    "grade3all_df=grade3all_df.sort_values(by='% Pass', ascending=False)\n",
    "grade3top_df=grade3all_df[:25]\n",
    "\n",
    "# Now grab the lowest 25 which will be at the bottom of the sorted list\n",
    "grade3bottom_df=grade3all_df[(len(grade3all_df)-25):]\n",
    "\n",
    "\n",
    "# Here I plot the top schools in terms of passing percent on a map\n",
    "\n",
    "fig=gmaps.figure()\n",
    "\n",
    "# Combine list of lats and lngs into list of tuples to create coordinates to be passed to the figure\n",
    "\n",
    "topcoordinates = tuple(zip(grade3top_df['Latitude'], grade3top_df['Longitude']))\n",
    "botcoordinates = tuple(zip(grade3bottom_df['Latitude'], grade3bottom_df['Longitude']))\n",
    "\n",
    "# Create a symbol layers using our coordinates of the top and bottom schools\n",
    "# The top schools will be colored green and the bottom schools will be colored red\n",
    "symbols1 = gmaps.symbol_layer(topcoordinates, fill_color='green', stroke_color='green') \n",
    "symbols2 = gmaps.symbol_layer(botcoordinates, fill_color='red', stroke_color='red') \n",
    "\n",
    "# Add the layers to the map\n",
    "fig.add_layer(symbols1)\n",
    "fig.add_layer(symbols2)\n",
    "\n",
    "# display the figure with the newly added layers\n",
    "fig\n",
    "\n",
    "# plt.savefig('../reports/SchoolsGMAP.png')\n"
   ]
  },
  {
   "cell_type": "code",
   "execution_count": 68,
   "metadata": {},
   "outputs": [
    {
     "data": {
      "text/plain": [
       "<Figure size 432x288 with 0 Axes>"
      ]
     },
     "metadata": {},
     "output_type": "display_data"
    }
   ],
   "source": []
  },
  {
   "cell_type": "markdown",
   "metadata": {},
   "source": [
    "# In the next cell, I define four quadrants of Texas (ie. NW, NE, SW, SE)\n",
    "### These are defined by comparing the latitide/longitude for each school to the geographical center of texas\n"
   ]
  },
  {
   "cell_type": "code",
   "execution_count": 6,
   "metadata": {},
   "outputs": [],
   "source": [
    "#define the latititude and longitude of the geographical center of Texas\n",
    "\n",
    "centerlat=31.3915\n",
    "centerlng=-99.1707\n",
    "\n",
    "# Create column in dataframe to hold the quadrant\n",
    "\n",
    "grade3all_df['Quadrant']=''\n",
    "\n",
    "# Iterate over the rows in the dataframe and used nested if statement to define geographical quadrant\n",
    "# geographical center of Texas\n",
    "\n",
    "for index, row in grade3all_df.iterrows():\n",
    "    if grade3all_df.loc[index,'Latitude'] > centerlat:\n",
    "        if grade3all_df.loc[index,'Longitude'] > centerlng:\n",
    "            grade3all_df.loc[index,'Quadrant']='NE'\n",
    "        else:\n",
    "            grade3all_df.loc[index,'Quadrant']='NW'\n",
    "    else:\n",
    "        if grade3all_df.loc[index,'Longitude'] > centerlng:\n",
    "            grade3all_df.loc[index,'Quadrant']='SE'\n",
    "        else:\n",
    "            grade3all_df.loc[index,'Quadrant']='SW'\n",
    "                \n",
    "               \n",
    "    "
   ]
  },
  {
   "cell_type": "markdown",
   "metadata": {},
   "source": [
    "### In the next cell, I calculate the average % Pass by quadrant"
   ]
  },
  {
   "cell_type": "code",
   "execution_count": 7,
   "metadata": {},
   "outputs": [],
   "source": [
    "# Group by quadrant and calculate average \n",
    "quadrant_grp_df=grade3all_df.groupby(['Quadrant'])\n",
    "\n",
    "avgpass = quadrant_grp_df['% Pass'].mean()\n",
    "\n",
    "# Convert series to dataframe and reset index so quadrant can be used\n",
    "avgpass_df=avgpass.to_frame()\n",
    "avgpass_df=avgpass_df.reset_index()\n"
   ]
  },
  {
   "cell_type": "markdown",
   "metadata": {},
   "source": [
    "### The next cell created a barchart of the average % Pass by quadrant"
   ]
  },
  {
   "cell_type": "code",
   "execution_count": 8,
   "metadata": {},
   "outputs": [
    {
     "data": {
      "text/plain": [
       "(0, 100)"
      ]
     },
     "execution_count": 8,
     "metadata": {},
     "output_type": "execute_result"
    },
    {
     "data": {
      "image/png": "[encoded data removed]",
      "text/plain": [
       "<Figure size 432x288 with 1 Axes>"
      ]
     },
     "metadata": {
      "needs_background": "light"
     },
     "output_type": "display_data"
    }
   ],
   "source": [
    "# Define series to by plotted on barchart\n",
    "\n",
    "quadrant=avgpass_df['Quadrant']\n",
    "percpass=avgpass_df['% Pass']\n",
    "\n",
    "# Create bar chart of % Passing by Region\n",
    "\n",
    "fig, ax=plt.subplots()\n",
    "\n",
    "bar=plt.bar(x=quadrant, height=percpass)\n",
    "\n",
    "# Include Title and axis labeling\n",
    "plt.title('Average Percentage of Students Passing by Region')\n",
    "plt.xlabel('Region of Texas')\n",
    "plt.ylabel('% Passing')\n",
    "ax.set_xticks(['NE', 'NW', 'SE', 'SW'])\n",
    "ax.set_xticklabels(['Northeast', 'Northwest','Southeast','Southwest'])\n",
    "plt.ylim(0,100)\n"
   ]
  },
  {
   "cell_type": "markdown",
   "metadata": {},
   "source": [
    "### Now I create boxplot of the distribution of the % Pass by quadrant"
   ]
  },
  {
   "cell_type": "code",
   "execution_count": 9,
   "metadata": {},
   "outputs": [
    {
     "data": {
      "text/plain": [
       "Text(3.6, 80, 'Mean = 39.12')"
      ]
     },
     "execution_count": 9,
     "metadata": {},
     "output_type": "execute_result"
    },
    {
     "data": {
      "image/png": "[encoded data removed]",
      "text/plain": [
       "<Figure size 432x288 with 1 Axes>"
      ]
     },
     "metadata": {
      "needs_background": "light"
     },
     "output_type": "display_data"
    }
   ],
   "source": [
    "\n",
    "# Define series of % Pass for each quadrant\n",
    "northeast=grade3all_df['% Pass'][grade3all_df['Quadrant']=='NE']\n",
    "northwest=grade3all_df['% Pass'][grade3all_df['Quadrant']=='NW']\n",
    "southeast=grade3all_df['% Pass'][grade3all_df['Quadrant']=='SE']\n",
    "southwest=grade3all_df['% Pass'][grade3all_df['Quadrant']=='SW']\n",
    "\n",
    "len_ne=len(northeast)\n",
    "len_nw=len(northwest)\n",
    "len_se=len(southeast)\n",
    "len_sw=len(southwest)\n",
    "\n",
    "mean_ne = northeast.mean()\n",
    "mean_nw = northwest.mean()\n",
    "mean_se = southeast.mean()\n",
    "mean_sw = southwest.mean()\n",
    "\n",
    "# Create the boxplots for each region\n",
    "fig, ax=plt.subplots()\n",
    "\n",
    "plt.boxplot(northeast, positions=[1], patch_artist=True)\n",
    "plt.boxplot(northwest, positions=[2], patch_artist=True)\n",
    "plt.boxplot(southeast, positions=[3], patch_artist=True)\n",
    "plt.boxplot(southwest, positions=[4], patch_artist=True)\n",
    "\n",
    "# Add some labeling and title\n",
    "plt.title(\"Distribution of % of Students Passing in Each Region\")\n",
    "ax.set_xticklabels(['Northeast', 'Northwest','Southeast','Southwest'])\n",
    "plt.ylim(0,100)\n",
    "plt.xlabel('Region of Texas')\n",
    "plt.ylabel('% Passing')\n",
    "ax.text(0.6,85,f\"Schools = {len_ne}\")\n",
    "ax.text(1.6,85,f\"Schools = {len_nw}\")\n",
    "ax.text(2.6,85,f\"Schools = {len_se}\")\n",
    "ax.text(3.6,85,f\"Schools = {len_sw}\")\n",
    "ax.text(0.6,80,f\"Mean = {round(mean_ne,2)}\")\n",
    "ax.text(1.6,80,f\"Mean = {round(mean_nw,2)}\")\n",
    "ax.text(2.6,80,f\"Mean = {round(mean_se,2)}\")\n",
    "ax.text(3.6,80,f\"Mean = {round(mean_sw,2)}\")\n",
    "\n",
    "# plt.savefig('../reports/SchoolRegionBoxplot.png')"
   ]
  },
  {
   "cell_type": "code",
   "execution_count": 73,
   "metadata": {},
   "outputs": [
    {
     "data": {
      "text/plain": [
       "<Figure size 432x288 with 0 Axes>"
      ]
     },
     "metadata": {},
     "output_type": "display_data"
    }
   ],
   "source": []
  },
  {
   "cell_type": "markdown",
   "metadata": {},
   "source": [
    "### In the next cell, I will choose a random sample of 1000 schools and then use the latitude and longitude of each to do a Google Places search to identify if there is a university with 5 Kilometers from the school.  The reason for doign sampling was the API search can be very time consuming, so decided to work on smaller batch.\n",
    "### The hypothesis is that schools that are near universites may have higher scores, since the children's parents might be more educated, which would then result in their children being better students. "
   ]
  },
  {
   "cell_type": "code",
   "execution_count": 10,
   "metadata": {},
   "outputs": [
    {
     "name": "stderr",
     "output_type": "stream",
     "text": [
      "C:\\Users\\jeickholt\\Anaconda3\\lib\\site-packages\\ipykernel_launcher.py:19: SettingWithCopyWarning: \n",
      "A value is trying to be set on a copy of a slice from a DataFrame.\n",
      "Try using .loc[row_indexer,col_indexer] = value instead\n",
      "\n",
      "See the caveats in the documentation: http://pandas.pydata.org/pandas-docs/stable/indexing.html#indexing-view-versus-copy\n",
      "C:\\Users\\jeickholt\\Anaconda3\\lib\\site-packages\\pandas\\core\\indexing.py:543: SettingWithCopyWarning: \n",
      "A value is trying to be set on a copy of a slice from a DataFrame.\n",
      "Try using .loc[row_indexer,col_indexer] = value instead\n",
      "\n",
      "See the caveats in the documentation: http://pandas.pydata.org/pandas-docs/stable/indexing.html#indexing-view-versus-copy\n",
      "  self.obj[item] = s\n"
     ]
    }
   ],
   "source": [
    "# Create a random number between 1 and 5000 for each row (ie. school) in datatable\n",
    "grade3all_df['random']=np.random.randint(1,5000, (len(grade3all_df),1))\n",
    "\n",
    "# Sort the datatable by the random number.  This will put the schools in a random order\n",
    "grade3all_df.sort_values(by='random')\n",
    "\n",
    "# Take the first 1000 schools. Since they are in a random order, this will give a random sample\n",
    "# Note that I ran this code and output the results to a csv file for later use, so the full API\n",
    "# call would not have to be repeated.  I then commented this out and added the following line\n",
    "# which uses a much smaller set of data, so it can be run without taking too long\n",
    "# grade3random_df=grade3all_df[:1000]\n",
    "\n",
    "# This shorter version can be used for testing the API call\n",
    "# grade3random_df=grade3all_df[:10]\n",
    "\n",
    "\n",
    "#add columns to hold the results of a search for nearby universities\n",
    "\n",
    "grade3random_df['university'] = 0\n",
    "\n",
    "# define base url for goodle maps\n",
    "base_url = \"https://maps.googleapis.com/maps/api/place/nearbysearch/json\"\n",
    "\n",
    "# Iterate over rows in dataframe\n",
    "for index, row in grade3random_df.iterrows():\n",
    "\n",
    "    # define parameters for request\n",
    "    \n",
    "    # Define location string that holds cooridinates of school to be passed to google maps\n",
    "    location = str(grade3random_df.loc[index, 'Latitude']) + ',' + str(grade3random_df.loc[index,'Longitude'])\n",
    "    target_radius2=5000\n",
    "    type2='university'\n",
    "   \n",
    "    params1 = {\n",
    "    \"location\": location,\n",
    "    \"type\": type2,\n",
    "    \"radius\" : target_radius2,\n",
    "    \"key\": gkey,\n",
    "    }\n",
    "        \n",
    "    response = requests.get(base_url, params=params1)\n",
    "\n",
    "    response_json=response.json()\n",
    "    \n",
    "    # Check the status of the resonse.  If OK, it means that it found a university in the area\n",
    "    # and the university column is changed to 1\n",
    "    \n",
    "    univstatus=response_json['status']\n",
    "    if univstatus == \"OK\":\n",
    "        grade3random_df.loc[index, 'university'] = 1    \n",
    "        \n",
    "    \n",
    "# Output the results to a csv so they can be read back in and the API call doesn't need to be replaced\n",
    "# Once this file was output, I commented this next line out so it would not be overwritten\n",
    " \n",
    "# grade3random_df.to_csv('../cleandata/grade3_univdata.csv')\n"
   ]
  },
  {
   "cell_type": "markdown",
   "metadata": {},
   "source": [
    "### Read in the csv file that was saved"
   ]
  },
  {
   "cell_type": "code",
   "execution_count": 11,
   "metadata": {},
   "outputs": [
    {
     "data": {
      "text/plain": [
       "1000"
      ]
     },
     "execution_count": 11,
     "metadata": {},
     "output_type": "execute_result"
    }
   ],
   "source": [
    "grade3random_df = pd.read_csv('../cleandata/grade3_univdata.csv')\n",
    "len(grade3random_df)"
   ]
  },
  {
   "cell_type": "markdown",
   "metadata": {},
   "source": [
    "### In the next cell, I create a boxplot of the distribtion of % Pass for schools that are not near a university and schools that are near a university. I also do a ttest to compare the two groups and include the p-value on the plot\n",
    "### Note that I accidentally wrote over the original random sample of 1000 that I output to the csv file above, so I had to create a new sample of 1000 to write out to the csv, so the chart actually looks different than in the presentation"
   ]
  },
  {
   "cell_type": "code",
   "execution_count": 15,
   "metadata": {},
   "outputs": [
    {
     "name": "stdout",
     "output_type": "stream",
     "text": [
      "The t-statisic is -1.690514423406638 and the p-value is 0.0916602450632831\n"
     ]
    },
    {
     "data": {
      "image/png": "[encoded data removed]",
      "text/plain": [
       "<Figure size 432x288 with 1 Axes>"
      ]
     },
     "metadata": {
      "needs_background": "light"
     },
     "output_type": "display_data"
    }
   ],
   "source": [
    "# Define series of % Pass for each quadrant\n",
    "universityno=grade3random_df['% Pass'][grade3random_df['university']==0]\n",
    "universityyes=grade3random_df['% Pass'][grade3random_df['university']== 1]\n",
    "\n",
    "# Define number of schools that are or are not near a university \n",
    "lenno=len(universityno)\n",
    "lenyes=len(universityyes)\n",
    "meanno=universityno.mean()\n",
    "meanyes=universityyes.mean() \n",
    "\n",
    "# Calculate the t-statistic and p-value\n",
    "(t_stat, p) = ttest_ind(universityno, universityyes, equal_var=False)\n",
    "\n",
    "print(f\"The t-statisic is {t_stat} and the p-value is {p}\")\n",
    "\n",
    "# Create the boxplots for each region\n",
    "fig, ax=plt.subplots()\n",
    "\n",
    "plt.boxplot(universityno, positions=[1], patch_artist=True)\n",
    "plt.boxplot(universityyes, positions=[2], patch_artist=True)\n",
    "\n",
    "# Add some labeling and a title\n",
    "plt.title(\"% of Students Passing Based on Proximity to University\")\n",
    "ax.set_xticklabels(['No', 'Yes'])\n",
    "plt.ylim(0,80)\n",
    "plt.xlabel('University within 5 Kilometers')\n",
    "plt.ylabel('% Passing')\n",
    "ax.text(0.6,75,f\"Number of Schools = {lenno}\")\n",
    "ax.text(1.6,75,f\"Number of Schools = {lenyes}\")\n",
    "ax.text(0.8, 70, f\"Mean = {round(meanno,2)}\")\n",
    "ax.text(1.8, 70, f\"Mean = {round(meanyes,2)}\")\n",
    "ax.text(2.05, 15, f\"p-value = {round(p,2)}\")\n",
    "\n",
    "plt.savefig('../reports/SchoolsUnivBoxPlot.png')"
   ]
  },
  {
   "cell_type": "code",
   "execution_count": null,
   "metadata": {},
   "outputs": [],
   "source": []
  }
 ],
 "metadata": {
  "kernelspec": {
   "display_name": "Python 3",
   "language": "python",
   "name": "python3"
  },
  "language_info": {
   "codemirror_mode": {
    "name": "ipython",
    "version": 3
   },
   "file_extension": ".py",
   "mimetype": "text/x-python",
   "name": "python",
   "nbconvert_exporter": "python",
   "pygments_lexer": "ipython3",
   "version": "3.7.3"
  }
 },
 "nbformat": 4,
 "nbformat_minor": 2
}
