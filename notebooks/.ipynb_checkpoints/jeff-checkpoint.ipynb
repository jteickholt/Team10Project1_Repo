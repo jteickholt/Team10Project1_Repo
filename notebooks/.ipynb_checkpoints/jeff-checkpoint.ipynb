{
 "cells": [
  {
   "cell_type": "markdown",
   "metadata": {},
   "source": [
    "###  This analysis will dig into the school test data a little deeper.  It will narrow the scope by examing only the test results the 3rd grade.  I will examine the data to see if there are any geographical differences in schools having successful math test results.  I will also test the hypothesis that elementary schools that are near universities have higher math test success.  The reasoning here is that parents that have easy access to a university might be better educated and this may in turn result in their children doing better in school."
   ]
  },
  {
   "cell_type": "markdown",
   "metadata": {},
   "source": [
    "### Import dependencies"
   ]
  },
  {
   "cell_type": "code",
<<<<<<< HEAD
<<<<<<< HEAD
   "execution_count": 1,
=======
   "execution_count": 3,
>>>>>>> 28edb1183c4a57c0d5080db64171a1ab2df3ed80
=======
   "execution_count": 6,
>>>>>>> a08b22c7b3b2ac7e7cca60cc787427da214a75f2
   "metadata": {},
   "outputs": [],
   "source": [
    "# Dependencies and Setup\n",
    "import matplotlib.pyplot as plt\n",
    "import pandas as pd\n",
    "import numpy as np\n",
    "import requests\n",
    "import os\n",
    "\n",
    "#Adding datatime dependency to be able to get the current date each time code is run\n",
    "import datetime\n",
    "\n",
    "# Import API key\n",
    "# from api_keys import api_key\n",
    "\n",
    "# Incorporated citipy to determine city based on latitude and longitude\n",
    "from citipy import citipy\n",
    "\n",
    "#Import pprint\n",
    "from pprint import pprint\n",
    "\n",
    "# Google developer API key\n",
    "from config import gkey\n",
    "\n",
    "# import gmaps\n",
    "import gmaps\n",
    "\n",
    "# Access maps with unique API key\n",
<<<<<<< HEAD
    "gmaps.configure(api_key=gkey)"
=======
    "gmaps.configure(api_key=gkey)\n",
    "\n",
    "# Import statistical functions\n",
    "from scipy.stats import sem, ttest_ind\n"
   ]
  },
  {
   "cell_type": "markdown",
   "metadata": {},
   "source": [
    "### Below I bring in the cleaned up Staar test data by school that Steve created.  I will focus on just Grade 3 to narrow the scope.  This data includes data on the math tests as well as the schools address.   The test data includes the number of students that were below grade level, approached grade level, met grade level and mastered grade level.  I will use this to define those the percentage of students in each schools that passed the math text.\n"
>>>>>>> 28edb1183c4a57c0d5080db64171a1ab2df3ed80
   ]
  },
  {
   "cell_type": "code",
<<<<<<< HEAD
   "execution_count": 2,
   "metadata": {
    "scrolled": true
   },
=======
   "execution_count": 7,
   "metadata": {},
>>>>>>> 28edb1183c4a57c0d5080db64171a1ab2df3ed80
   "outputs": [
    {
     "data": {
      "text/plain": [
<<<<<<< HEAD
       "list"
      ]
     },
     "execution_count": 2,
=======
       "CAMPUS                        4509\n",
       "DNAME                         4509\n",
       "CNAME                         4509\n",
       "GRADE                         4509\n",
       "District Type                 4509\n",
       "School Site Street Address    4509\n",
       "School Site City              4509\n",
       "School Site Zip               4509\n",
       "Below Grade Level             4509\n",
       "Approach Grade Level          4509\n",
       "Meet Grade Level              4509\n",
       "Master Grade Level            4509\n",
       "Full Address                  4509\n",
       "dtype: int64"
      ]
     },
     "execution_count": 7,
>>>>>>> 28edb1183c4a57c0d5080db64171a1ab2df3ed80
     "metadata": {},
     "output_type": "execute_result"
    }
   ],
   "source": [
<<<<<<< HEAD
    "#define path to data containing the address info for each school and read in to a dataframe\n",
    "path_to_file = os.path.join(\"..\" , \"rawdata\" ,\"SchoolDirectory2.csv\")\n",
    "\n",
    "school_desc_df = pd.read_csv(path_to_file)\n",
    "\n",
    "#just keep the fields that will be used\n",
    "school_desc_df=school_desc_df[['School Name','School Number', 'District Type', 'School Site Street Address', 'School Site City', 'School Site State', 'School Site Zip', 'Grade Range']]\n",
    "school_desc_df.head()\n",
    "\n",
    "#the school number was stored with an apostrophe in front (ie. '001902001), so removing the apostrophe and changing to numeric\n",
    "#to get rid of any zeroes stored in front of number\n",
    "school_desc_df['School Number 2']=school_desc_df['School Number'].str[1:]\n",
    "school_desc_df['School Number 2']=school_desc_df['School Number 2'].apply(pd.to_numeric)\n",
    "school_desc_df.head()\n",
    "\n",
    "#Create a list that contains the school number  and a full address that Combines the street address, \n",
    "# school, and zip code into a single field that can be passed to Google geocode\n",
    "fulladdress = []\n",
    "school_desc_df[['School Number', 'School Name', 'School Site Street Address', 'School Site City', 'School Site Zip']].head()\n",
    "\n",
    "# fulladdress=[school_desc_df['School Number 2'], [school_desc_df['School Site Street Address'] + ' ' + school_desc_df['School Site City'] + ',TX ' + school_desc_df['School Site Zip']]]\n",
    "fulladdress=school_desc_df['School Site Street Address'] + ' ' + school_desc_df['School Site City'] + ',TX ' + school_desc_df['School Site Zip']\n",
    "schoolnum=school_desc_df['School Number 2']\n",
    "\n",
    "fulladdress=fulladdress.tolist()\n",
    "schoolnum=schoolnum.tolist()\n",
    "type(fulladdress)"
=======
    "#Import cleaned STAAR data for Grade 3.  \n",
    "\n",
    "grade3all_df = pd.read_csv('../cleandata/AllStudentsGrade3.csv', header=0)\n",
    "\n",
    "# I create a new field which combines street, city, state, and zipcode, which will be used to pass to Google\n",
    "# to retrieve latitude and longitude\n",
    "\n",
    "grade3all_df['Full Address'] = grade3all_df['School Site Street Address'] + ' ' + grade3all_df['School Site City'] + ',TX ' + grade3all_df['School Site Zip']\n",
    "\n",
    "# Examining the data, I found that there were 33 schools that did not have address data, because they were not incuded\n",
    "# in the original school level data file.  It is not clear why these were not included in the file.  In examining the location\n",
    "# of these schools, they appear to be spread across the state, so no obvious relationship between them.  Given the small number\n",
    "# of schools missing the address (25 out of over 4500 schools) and no obvious way of retieving this data, I have removed \n",
    "# these schools from the further analysis.  There were also 33 schools that did not have test score data.  Some of \n",
    "# these were the same schools that did not have address data, while others were not.  Given the small number of schools \n",
    "# and inability of retieving this data, these were removed. There were also some schools that were missing other data,\n",
    "# such as district name (DNAME), but had the data needed for the analysis, so they were left in the analysis.\n",
    "\n",
    "# Check for columns with NaN\n",
    "\n",
    "grade3all_df[grade3all_df.isna().any(axis=1)].count()\n",
    "\n",
    "# Drop rows that have NaN for just the columns of interest\n",
    "\n",
    "grade3all_df=grade3all_df.dropna(subset=['Meet Grade Level','Master Grade Level', 'Full Address'])\n",
    "grade3all_df.count()\n",
    "\n"
   ]
  },
  {
   "cell_type": "markdown",
   "metadata": {},
   "source": [
<<<<<<< HEAD
    "###  This next section passes the school address  to the Google Geocode API to retrieve the latitude and longitude of each school.  The API call takes a long time to run for all schools and incurs cost.  So, I used a small subset to develop my later analysis.  Once I had the analysis finalized, I ran the API call for all schools and output it to a csv file that can be read back in for further analysis.  I then reset the code so it would only look at a small subset and commented out the code that output the data. This way the API call can be tested, without taking a lot of time."
>>>>>>> 28edb1183c4a57c0d5080db64171a1ab2df3ed80
=======
    "###  This next section passes the school address to the Google Geocode API to retrieve the latitude and longitude of each school. The API call takes a long time to run for all schools and incurs cost. So, I used a small subset to develop my later analysis. Once I had the analysis finalized, I ran the API call for all schools and output it to a csv file that can be read back in for further analysis. I then reset the code so it would only look at a small subset and commented out the code that output the data. This way the API call can be tested, without taking a lot of time."
>>>>>>> a08b22c7b3b2ac7e7cca60cc787427da214a75f2
   ]
  },
  {
   "cell_type": "code",
<<<<<<< HEAD
   "execution_count": 3,
   "metadata": {},
   "outputs": [],
   "source": [
    "\n",
    "# create lists to hold latitudes and longitudes\n",
    "lats = []\n",
    "lngs = []\n",
    "\n",
    "#for testing, just use a small subset of the addresses \n",
    "\n",
    "for address in fulladdress[0:5]:\n",
    "    # Build the endpoint URL\n",
=======
   "execution_count": 8,
   "metadata": {},
   "outputs": [],
   "source": [
    "\n",
    "# create lists to hold latitudes and longitudes\n",
    "lats = []\n",
    "lngs = []\n",
    "\n",
    "# Create columns to hold Latitude and Longitude\n",
    "grade3all_df['Latitude']=''\n",
    "grade3all_df['Longitude']=''\n",
    "\n",
    "# Create a subset for testing. Note that I commented out the line below and ran for the whole\n",
    "#list of schools. I outputed the results to a csv file to use in the analysis below.\n",
    "grade3all_df = grade3all_df[:5]\n",
    "\n",
    "\n",
    "# Iterate over the rows of the dataframe and pass the address to the API and retried latitude and longitude\n",
    "for index, row in grade3all_df.iterrows():\n",
    "    address = grade3all_df.loc[index, 'Full Address']\n",
    "    school = grade3all_df.loc[index, 'CAMPUS']\n",
    "    # Build the endpoint URL, request the data and convert to JSON\n",
>>>>>>> 28edb1183c4a57c0d5080db64171a1ab2df3ed80
    "    target_url = ('https://maps.googleapis.com/maps/api/geocode/json?address={0}&key={1}').format(address, gkey)\n",
    "    \n",
    "    response = requests.get(target_url)\n",
    " \n",
<<<<<<< HEAD
    "    # Convert the response to json\n",
    "    response_json = response.json()\n",
    "\n",
    "    # store lat/long data in variables that are then added to alist\n",
    "    lat = response_json[\"results\"][0][\"geometry\"][\"location\"][\"lat\"]\n",
    "    lats.append(lat)\n",
    "    \n",
    "    lng = response_json[\"results\"][0][\"geometry\"][\"location\"][\"lng\"]\n",
    "    lngs.append(lng)\n",
    "\n",
    "\n",
=======
    "    response_json = response.json()\n",
    "\n",
    "    # Included some exception handling as there were just a few (10) that did not returen a latitude/Longitude\n",
    "    # It isn't clear why as an examination of these showed addresses that looked appropriate\n",
    "    # and doing a search on the address in the website found them.\n",
    "    try:\n",
    "        grade3all_df.loc[index,'Latitude'] = response_json[\"results\"][0][\"geometry\"][\"location\"][\"lat\"]\n",
    "        grade3all_df.loc[index,'Longitude'] = response_json[\"results\"][0][\"geometry\"][\"location\"][\"lng\"]\n",
    "    except IndexError:\n",
    "        print(f\"Problem with school {school} and address {address}\")\n",
    "    \n",
    "\n",
    "# Output the data with latitude and longitude, so I won't have to run this time consuming API request all the time \n",
    "# Commented this out after running so not to overwrite csv file\n",
    "# grade3all_df.to_csv('../cleandata/grade3_geodata.csv')    \n"
   ]
  },
  {
   "cell_type": "markdown",
   "metadata": {},
   "source": [
    "### Below read in the csv file that contains all the schools along with latitude and longitude"
   ]
  },
  {
   "cell_type": "code",
   "execution_count": 9,
   "metadata": {},
   "outputs": [],
   "source": [
    "grade3all_df=pd.read_csv('../cleandata/grade3_geodata.csv')\n",
    "\n",
    "# Here I will drop the 10 schools that had no latitude or longitude.  These are discussed in previous cell\n",
    "grade3all_df=grade3all_df.dropna(subset=['Latitude','Longitude'])\n",
    "\n"
   ]
  },
  {
   "cell_type": "markdown",
   "metadata": {},
   "source": [
    "### Below I define the % Pass as the number of students that met or mastered grade level divided by the total number of students"
   ]
  },
  {
   "cell_type": "code",
   "execution_count": 10,
   "metadata": {},
   "outputs": [],
   "source": [
    "# Define the % passing score as the total that meet or master grade level divided by total students\n",
    "\n",
    "grade3all_df['Total Students'] = grade3all_df['Below Grade Level'] + grade3all_df['Approach Grade Level'] + grade3all_df['Meet Grade Level'] + grade3all_df['Master Grade Level'] \n",
    "grade3all_df[\"% Pass\"] = 100*(grade3all_df['Meet Grade Level'] + grade3all_df['Master Grade Level'])/grade3all_df['Total Students']\n",
>>>>>>> 28edb1183c4a57c0d5080db64171a1ab2df3ed80
    "\n"
   ]
  },
  {
<<<<<<< HEAD
   "cell_type": "code",
   "execution_count": 4,
=======
   "cell_type": "markdown",
   "metadata": {},
   "source": [
    "### In this next section, I will identify the top 25 schools and 25 bottom schools based on the % Pass variable\n",
    "### These are then plotted on a gmap with the top schools colored green and the bottom colored red."
   ]
  },
  {
   "cell_type": "code",
   "execution_count": 12,
>>>>>>> 28edb1183c4a57c0d5080db64171a1ab2df3ed80
   "metadata": {},
   "outputs": [
    {
     "data": {
<<<<<<< HEAD
      "application/vnd.jupyter.widget-view+json": {
<<<<<<< HEAD
       "model_id": "ff4160f6bcc8403184801a4fb78e2127",
=======
       "model_id": "0a5ca075acee45bdbb985640c7e8abe0",
>>>>>>> 28edb1183c4a57c0d5080db64171a1ab2df3ed80
       "version_major": 2,
       "version_minor": 0
      },
=======
>>>>>>> a08b22c7b3b2ac7e7cca60cc787427da214a75f2
      "text/plain": [
       "<Figure size 432x288 with 0 Axes>"
      ]
     },
     "metadata": {},
     "output_type": "display_data"
    }
   ],
   "source": [
<<<<<<< HEAD
    "fig=gmaps.figure()\n",
    "\n",
    "fig"
=======
    "# Sort by descending % Pass and then create new datafram with just the top 25 schools\n",
    "grade3all_df=grade3all_df.sort_values(by='% Pass', ascending=False)\n",
    "grade3top_df=grade3all_df[:25]\n",
    "\n",
    "# Now grab the lowest 25 which will be at the bottom of the sorted list\n",
    "grade3bottom_df=grade3all_df[(len(grade3all_df)-25):]\n",
    "\n",
    "\n",
    "# Here I plot the top schools in terms of passing percent on a map\n",
    "\n",
    "fig=gmaps.figure()\n",
    "\n",
    "# Combine list of lats and lngs into list of tuples to create coordinates to be passed to the figure\n",
    "\n",
    "topcoordinates = tuple(zip(grade3top_df['Latitude'], grade3top_df['Longitude']))\n",
    "botcoordinates = tuple(zip(grade3bottom_df['Latitude'], grade3bottom_df['Longitude']))\n",
    "\n",
    "# Create a symbol layers using our coordinates of the top and bottom schools\n",
    "# The top schools will be colored green and the bottom schools will be colored red\n",
    "symbols1 = gmaps.symbol_layer(topcoordinates, fill_color='green', stroke_color='green') \n",
    "symbols2 = gmaps.symbol_layer(botcoordinates, fill_color='red', stroke_color='red') \n",
    "\n",
    "# Add the layers to the map\n",
    "fig.add_layer(symbols1)\n",
    "fig.add_layer(symbols2)\n",
    "\n",
    "# display the figure with the newly added layers\n",
    "fig\n",
    "\n",
    "# plt.savefig('../reports/SchoolsGMAP.png')\n"
   ]
  },
  {
   "cell_type": "code",
   "execution_count": 68,
   "metadata": {},
   "outputs": [
    {
     "data": {
      "text/plain": [
       "<Figure size 432x288 with 0 Axes>"
      ]
     },
     "metadata": {},
     "output_type": "display_data"
    }
   ],
   "source": []
  },
  {
   "cell_type": "markdown",
   "metadata": {},
   "source": [
    "# In the next cell, I define four quadrants of Texas (ie. NW, NE, SW, SE)\n",
    "### These are defined by comparing the latitide/longitude for each school to the geographical center of texas\n"
>>>>>>> 28edb1183c4a57c0d5080db64171a1ab2df3ed80
   ]
  },
  {
   "cell_type": "code",
<<<<<<< HEAD
<<<<<<< HEAD
   "execution_count": 7,
   "metadata": {},
   "outputs": [
    {
     "name": "stdout",
     "output_type": "stream",
     "text": [
      "((31.9229638, -95.92387049999999), (31.9229638, -95.92387049999999), (31.9229638, -95.92387049999999), (31.6558007, -95.58306929999999), (31.7731815, -95.6398186))\n"
     ]
    },
    {
     "data": {
      "application/vnd.jupyter.widget-view+json": {
       "model_id": "ff4160f6bcc8403184801a4fb78e2127",
       "version_major": 2,
       "version_minor": 0
      },
      "text/plain": [
       "Figure(layout=FigureLayout(height='420px'))"
      ]
     },
     "metadata": {},
=======
   "execution_count": 30,
=======
   "execution_count": 13,
>>>>>>> a08b22c7b3b2ac7e7cca60cc787427da214a75f2
   "metadata": {},
   "outputs": [],
   "source": [
    "#define the latititude and longitude of the geographical center of Texas\n",
    "\n",
    "centerlat=31.3915\n",
    "centerlng=-99.1707\n",
    "\n",
    "# Create column in dataframe to hold the quadrant\n",
    "\n",
    "grade3all_df['Quadrant']=''\n",
    "\n",
    "# Iterate over the rows in the dataframe and used nested if statement to define geographical quadrant\n",
    "# geographical center of Texas\n",
    "\n",
    "for index, row in grade3all_df.iterrows():\n",
    "    if grade3all_df.loc[index,'Latitude'] > centerlat:\n",
    "        if grade3all_df.loc[index,'Longitude'] > centerlng:\n",
    "            grade3all_df.loc[index,'Quadrant']='NE'\n",
    "        else:\n",
    "            grade3all_df.loc[index,'Quadrant']='NW'\n",
    "    else:\n",
    "        if grade3all_df.loc[index,'Longitude'] > centerlng:\n",
    "            grade3all_df.loc[index,'Quadrant']='SE'\n",
    "        else:\n",
    "            grade3all_df.loc[index,'Quadrant']='SW'\n",
    "                \n",
    "               \n",
    "    "
   ]
  },
  {
   "cell_type": "markdown",
   "metadata": {},
   "source": [
    "### In the next cell, I calculate the average % Pass by quadrant"
   ]
  },
  {
   "cell_type": "code",
   "execution_count": 14,
   "metadata": {},
   "outputs": [],
   "source": [
    "# Group by quadrant and calculate average \n",
    "quadrant_grp_df=grade3all_df.groupby(['Quadrant'])\n",
    "\n",
    "avgpass = quadrant_grp_df['% Pass'].mean()\n",
    "\n",
    "# Convert series to dataframe and reset index so quadrant can be used\n",
    "avgpass_df=avgpass.to_frame()\n",
    "avgpass_df=avgpass_df.reset_index()\n"
   ]
  },
  {
   "cell_type": "markdown",
   "metadata": {},
   "source": [
    "### The next cell created a barchart of the average % Pass by quadrant"
   ]
  },
  {
   "cell_type": "code",
   "execution_count": 15,
   "metadata": {},
   "outputs": [
    {
     "data": {
      "text/plain": [
       "(0, 100)"
      ]
     },
     "execution_count": 15,
     "metadata": {},
     "output_type": "execute_result"
    },
    {
     "data": {
      "image/png": "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\n",
      "text/plain": [
       "<Figure size 432x288 with 1 Axes>"
      ]
     },
     "metadata": {
      "needs_background": "light"
     },
     "output_type": "display_data"
    }
   ],
   "source": [
    "# Define series to by plotted on barchart\n",
    "\n",
    "quadrant=avgpass_df['Quadrant']\n",
    "percpass=avgpass_df['% Pass']\n",
    "\n",
    "# Create bar chart of % Passing by Region\n",
    "\n",
    "fig, ax=plt.subplots()\n",
    "\n",
    "bar=plt.bar(x=quadrant, height=percpass)\n",
    "\n",
    "# Include Title and axis labeling\n",
    "plt.title('Average Percentage of Students Passing by Region')\n",
    "plt.xlabel('Region of Texas')\n",
    "plt.ylabel('% Passing')\n",
    "ax.set_xticks(['NE', 'NW', 'SE', 'SW'])\n",
    "ax.set_xticklabels(['Northeast', 'Northwest','Southeast','Southwest'])\n",
    "plt.ylim(0,100)\n"
   ]
  },
  {
   "cell_type": "markdown",
   "metadata": {},
   "source": [
    "### Now I create boxplot of the distribution of the % Pass by quadrant"
   ]
  },
  {
   "cell_type": "code",
   "execution_count": 17,
   "metadata": {},
   "outputs": [
    {
     "data": {
      "image/png": "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\n",
      "text/plain": [
       "<Figure size 432x288 with 1 Axes>"
      ]
     },
     "metadata": {
      "needs_background": "light"
     },
>>>>>>> 28edb1183c4a57c0d5080db64171a1ab2df3ed80
     "output_type": "display_data"
    }
   ],
   "source": [
<<<<<<< HEAD
    "# Combine list of lats and lngs into list of tuples\n",
    "coordinates=tuple(zip(lats,lngs))\n",
    "\n",
    "print(coordinates)\n",
    "\n",
    "# Create a marker layer using our coordinates\n",
    "markers = gmaps.marker_layer(coordinates)\n",
    "\n",
    "# Add the layer to the map\n",
    "fig.add_layer(markers)\n",
    "\n",
    "# display the figure with the newly added layer\n",
    "fig"
=======
    "\n",
    "# Define series of % Pass for each quadrant\n",
    "northeast=grade3all_df['% Pass'][grade3all_df['Quadrant']=='NE']\n",
    "northwest=grade3all_df['% Pass'][grade3all_df['Quadrant']=='NW']\n",
    "southeast=grade3all_df['% Pass'][grade3all_df['Quadrant']=='SE']\n",
    "southwest=grade3all_df['% Pass'][grade3all_df['Quadrant']=='SW']\n",
    "\n",
    "len_ne=len(northeast)\n",
    "len_nw=len(northwest)\n",
    "len_se=len(southeast)\n",
    "len_sw=len(southwest)\n",
    "\n",
    "mean_ne = northeast.mean()\n",
    "mean_nw = northwest.mean()\n",
    "mean_se = southeast.mean()\n",
    "mean_sw = southwest.mean()\n",
    "\n",
    "# Create the boxplots for each region\n",
    "fig, ax=plt.subplots()\n",
    "\n",
    "plt.boxplot(northeast, positions=[1], patch_artist=True)\n",
    "plt.boxplot(northwest, positions=[2], patch_artist=True)\n",
    "plt.boxplot(southeast, positions=[3], patch_artist=True)\n",
    "plt.boxplot(southwest, positions=[4], patch_artist=True)\n",
    "\n",
    "# Add some labeling and title\n",
    "plt.title(\"Distribution of % of Students Passing in Each Region\")\n",
    "ax.set_xticklabels(['Northeast', 'Northwest','Southeast','Southwest'])\n",
    "plt.ylim(0,100)\n",
    "plt.xlabel('Region of Texas')\n",
    "plt.ylabel('% Passing')\n",
    "ax.text(0.6,85,f\"Schools = {len_ne}\")\n",
    "ax.text(1.6,85,f\"Schools = {len_nw}\")\n",
    "ax.text(2.6,85,f\"Schools = {len_se}\")\n",
    "ax.text(3.6,85,f\"Schools = {len_sw}\")\n",
    "ax.text(0.6,80,f\"Mean = {round(mean_ne,2)}\")\n",
    "ax.text(1.6,80,f\"Mean = {round(mean_nw,2)}\")\n",
    "ax.text(2.6,80,f\"Mean = {round(mean_se,2)}\")\n",
    "ax.text(3.6,80,f\"Mean = {round(mean_sw,2)}\")\n",
    "\n",
    "# plt.savefig('../reports/SchoolRegionBoxplot.png')"
   ]
  },
  {
   "cell_type": "code",
   "execution_count": 73,
   "metadata": {},
   "outputs": [
    {
     "data": {
      "text/plain": [
       "<Figure size 432x288 with 0 Axes>"
      ]
     },
     "metadata": {},
     "output_type": "display_data"
    }
   ],
   "source": []
  },
  {
   "cell_type": "markdown",
   "metadata": {},
   "source": [
<<<<<<< HEAD
    "### In the next cell, I will use the latitude and longitude of each school and do a Google Places search to identify if there is a university with 5 Kilometers from the school.  The hypothesis is that schools that are near universites may have higher scores, since the children's parents might be more educated."
>>>>>>> 28edb1183c4a57c0d5080db64171a1ab2df3ed80
=======
    "### In the next cell, I will choose a random sample of 1000 schools and then use the latitude and longitude of each to do a Google Places search to identify if there is a university with 5 Kilometers from the school.  The reason for doign sampling was the API search can be very time consuming, so decided to work on smaller batch.\n",
    "### The hypothesis is that schools that are near universites may have higher scores, since the children's parents might be more educated, which would then result in their children being better students. "
>>>>>>> a08b22c7b3b2ac7e7cca60cc787427da214a75f2
   ]
  },
  {
   "cell_type": "code",
<<<<<<< HEAD
<<<<<<< HEAD
   "execution_count": 96,
   "metadata": {},
   "outputs": [
    {
     "data": {
      "text/html": [
       "<div>\n",
       "<style scoped>\n",
       "    .dataframe tbody tr th:only-of-type {\n",
       "        vertical-align: middle;\n",
       "    }\n",
       "\n",
       "    .dataframe tbody tr th {\n",
       "        vertical-align: top;\n",
       "    }\n",
       "\n",
       "    .dataframe thead th {\n",
       "        text-align: right;\n",
       "    }\n",
       "</style>\n",
       "<table border=\"1\" class=\"dataframe\">\n",
       "  <thead>\n",
       "    <tr style=\"text-align: right;\">\n",
       "      <th></th>\n",
       "      <th>schoolnun</th>\n",
       "      <th>fulladdress</th>\n",
       "      <th>latitude</th>\n",
       "      <th>longitude</th>\n",
       "    </tr>\n",
       "  </thead>\n",
       "  <tbody>\n",
       "    <tr>\n",
       "      <th>0</th>\n",
       "      <td>1902001</td>\n",
       "      <td>17750 N US HWY 287 TENNESSEE COLONY,TX 75861</td>\n",
       "      <td>31.9229638</td>\n",
       "      <td>-95.92387049999999</td>\n",
       "    </tr>\n",
       "    <tr>\n",
       "      <th>1</th>\n",
       "      <td>1902041</td>\n",
       "      <td>17750 N US HWY 287 TENNESSEE COLONY,TX 75861</td>\n",
       "      <td>31.9229638</td>\n",
       "      <td>-95.92387049999999</td>\n",
       "    </tr>\n",
       "    <tr>\n",
       "      <th>2</th>\n",
       "      <td>1902103</td>\n",
       "      <td>17750 N US HWY 287 TENNESSEE COLONY,TX 75861</td>\n",
       "      <td>31.9229638</td>\n",
       "      <td>-95.92387049999999</td>\n",
       "    </tr>\n",
       "    <tr>\n",
       "      <th>3</th>\n",
       "      <td>1903001</td>\n",
       "      <td>9002 S STATE HWY 19 ELKHART,TX 75839-9701</td>\n",
       "      <td>31.6558007</td>\n",
       "      <td>-95.58306929999999</td>\n",
       "    </tr>\n",
       "    <tr>\n",
       "      <th>4</th>\n",
       "      <td>1903002</td>\n",
       "      <td>420 W PALESTINE AVE PALESTINE,TX 75801</td>\n",
       "      <td>31.7731815</td>\n",
       "      <td>-95.6398186</td>\n",
       "    </tr>\n",
       "  </tbody>\n",
       "</table>\n",
       "</div>"
      ],
      "text/plain": [
       "  schoolnun                                   fulladdress    latitude  \\\n",
       "0   1902001  17750 N US HWY 287 TENNESSEE COLONY,TX 75861  31.9229638   \n",
       "1   1902041  17750 N US HWY 287 TENNESSEE COLONY,TX 75861  31.9229638   \n",
       "2   1902103  17750 N US HWY 287 TENNESSEE COLONY,TX 75861  31.9229638   \n",
       "3   1903001     9002 S STATE HWY 19 ELKHART,TX 75839-9701  31.6558007   \n",
       "4   1903002        420 W PALESTINE AVE PALESTINE,TX 75801  31.7731815   \n",
       "\n",
       "            longitude  \n",
       "0  -95.92387049999999  \n",
       "1  -95.92387049999999  \n",
       "2  -95.92387049999999  \n",
       "3  -95.58306929999999  \n",
       "4         -95.6398186  "
      ]
     },
     "execution_count": 96,
=======
   "execution_count": 34,
=======
   "execution_count": 18,
>>>>>>> a08b22c7b3b2ac7e7cca60cc787427da214a75f2
   "metadata": {},
   "outputs": [
    {
     "name": "stderr",
     "output_type": "stream",
     "text": [
      "C:\\Users\\jeickholt\\Anaconda3\\lib\\site-packages\\ipykernel_launcher.py:20: SettingWithCopyWarning: \n",
      "A value is trying to be set on a copy of a slice from a DataFrame.\n",
      "Try using .loc[row_indexer,col_indexer] = value instead\n",
      "\n",
      "See the caveats in the documentation: http://pandas.pydata.org/pandas-docs/stable/indexing.html#indexing-view-versus-copy\n",
      "C:\\Users\\jeickholt\\Anaconda3\\lib\\site-packages\\pandas\\core\\indexing.py:543: SettingWithCopyWarning: \n",
      "A value is trying to be set on a copy of a slice from a DataFrame.\n",
      "Try using .loc[row_indexer,col_indexer] = value instead\n",
      "\n",
      "See the caveats in the documentation: http://pandas.pydata.org/pandas-docs/stable/indexing.html#indexing-view-versus-copy\n",
      "  self.obj[item] = s\n"
     ]
<<<<<<< HEAD
    },
    {
     "data": {
      "text/plain": [
       "25"
      ]
     },
     "execution_count": 34,
>>>>>>> 28edb1183c4a57c0d5080db64171a1ab2df3ed80
     "metadata": {},
     "output_type": "execute_result"
    }
   ],
   "source": [
<<<<<<< HEAD
    "# create a data frame with schoolnum, full address at latitude and longitue\n",
    "# use a subset of the data to start with to test code\n",
    "schoolnumshort=schoolnum[0:5]\n",
    "fulladdressshort=fulladdress[0:5]\n",
    "\n",
    "location_df=pd.DataFrame(np.column_stack([schoolnumshort, fulladdressshort, lats, lngs]), \n",
    "                        columns=['schoolnun', 'fulladdress', 'latitude', 'longitude'])\n",
    "\n",
    "location_df.head()\n",
    "\n"
=======
    "#add columns to hold the results of a search for nearby universities\n",
=======
    }
   ],
   "source": [
    "# Create a random number between 1 and 5000 for each row (ie. school) in datatable\n",
    "grade3all_df['random']=np.random.randint(1,5000, (len(grade3all_df),1))\n",
    "\n",
    "# Sort the datatable by the random number.  This will put the schools in a random order\n",
    "grade3all_df.sort_values(by='random')\n",
>>>>>>> a08b22c7b3b2ac7e7cca60cc787427da214a75f2
    "\n",
    "# Take the first 1000 schools. Since they are in a random order, this will give a random sample\n",
    "# Note that I ran this code and output the results to a csv file for later use, so the full API\n",
    "# call would not have to be repeated.  I then commented this out and added the following line\n",
    "# which uses a much smaller set of data, so it can be run without taking too long\n",
    "# \n",
    "grade3random_df=grade3all_df[:1000]\n",
    "\n",
    "# This shorter version can be used for testing the API call\n",
    "grade3random_df=grade3all_df[:10]\n",
    "\n",
    "\n",
    "#add columns to hold the results of a search for nearby universities\n",
    "\n",
    "grade3random_df['university'] = 0\n",
    "\n",
    "# define base url for goodle maps\n",
    "base_url = \"https://maps.googleapis.com/maps/api/place/nearbysearch/json\"\n",
    "\n",
    "# Iterate over rows in dataframe\n",
    "for index, row in grade3random_df.iterrows():\n",
    "\n",
    "    # define parameters for request\n",
    "    \n",
    "    # Define location string that holds cooridinates of school to be passed to google maps\n",
    "    location = str(grade3random_df.loc[index, 'Latitude']) + ',' + str(grade3random_df.loc[index,'Longitude'])\n",
    "    target_radius2=5000\n",
    "    type2='university'\n",
    "   \n",
    "    params1 = {\n",
    "    \"location\": location,\n",
    "    \"type\": type2,\n",
    "    \"radius\" : target_radius2,\n",
    "    \"key\": gkey,\n",
    "    }\n",
    "        \n",
    "    response = requests.get(base_url, params=params1)\n",
    "\n",
    "    response_json=response.json()\n",
    "    \n",
    "    # Check the status of the resonse.  If OK, it means that it found a university in the area\n",
    "    # and the university column is changed to 1\n",
    "    \n",
    "    univstatus=response_json['status']\n",
    "    if univstatus == \"OK\":\n",
    "        grade3random_df.loc[index, 'university'] = 1    \n",
    "        \n",
    "    \n",
<<<<<<< HEAD
    "grade3all_df.to_csv('../cleandata/grade3_univdata.csv')\n",
    "len(grade3all_df)"
>>>>>>> 28edb1183c4a57c0d5080db64171a1ab2df3ed80
=======
    "# Output the results to a csv so they can be read back in and the API call doesn't need to be replaced\n",
    "# Once this file was output, I commented this next line out so it would not be overwritten\n",
    " \n",
    "# grade3random_df.to_csv('../cleandata/grade3_univdata.csv')\n"
   ]
  },
  {
   "cell_type": "markdown",
   "metadata": {},
   "source": [
    "### Read in the csv file that was saved"
>>>>>>> a08b22c7b3b2ac7e7cca60cc787427da214a75f2
   ]
  },
  {
   "cell_type": "code",
<<<<<<< HEAD
<<<<<<< HEAD
   "execution_count": null,
   "metadata": {},
   "outputs": [],
   "source": []
  },
  {
   "cell_type": "code",
   "execution_count": 102,
=======
   "execution_count": 35,
=======
   "execution_count": 19,
>>>>>>> a08b22c7b3b2ac7e7cca60cc787427da214a75f2
   "metadata": {},
   "outputs": [
    {
     "data": {
      "text/plain": [
       "25"
      ]
     },
     "execution_count": 19,
     "metadata": {},
     "output_type": "execute_result"
    }
   ],
   "source": [
    "grade3random_df = pd.read_csv('../cleandata/grade3_univdata.csv')\n",
    "len(grade3random_df)"
   ]
  },
  {
   "cell_type": "markdown",
   "metadata": {},
   "source": [
    "### In the next cell, I create a boxplot of the distribtion of % Pass for schools that are not near a university and schools that are near a university. I also do a ttest to compare the two groups and include the p-value on the plot"
   ]
  },
  {
   "cell_type": "code",
<<<<<<< HEAD
   "execution_count": 36,
>>>>>>> 28edb1183c4a57c0d5080db64171a1ab2df3ed80
=======
   "execution_count": 20,
>>>>>>> a08b22c7b3b2ac7e7cca60cc787427da214a75f2
   "metadata": {},
   "outputs": [
    {
     "name": "stdout",
     "output_type": "stream",
     "text": [
<<<<<<< HEAD
      "{'html_attributions': [],\n",
      " 'results': [{'geometry': {'location': {'lat': 31.7465031, 'lng': -95.6174582},\n",
      "                           'viewport': {'northeast': {'lat': 31.7477105302915,\n",
      "                                                      'lng': -95.6163372197085},\n",
      "                                        'southwest': {'lat': 31.7450125697085,\n",
      "                                                      'lng': -95.6190351802915}}},\n",
      "              'icon': 'https://maps.gstatic.com/mapfiles/place_api/icons/school-71.png',\n",
      "              'id': 'bb12a091882d3a55c6f872d27fe07aff015a3ed0',\n",
      "              'name': 'Christian Heritage Academy',\n",
      "              'place_id': 'ChIJ2wwdYkRkSIYRvWBUnbONfZI',\n",
      "              'plus_code': {'compound_code': 'P9WM+J2 Palestine, Texas, United '\n",
      "                                             'States',\n",
      "                            'global_code': '8636P9WM+J2'},\n",
      "              'rating': 4.2,\n",
      "              'reference': 'ChIJ2wwdYkRkSIYRvWBUnbONfZI',\n",
      "              'scope': 'GOOGLE',\n",
      "              'types': ['university', 'point_of_interest', 'establishment'],\n",
      "              'user_ratings_total': 6,\n",
      "              'vicinity': '1500 Crockett Road, Palestine'},\n",
      "             {'geometry': {'location': {'lat': 31.7964956,\n",
      "                                        'lng': -95.67622399999999},\n",
      "                           'viewport': {'northeast': {'lat': 31.7978444302915,\n",
      "                                                      'lng': -95.67487636970849},\n",
      "                                        'southwest': {'lat': 31.7951464697085,\n",
      "                                                      'lng': -95.67757433029149}}},\n",
      "              'icon': 'https://maps.gstatic.com/mapfiles/place_api/icons/school-71.png',\n",
      "              'id': '7f83ff77331abae7cb0171d19329235eaff0f6b6',\n",
      "              'name': 'Trinity Valley Community College',\n",
      "              'place_id': 'ChIJCRzARlZkSIYRUrBZUU6at2U',\n",
      "              'plus_code': {'compound_code': 'Q8WF+HG Palestine, Texas, United '\n",
      "                                             'States',\n",
      "                            'global_code': '8636Q8WF+HG'},\n",
      "              'rating': 3.8,\n",
      "              'reference': 'ChIJCRzARlZkSIYRUrBZUU6at2U',\n",
      "              'scope': 'GOOGLE',\n",
      "              'types': ['university', 'point_of_interest', 'establishment'],\n",
      "              'user_ratings_total': 4,\n",
      "              'vicinity': '2970 Texas 19, Palestine'},\n",
      "             {'geometry': {'location': {'lat': 31.7958905,\n",
      "                                        'lng': -95.67639410000001},\n",
      "                           'viewport': {'northeast': {'lat': 31.7972483302915,\n",
      "                                                      'lng': -95.6749295697085},\n",
      "                                        'southwest': {'lat': 31.7945503697085,\n",
      "                                                      'lng': -95.67762753029152}}},\n",
      "              'icon': 'https://maps.gstatic.com/mapfiles/place_api/icons/school-71.png',\n",
      "              'id': 'efd42d930bc9987cab2f2e2083bbc845ca213157',\n",
      "              'name': 'Anderson College Center',\n",
      "              'place_id': 'ChIJM3xncW1hSIYRDYlfwyM8FKU',\n",
      "              'plus_code': {'compound_code': 'Q8WF+9C Palestine, Texas, United '\n",
      "                                             'States',\n",
      "                            'global_code': '8636Q8WF+9C'},\n",
      "              'reference': 'ChIJM3xncW1hSIYRDYlfwyM8FKU',\n",
      "              'scope': 'GOOGLE',\n",
      "              'types': ['university', 'point_of_interest', 'establishment'],\n",
      "              'vicinity': '2970 Texas 19, Palestine'}],\n",
      " 'status': 'OK'}\n"
     ]
    }
   ],
   "source": [
    "#add columns to hold the results of a search for nearby ice cream shops and nearby universities\n",
    "\n",
    "location_df['icecream']=0\n",
    "location_df['university']=0\n",
    "\n",
    "# base url\n",
    "base_url = \"https://maps.googleapis.com/maps/api/place/nearbysearch/json\"\n",
    "\n",
    "for index, row in location_df.iterrows():\n",
    "    location=location_df.loc[index, 'latitude'] + ',' + location_df.loc[index,'longitude']\n",
    "    \n",
    "    # Search to see if there are any places that serve ice cream near each school    \n",
    "    target_radius=1000\n",
    "    type1='restaurant'\n",
    "    keyword1='ice cream'\n",
    "    \n",
    "    params1 = {\n",
    "    \"location\": location,\n",
    "    \"type\": type1,\n",
    "    \"radius\" : target_radius,\n",
    "    \"keyword\" : keyword1,\n",
    "    \"key\": gkey,\n",
    "    }\n",
    "        \n",
    "    response = requests.get(base_url, params=params1)\n",
    "\n",
    "    response_json=response.json()\n",
    "    icecreamstatus=response_json['status']\n",
    "\n",
    "    if icecreamstatus == \"OK\":\n",
    "        location_df.loc[index, 'icecream'] = 1\n",
    "        \n",
    "    # Search to see if there is a university near each school    \n",
    "    target_radius2=5000\n",
    "    type2='university'\n",
    "    \n",
    "    params1 = {\n",
    "    \"location\": location,\n",
    "    \"type\": type2,\n",
    "    \"radius\" : target_radius2,\n",
    "    \"key\": gkey,\n",
    "    }\n",
    "        \n",
    "    response = requests.get(base_url, params=params1)\n",
    "\n",
    "    response_json=response.json()\n",
    "    univstatus=response_json['status']\n",
    "\n",
    "    if univstatus == \"OK\":\n",
    "        location_df.loc[index, 'university'] = 1    \n",
    "        \n",
    "    \n",
    "    \n",
    "    \n",
    "#     # extract results\n",
    "#     results = response['results']\n",
    "    \n",
    "#     # Use exception handling in case any of our restaurants' attributes are missing\n",
    "#     # NOTE: if our code hits a KeyError or IndexError on ANY of the lines of code below, it will skip any unexecuted code and move to the next iteration\n",
    "#     try:\n",
    "#         print(f\"Closest {restr_type} restaurant is {results[0]['name']}.\")\n",
    "        \n",
    "#         types_df.loc[index, 'name'] = results[0]['name']\n",
    "#         types_df.loc[index, 'address'] = results[0]['vicinity']\n",
    "#         types_df.loc[index, 'price_level'] = results[0]['price_level']\n",
    "#         types_df.loc[index, 'rating'] = results[0]['rating']\n",
    "        \n",
    "#     except (KeyError, IndexError):\n",
    "#         print(\"Missing field/result... skipping.\")\n",
    "        \n",
    "#     print(\"------------\")\n",
    "\n",
    "\n",
    "pprint(response_json)\n",
    "\n",
    "\n"
   ]
  },
  {
   "cell_type": "code",
   "execution_count": 103,
   "metadata": {},
   "outputs": [
    {
     "data": {
      "text/html": [
       "<div>\n",
       "<style scoped>\n",
       "    .dataframe tbody tr th:only-of-type {\n",
       "        vertical-align: middle;\n",
       "    }\n",
       "\n",
       "    .dataframe tbody tr th {\n",
       "        vertical-align: top;\n",
       "    }\n",
       "\n",
       "    .dataframe thead th {\n",
       "        text-align: right;\n",
       "    }\n",
       "</style>\n",
       "<table border=\"1\" class=\"dataframe\">\n",
       "  <thead>\n",
       "    <tr style=\"text-align: right;\">\n",
       "      <th></th>\n",
       "      <th>schoolnun</th>\n",
       "      <th>fulladdress</th>\n",
       "      <th>latitude</th>\n",
       "      <th>longitude</th>\n",
       "      <th>icecream</th>\n",
       "      <th>university</th>\n",
       "    </tr>\n",
       "  </thead>\n",
       "  <tbody>\n",
       "    <tr>\n",
       "      <th>0</th>\n",
       "      <td>1902001</td>\n",
       "      <td>17750 N US HWY 287 TENNESSEE COLONY,TX 75861</td>\n",
       "      <td>31.9229638</td>\n",
       "      <td>-95.92387049999999</td>\n",
       "      <td>0</td>\n",
       "      <td>0</td>\n",
       "    </tr>\n",
       "    <tr>\n",
       "      <th>1</th>\n",
       "      <td>1902041</td>\n",
       "      <td>17750 N US HWY 287 TENNESSEE COLONY,TX 75861</td>\n",
       "      <td>31.9229638</td>\n",
       "      <td>-95.92387049999999</td>\n",
       "      <td>0</td>\n",
       "      <td>0</td>\n",
       "    </tr>\n",
       "    <tr>\n",
       "      <th>2</th>\n",
       "      <td>1902103</td>\n",
       "      <td>17750 N US HWY 287 TENNESSEE COLONY,TX 75861</td>\n",
       "      <td>31.9229638</td>\n",
       "      <td>-95.92387049999999</td>\n",
       "      <td>0</td>\n",
       "      <td>0</td>\n",
       "    </tr>\n",
       "    <tr>\n",
       "      <th>3</th>\n",
       "      <td>1903001</td>\n",
       "      <td>9002 S STATE HWY 19 ELKHART,TX 75839-9701</td>\n",
       "      <td>31.6558007</td>\n",
       "      <td>-95.58306929999999</td>\n",
       "      <td>0</td>\n",
       "      <td>1</td>\n",
       "    </tr>\n",
       "    <tr>\n",
       "      <th>4</th>\n",
       "      <td>1903002</td>\n",
       "      <td>420 W PALESTINE AVE PALESTINE,TX 75801</td>\n",
       "      <td>31.7731815</td>\n",
       "      <td>-95.6398186</td>\n",
       "      <td>1</td>\n",
       "      <td>1</td>\n",
       "    </tr>\n",
       "  </tbody>\n",
       "</table>\n",
       "</div>"
      ],
      "text/plain": [
       "  schoolnun                                   fulladdress    latitude  \\\n",
       "0   1902001  17750 N US HWY 287 TENNESSEE COLONY,TX 75861  31.9229638   \n",
       "1   1902041  17750 N US HWY 287 TENNESSEE COLONY,TX 75861  31.9229638   \n",
       "2   1902103  17750 N US HWY 287 TENNESSEE COLONY,TX 75861  31.9229638   \n",
       "3   1903001     9002 S STATE HWY 19 ELKHART,TX 75839-9701  31.6558007   \n",
       "4   1903002        420 W PALESTINE AVE PALESTINE,TX 75801  31.7731815   \n",
       "\n",
       "            longitude  icecream  university  \n",
       "0  -95.92387049999999         0           0  \n",
       "1  -95.92387049999999         0           0  \n",
       "2  -95.92387049999999         0           0  \n",
       "3  -95.58306929999999         0           1  \n",
       "4         -95.6398186         1           1  "
      ]
     },
     "execution_count": 103,
     "metadata": {},
     "output_type": "execute_result"
    }
   ],
   "source": [
    "location_df.head()"
=======
      "The t-statisic is 0.5395615498478216 and the p-value is 0.5950652371165954\n"
     ]
    },
    {
     "data": {
      "image/png": "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\n",
      "text/plain": [
       "<Figure size 432x288 with 1 Axes>"
      ]
     },
     "metadata": {
      "needs_background": "light"
     },
     "output_type": "display_data"
    }
   ],
   "source": [
    "# Define series of % Pass for each quadrant\n",
    "universityno=grade3random_df['% Pass'][grade3random_df['university']==0]\n",
    "universityyes=grade3random_df['% Pass'][grade3random_df['university']== 1]\n",
    "\n",
    "# Define number of schools that are or are not near a university \n",
    "lenno=len(universityno)\n",
    "lenyes=len(universityyes)\n",
    "meanno=universityno.mean()\n",
    "meanyes=universityyes.mean() \n",
    "\n",
    "# Calculate the t-statistic and p-value\n",
    "(t_stat, p) = ttest_ind(universityno, universityyes, equal_var=False)\n",
    "\n",
    "print(f\"The t-statisic is {t_stat} and the p-value is {p}\")\n",
    "\n",
    "# Create the boxplots for each region\n",
    "fig, ax=plt.subplots()\n",
    "\n",
    "plt.boxplot(universityno, positions=[1], patch_artist=True)\n",
    "plt.boxplot(universityyes, positions=[2], patch_artist=True)\n",
    "\n",
    "# Add some labeling and a title\n",
    "plt.title(\"% of Students Passing Based on Proximity to University\")\n",
    "ax.set_xticklabels(['No', 'Yes'])\n",
    "plt.ylim(40,80)\n",
    "plt.xlabel('University within 5 Kilometers')\n",
    "plt.ylabel('% Passing')\n",
<<<<<<< HEAD
    "ax.text(0.6,80,f\"Number of Schools = {lenno}\")\n",
    "ax.text(1.6,80,f\"Number of Schools = {lenyes}\")\n",
    "ax.text(2.05, 5, f\"p-value = {round(p,2)}\")\n",
    "\n"
>>>>>>> 28edb1183c4a57c0d5080db64171a1ab2df3ed80
=======
    "ax.text(0.6,75,f\"Number of Schools = {lenno}\")\n",
    "ax.text(1.6,75,f\"Number of Schools = {lenyes}\")\n",
    "ax.text(0.8, 70, f\"Mean = {round(meanno,2)}\")\n",
    "ax.text(1.8, 70, f\"Mean = {round(meanyes,2)}\")\n",
    "ax.text(2.05, 42, f\"p-value = {round(p,2)}\")\n",
    "\n",
    "plt.savefig('../reports/SchoolsUnivBoxPlot.png')"
>>>>>>> a08b22c7b3b2ac7e7cca60cc787427da214a75f2
   ]
  },
  {
   "cell_type": "code",
   "execution_count": null,
   "metadata": {},
   "outputs": [],
   "source": []
  },
  {
   "cell_type": "code",
   "execution_count": null,
   "metadata": {},
   "outputs": [],
   "source": []
  }
 ],
 "metadata": {
  "kernelspec": {
   "display_name": "Python 3",
   "language": "python",
   "name": "python3"
  },
  "language_info": {
   "codemirror_mode": {
    "name": "ipython",
    "version": 3
   },
   "file_extension": ".py",
   "mimetype": "text/x-python",
   "name": "python",
   "nbconvert_exporter": "python",
   "pygments_lexer": "ipython3",
   "version": "3.7.3"
  }
 },
 "nbformat": 4,
 "nbformat_minor": 2
}
