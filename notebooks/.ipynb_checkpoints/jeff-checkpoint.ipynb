{
 "cells": [
  {
   "cell_type": "markdown",
   "metadata": {},
   "source": [
    "###  This analysis will dig into the school test data a little deeper.  It will narrow the scope by examing only the test results the 3rd grade.  I will examine the data to see if there are any geographical differences in schools having successful math test results.  I will also test the hypothesis that elementary schools that are near universities have higher math test success.  The reasoning here is that parents that have easy access to a university might be better educated and this may in turn result in their children doing better in school."
   ]
  },
  {
   "cell_type": "markdown",
   "metadata": {},
   "source": [
    "### Import dependencies"
   ]
  },
  {
   "cell_type": "code",
<<<<<<< HEAD
   "execution_count": 2,
=======
<<<<<<< HEAD
   "execution_count": 1,
=======
   "execution_count": 3,
>>>>>>> 28edb1183c4a57c0d5080db64171a1ab2df3ed80
>>>>>>> 57db4c1010cebe4644d440687564632792e279ae
   "metadata": {},
   "outputs": [],
   "source": [
    "# Dependencies and Setup\n",
    "import matplotlib.pyplot as plt\n",
    "import pandas as pd\n",
    "import numpy as np\n",
    "import requests\n",
    "import os\n",
    "\n",
    "#Adding datatime dependency to be able to get the current date each time code is run\n",
    "import datetime\n",
    "\n",
    "# Import API key\n",
    "# from api_keys import api_key\n",
    "\n",
    "# Incorporated citipy to determine city based on latitude and longitude\n",
    "from citipy import citipy\n",
    "\n",
    "#Import pprint\n",
    "from pprint import pprint\n",
    "\n",
    "# Google developer API key\n",
    "from config import gkey\n",
    "\n",
    "# import gmaps\n",
    "import gmaps\n",
    "\n",
    "# Access maps with unique API key\n",
<<<<<<< HEAD
    "gmaps.configure(api_key=gkey)"
=======
    "gmaps.configure(api_key=gkey)\n",
    "\n",
    "# Import statistical functions\n",
    "from scipy.stats import sem, ttest_ind"
   ]
  },
  {
   "cell_type": "markdown",
   "metadata": {},
   "source": [
    "### Below I bring in the cleaned up Staar test data by school that Steve created.  I will focus on just Grade 3 to narrow the scope.  This data includes data on the math tests as well as the schools address.   The test data includes the number of students that were below grade level, approached grade level, met grade level and mastered grade level.  I will use this to define those the percentage of students in each schools that passed the math text.\n"
>>>>>>> 28edb1183c4a57c0d5080db64171a1ab2df3ed80
   ]
  },
  {
   "cell_type": "code",
<<<<<<< HEAD
   "execution_count": 2,
   "metadata": {
    "scrolled": true
   },
=======
   "execution_count": 7,
   "metadata": {},
>>>>>>> 28edb1183c4a57c0d5080db64171a1ab2df3ed80
   "outputs": [
    {
     "data": {
      "text/plain": [
<<<<<<< HEAD
       "list"
      ]
     },
     "execution_count": 2,
=======
       "CAMPUS                        4509\n",
       "DNAME                         4509\n",
       "CNAME                         4509\n",
       "GRADE                         4509\n",
       "District Type                 4509\n",
       "School Site Street Address    4509\n",
       "School Site City              4509\n",
       "School Site Zip               4509\n",
       "Below Grade Level             4509\n",
       "Approach Grade Level          4509\n",
       "Meet Grade Level              4509\n",
       "Master Grade Level            4509\n",
       "Full Address                  4509\n",
       "dtype: int64"
      ]
     },
     "execution_count": 7,
>>>>>>> 28edb1183c4a57c0d5080db64171a1ab2df3ed80
     "metadata": {},
     "output_type": "execute_result"
    }
   ],
   "source": [
<<<<<<< HEAD
    "#define path to data containing the address info for each school and read in to a dataframe\n",
    "path_to_file = os.path.join(\"..\" , \"rawdata\" ,\"SchoolDirectory2.csv\")\n",
    "\n",
    "school_desc_df = pd.read_csv(path_to_file)\n",
    "\n",
    "#just keep the fields that will be used\n",
    "school_desc_df=school_desc_df[['School Name','School Number', 'District Type', 'School Site Street Address', 'School Site City', 'School Site State', 'School Site Zip', 'Grade Range']]\n",
    "school_desc_df.head()\n",
    "\n",
    "#the school number was stored with an apostrophe in front (ie. '001902001), so removing the apostrophe and changing to numeric\n",
    "#to get rid of any zeroes stored in front of number\n",
    "school_desc_df['School Number 2']=school_desc_df['School Number'].str[1:]\n",
    "school_desc_df['School Number 2']=school_desc_df['School Number 2'].apply(pd.to_numeric)\n",
    "school_desc_df.head()\n",
    "\n",
    "#Create a list that contains the school number  and a full address that Combines the street address, \n",
    "# school, and zip code into a single field that can be passed to Google geocode\n",
    "fulladdress = []\n",
    "school_desc_df[['School Number', 'School Name', 'School Site Street Address', 'School Site City', 'School Site Zip']].head()\n",
    "\n",
    "# fulladdress=[school_desc_df['School Number 2'], [school_desc_df['School Site Street Address'] + ' ' + school_desc_df['School Site City'] + ',TX ' + school_desc_df['School Site Zip']]]\n",
    "fulladdress=school_desc_df['School Site Street Address'] + ' ' + school_desc_df['School Site City'] + ',TX ' + school_desc_df['School Site Zip']\n",
    "schoolnum=school_desc_df['School Number 2']\n",
    "\n",
    "fulladdress=fulladdress.tolist()\n",
    "schoolnum=schoolnum.tolist()\n",
    "type(fulladdress)"
=======
    "#Import cleaned STAAR data for Grade 3.  \n",
    "\n",
    "grade3all_df = pd.read_csv('../cleandata/AllStudentsGrade3.csv', header=0)\n",
    "\n",
    "# I create a new field which combines street, city, state, and zipcode, which will be used to pass to Google\n",
    "# to retrieve latitude and longitude\n",
    "\n",
    "grade3all_df['Full Address'] = grade3all_df['School Site Street Address'] + ' ' + grade3all_df['School Site City'] + ',TX ' + grade3all_df['School Site Zip']\n",
    "\n",
    "# Examining the data, I found that there were 33 schools that did not have address data, because they were not incuded\n",
    "# in the original school level data file.  It is not clear why these were not included in the file.  In examining the location\n",
    "# of these schools, they appear to be spread across the state, so no obvious relationship between them.  Given the small number\n",
    "# of schools missing the address (25 out of over 4500 schools) and no obvious way of retieving this data, I have removed \n",
    "# these schools from the further analysis.  There were also 33 schools that did not have test score data.  Some of \n",
    "# these were the same schools that did not have address data, while others were not.  Given the small number of schools \n",
    "# and inability of retieving this data, these were removed. There were also some schools that were missing other data,\n",
    "# such as district name (DNAME), but had the data needed for the analysis, so they were left in the analysis.\n",
    "\n",
    "# Check for columns with NaN\n",
    "\n",
    "grade3all_df[grade3all_df.isna().any(axis=1)].count()\n",
    "\n",
    "# Drop rows that have NaN for just the columns of interest\n",
    "\n",
    "grade3all_df=grade3all_df.dropna(subset=['Meet Grade Level','Master Grade Level', 'Full Address'])\n",
    "grade3all_df.count()\n",
    "\n"
   ]
  },
  {
   "cell_type": "markdown",
   "metadata": {},
   "source": [
    "###  This next section passes the school address  to the Google Geocode API to retrieve the latitude and longitude of each school.  The API call takes a long time to run for all schools and incurs cost.  So, I used a small subset to develop my later analysis.  Once I had the analysis finalized, I ran the API call for all schools and output it to a csv file that can be read back in for further analysis.  I then reset the code so it would only look at a small subset and commented out the code that output the data. This way the API call can be tested, without taking a lot of time."
>>>>>>> 28edb1183c4a57c0d5080db64171a1ab2df3ed80
   ]
  },
  {
   "cell_type": "code",
<<<<<<< HEAD
   "execution_count": 3,
   "metadata": {},
   "outputs": [],
   "source": [
    "\n",
    "# create lists to hold latitudes and longitudes\n",
    "lats = []\n",
    "lngs = []\n",
    "\n",
    "#for testing, just use a small subset of the addresses \n",
    "\n",
    "for address in fulladdress[0:5]:\n",
    "    # Build the endpoint URL\n",
=======
   "execution_count": 8,
   "metadata": {},
   "outputs": [
    {
     "name": "stdout",
     "output_type": "stream",
     "text": [
      "Problem with school 15917102 and address 19190 HWY 281 S #3 SAN ANTONIO,TX 78221-9648\n",
      "Problem with school 33902101 and address 106 W 9TH ST PANHANDLE,TX 79068-1030\n",
      "Problem with school 46901109 and address 2620 KLEIN WAY NEW BRAUNFELS,TX 78130\n",
      "Problem with school 97903101 and address 9TH AND CHERRY ST HICO,TX 76457-0218\n",
      "Problem with school 101912100 and address 10550 RICHMOND AVE HOUSTON TX #140 HOUSTON,TX 77042-5112\n",
      "Problem with school 126908101 and address #20 BULLDOG DR VENUS,TX 76084-0364\n",
      "Problem with school 161903105 and address #1 WICKSON RD WACO,TX 76712-7552\n",
      "Problem with school 161919042 and address #1 EAGLE DR EDDY,TX 76524\n",
      "Problem with school 227816005 and address 2124 E ST ELMO RD #A AUSTIN,TX 78744\n",
      "Problem with school 249908001 and address #1 GREYHOUND LN SLIDELL,TX 76267-0069\n"
     ]
    }
   ],
   "source": [
    "\n",
    "# Create columns to hold Latitude and Longitude\n",
    "grade3all_df['Latitude']=''\n",
    "grade3all_df['Longitude']=''\n",
    "\n",
    "# Create a subset for testing. Note that I commented out the line below and ran for the whole\n",
    "# list of schools. I outputed the results to a csv file to use in the analysis below.\n",
    "grade3all_df = grade3all_df[:5]\n",
    "\n",
    "# I have commented out the rest of the code so I wouldn't run the full API call again\n",
    "# Instead, for further analysis, I pull in the csv file that was created.\n",
    "\n",
    "# Iterate over the rows of the dataframe and pass the address to the API and retried latitude and longitude\n",
    "for index, row in grade3all_df.iterrows():\n",
    "    address = grade3all_df.loc[index, 'Full Address']\n",
    "    school = grade3all_df.loc[index, 'CAMPUS']\n",
    "    # Build the endpoint URL, request the data and convert to JSON\n",
>>>>>>> 28edb1183c4a57c0d5080db64171a1ab2df3ed80
    "    target_url = ('https://maps.googleapis.com/maps/api/geocode/json?address={0}&key={1}').format(address, gkey)\n",
    "    \n",
    "    response = requests.get(target_url)\n",
    " \n",
<<<<<<< HEAD
    "    # Convert the response to json\n",
    "    response_json = response.json()\n",
    "\n",
    "    # store lat/long data in variables that are then added to alist\n",
    "    lat = response_json[\"results\"][0][\"geometry\"][\"location\"][\"lat\"]\n",
    "    lats.append(lat)\n",
    "    \n",
    "    lng = response_json[\"results\"][0][\"geometry\"][\"location\"][\"lng\"]\n",
    "    lngs.append(lng)\n",
    "\n",
    "\n",
=======
    "    response_json = response.json()\n",
    "\n",
    "    # Retrieve the lat/long and add to the dataframe\n",
    "    # There seemed to be problems with certain schools that would cause an error\n",
    "    # I included the exception handling to identify problem schools.  \n",
    "    try:\n",
    "        grade3all_df.loc[index,'Latitude'] = response_json[\"results\"][0][\"geometry\"][\"location\"][\"lat\"]\n",
    "        grade3all_df.loc[index,'Longitude'] = response_json[\"results\"][0][\"geometry\"][\"location\"][\"lng\"]\n",
    "    except IndexError:\n",
    "        print(f\"Problem with school {school} and address {address}\")\n",
    "\n",
    "# Output the data with latitude and longitude, so I won't have to run this time consuming API request all the time \n",
    "# Commented this out after running so not to overwrite csv file\n",
    "# grade3all_df.to_csv('../cleandata/grade3_geodata.csv')"
   ]
  },
  {
   "cell_type": "markdown",
   "metadata": {},
   "source": [
    "### The 10 addresses below were identified using exception handling as not working with the API call.  Manual testing of some of these directly in a Google search finds the school, so not sure why they won't work\n",
    "\n",
    "#### Problem with school 15917102 and address 19190 HWY 281 S #3 SAN ANTONIO,TX 78221-9648\n",
    "#### Problem with school 33902101 and address 106 W 9TH ST PANHANDLE,TX 79068-1030\n",
    "#### Problem with school 46901109 and address 2620 KLEIN WAY NEW BRAUNFELS,TX 78130\n",
    "#### Problem with school 97903101 and address 9TH AND CHERRY ST HICO,TX 76457-0218\n",
    "#### Problem with school 101912100 and address 10550 RICHMOND AVE HOUSTON TX #140 HOUSTON,TX 77042-5112\n",
    "#### Problem with school 126908101 and address #20 BULLDOG DR VENUS,TX 76084-0364\n",
    "#### Problem with school 161903105 and address #1 WICKSON RD WACO,TX 76712-7552\n",
    "#### Problem with school 161919042 and address #1 EAGLE DR EDDY,TX 76524\n",
    "#### Problem with school 227816005 and address 2124 E ST ELMO RD #A AUSTIN,TX 78744\n",
    "#### Problem with school 249908001 and address #1 GREYHOUND LN SLIDELL,TX 76267-0069"
   ]
  },
  {
   "cell_type": "markdown",
   "metadata": {},
   "source": [
    "### Here i bring in the csv file that was saved in the cell above, so I won't have to repeat the api call"
   ]
  },
  {
   "cell_type": "code",
   "execution_count": 28,
   "metadata": {},
   "outputs": [],
   "source": [
    "grade3all_df = pd.read_csv('../cleandata/grade3_geodata.csv')\n"
   ]
  },
  {
   "cell_type": "markdown",
   "metadata": {},
   "source": [
    "### Below I define the % Pass as the number of students that met or mastered grade level divided by the total number of students"
   ]
  },
  {
   "cell_type": "code",
   "execution_count": 29,
   "metadata": {},
   "outputs": [],
   "source": [
    "# Define the % passing score as the total that meet or master grade level divided by total students\n",
    "\n",
    "grade3all_df['Total Students'] = grade3all_df['Below Grade Level'] + grade3all_df['Approach Grade Level'] + grade3all_df['Meet Grade Level'] + grade3all_df['Master Grade Level'] \n",
    "grade3all_df[\"% Pass\"] = 100*(grade3all_df['Meet Grade Level'] + grade3all_df['Master Grade Level'])/grade3all_df['Total Students']\n",
>>>>>>> 28edb1183c4a57c0d5080db64171a1ab2df3ed80
    "\n"
   ]
  },
  {
<<<<<<< HEAD
   "cell_type": "code",
   "execution_count": 4,
=======
   "cell_type": "markdown",
   "metadata": {},
   "source": [
    "### In this next section, I will identify the top 25 schools and 25 bottom schools based on the % Pass variable\n",
    "### These are then plotted on a gmap with the top schools colored green and the bottom colored red."
   ]
  },
  {
   "cell_type": "code",
   "execution_count": 12,
>>>>>>> 28edb1183c4a57c0d5080db64171a1ab2df3ed80
   "metadata": {},
   "outputs": [
    {
     "data": {
      "application/vnd.jupyter.widget-view+json": {
<<<<<<< HEAD
       "model_id": "ff4160f6bcc8403184801a4fb78e2127",
=======
       "model_id": "0a5ca075acee45bdbb985640c7e8abe0",
>>>>>>> 28edb1183c4a57c0d5080db64171a1ab2df3ed80
       "version_major": 2,
       "version_minor": 0
      },
      "text/plain": [
       "Figure(layout=FigureLayout(height='420px'))"
      ]
     },
     "metadata": {},
     "output_type": "display_data"
    }
   ],
   "source": [
<<<<<<< HEAD
    "fig=gmaps.figure()\n",
    "\n",
    "fig"
=======
    "# Sort by descending % Pass and then create new datafram with just the top 25 schools\n",
    "grade3all_df=grade3all_df.sort_values(by='% Pass', ascending=False)\n",
    "grade3top_df=grade3all_df[:25]\n",
    "\n",
    "# Now grab the lowest 25 which will be at the bottom of the sorted list\n",
    "grade3bottom_df=grade3all_df[(len(grade3all_df)-25):]\n",
    "\n",
    "\n",
    "# Here I plot the top schools in terms of passing percent on a map\n",
    "\n",
    "fig=gmaps.figure()\n",
    "\n",
    "# Combine list of lats and lngs into list of tuples to create coordinates to be passed to the figure\n",
    "\n",
    "topcoordinates = tuple(zip(grade3top_df['Latitude'], grade3top_df['Longitude']))\n",
    "botcoordinates = tuple(zip(grade3bottom_df['Latitude'], grade3bottom_df['Longitude']))\n",
    "\n",
    "# Create a symbol layers using our coordinates of the top and bottom schools\n",
    "# The top schools will be colored green and the bottom schools will be colored red\n",
    "symbols1 = gmaps.symbol_layer(topcoordinates, fill_color='green', stroke_color='green') \n",
    "symbols2 = gmaps.symbol_layer(botcoordinates, fill_color='red', stroke_color='red') \n",
    "\n",
    "# Add the layers to the map\n",
    "fig.add_layer(symbols1)\n",
    "fig.add_layer(symbols2)\n",
    "\n",
    "# display the figure with the newly added layers\n",
    "fig\n",
    "\n"
   ]
  },
  {
   "cell_type": "markdown",
   "metadata": {},
   "source": [
    "# In the next cell, I define four quadrants of Texas (ie. NW, NE, SW, SE)\n",
    "### These are defined by comparing the latitide/longitude for each school to the geographical center of texas\n"
>>>>>>> 28edb1183c4a57c0d5080db64171a1ab2df3ed80
   ]
  },
  {
   "cell_type": "code",
<<<<<<< HEAD
   "execution_count": 7,
   "metadata": {},
   "outputs": [
    {
     "name": "stdout",
     "output_type": "stream",
     "text": [
      "((31.9229638, -95.92387049999999), (31.9229638, -95.92387049999999), (31.9229638, -95.92387049999999), (31.6558007, -95.58306929999999), (31.7731815, -95.6398186))\n"
     ]
    },
    {
     "data": {
      "application/vnd.jupyter.widget-view+json": {
       "model_id": "ff4160f6bcc8403184801a4fb78e2127",
       "version_major": 2,
       "version_minor": 0
      },
      "text/plain": [
       "Figure(layout=FigureLayout(height='420px'))"
      ]
     },
     "metadata": {},
=======
   "execution_count": 30,
   "metadata": {},
   "outputs": [],
   "source": [
    "#define the latititude and longitude of the geographical center of Texas\n",
    "\n",
    "centerlat=31.3915\n",
    "centerlng=-99.1707\n",
    "\n",
    "# Create column in dataframe to hold the quadrant\n",
    "\n",
    "grade3all_df['Quadrant']=''\n",
    "\n",
    "# Iterate over the rows in the dataframe and used nested if statement to define geographical quadrant\n",
    "# geographical center of Texas\n",
    "\n",
    "for index, row in grade3all_df.iterrows():\n",
    "    if grade3all_df.loc[index,'Latitude'] > centerlat:\n",
    "        if grade3all_df.loc[index,'Longitude'] > centerlng:\n",
    "            grade3all_df.loc[index,'Quadrant']='NE'\n",
    "        else:\n",
    "            grade3all_df.loc[index,'Quadrant']='NW'\n",
    "    else:\n",
    "        if grade3all_df.loc[index,'Longitude'] > centerlng:\n",
    "            grade3all_df.loc[index,'Quadrant']='SE'\n",
    "        else:\n",
    "            grade3all_df.loc[index,'Quadrant']='SW'\n",
    "                \n",
    "               \n",
    "    "
   ]
  },
  {
   "cell_type": "markdown",
   "metadata": {},
   "source": [
    "### In the next cell, I calculate the average % Pass by quadrant"
   ]
  },
  {
   "cell_type": "code",
   "execution_count": 31,
   "metadata": {},
   "outputs": [],
   "source": [
    "# Group by quadrant and calculate average \n",
    "quadrant_grp_df=grade3all_df.groupby(['Quadrant'])\n",
    "\n",
    "avgpass = quadrant_grp_df['% Pass'].mean()\n",
    "\n",
    "# Convert series to dataframe and reset index so quadrant can be used\n",
    "avgpass_df=avgpass.to_frame()\n",
    "avgpass_df=avgpass_df.reset_index()\n"
   ]
  },
  {
   "cell_type": "markdown",
   "metadata": {},
   "source": [
    "### The next cell created a barchart of hte average % Pass by quadrant"
   ]
  },
  {
   "cell_type": "code",
   "execution_count": 32,
   "metadata": {},
   "outputs": [
    {
     "data": {
      "text/plain": [
       "(0, 100)"
      ]
     },
     "execution_count": 32,
     "metadata": {},
     "output_type": "execute_result"
    },
    {
     "data": {
      "image/png": "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\n",
      "text/plain": [
       "<Figure size 432x288 with 1 Axes>"
      ]
     },
     "metadata": {
      "needs_background": "light"
     },
     "output_type": "display_data"
    }
   ],
   "source": [
    "# Define series to by plotted on barchart\n",
    "\n",
    "quadrant=avgpass_df['Quadrant']\n",
    "percpass=avgpass_df['% Pass']\n",
    "\n",
    "# Create bar chart of % Passing by Region\n",
    "\n",
    "fig, ax=plt.subplots()\n",
    "\n",
    "bar=plt.bar(x=quadrant, height=percpass)\n",
    "\n",
    "# Include Title and axis labeling\n",
    "plt.title('Average Percentage of Students Passing by Region')\n",
    "plt.xlabel('Region of Texas')\n",
    "plt.ylabel('% Passing')\n",
    "ax.set_xticks(['NE', 'NW', 'SE', 'SW'])\n",
    "ax.set_xticklabels(['Northeast', 'Northwest','Southeast','Southwest'])\n",
    "plt.ylim(0,100)\n"
   ]
  },
  {
   "cell_type": "markdown",
   "metadata": {},
   "source": [
    "### Now I create boxplot of the distribution of the % Pass by quadrant"
   ]
  },
  {
   "cell_type": "code",
   "execution_count": 33,
   "metadata": {},
   "outputs": [
    {
     "data": {
      "text/plain": [
       "Text(3.6, 80, 'Schools = 138')"
      ]
     },
     "execution_count": 33,
     "metadata": {},
     "output_type": "execute_result"
    },
    {
     "data": {
      "image/png": "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\n",
      "text/plain": [
       "<Figure size 432x288 with 1 Axes>"
      ]
     },
     "metadata": {
      "needs_background": "light"
     },
>>>>>>> 28edb1183c4a57c0d5080db64171a1ab2df3ed80
     "output_type": "display_data"
    }
   ],
   "source": [
<<<<<<< HEAD
    "# Combine list of lats and lngs into list of tuples\n",
    "coordinates=tuple(zip(lats,lngs))\n",
    "\n",
    "print(coordinates)\n",
    "\n",
    "# Create a marker layer using our coordinates\n",
    "markers = gmaps.marker_layer(coordinates)\n",
    "\n",
    "# Add the layer to the map\n",
    "fig.add_layer(markers)\n",
    "\n",
    "# display the figure with the newly added layer\n",
    "fig"
=======
    "\n",
    "# Define series of % Pass for each quadrant\n",
    "northeast=grade3all_df['% Pass'][grade3all_df['Quadrant']=='NE']\n",
    "northwest=grade3all_df['% Pass'][grade3all_df['Quadrant']=='NW']\n",
    "southeast=grade3all_df['% Pass'][grade3all_df['Quadrant']=='SE']\n",
    "southwest=grade3all_df['% Pass'][grade3all_df['Quadrant']=='SW']\n",
    "\n",
    "len_ne=len(northeast)\n",
    "len_nw=len(northwest)\n",
    "len_se=len(southeast)\n",
    "len_sw=len(southwest)\n",
    "\n",
    "# Create the boxplots for each region\n",
    "fig, ax=plt.subplots()\n",
    "\n",
    "plt.boxplot(northeast, positions=[1], patch_artist=True)\n",
    "plt.boxplot(northwest, positions=[2], patch_artist=True)\n",
    "plt.boxplot(southeast, positions=[3], patch_artist=True)\n",
    "plt.boxplot(southwest, positions=[4], patch_artist=True)\n",
    "\n",
    "# Add some labeling and title\n",
    "plt.title(\"Distribution of % of Students Passing in Each Region\")\n",
    "ax.set_xticklabels(['Northeast', 'Northwest','Southeast','Southwest'])\n",
    "plt.ylim(0,100)\n",
    "plt.xlabel('Region of Texas')\n",
    "plt.ylabel('% Passing')\n",
    "ax.text(0.6,80,f\"Schools = {len_ne}\")\n",
    "ax.text(1.6,80,f\"Schools = {len_nw}\")\n",
    "ax.text(2.6,80,f\"Schools = {len_se}\")\n",
    "ax.text(3.6,80,f\"Schools = {len_sw}\")\n"
   ]
  },
  {
   "cell_type": "markdown",
   "metadata": {},
   "source": [
    "### In the next cell, I will use the latitude and longitude of each school and do a Google Places search to identify if there is a university with 5 Kilometers from the school.  The hypothesis is that schools that are near universites may have higher scores, since the children's parents might be more educated."
>>>>>>> 28edb1183c4a57c0d5080db64171a1ab2df3ed80
   ]
  },
  {
   "cell_type": "code",
<<<<<<< HEAD
   "execution_count": 3,
=======
<<<<<<< HEAD
   "execution_count": 96,
   "metadata": {},
   "outputs": [
    {
     "data": {
      "text/html": [
       "<div>\n",
       "<style scoped>\n",
       "    .dataframe tbody tr th:only-of-type {\n",
       "        vertical-align: middle;\n",
       "    }\n",
       "\n",
       "    .dataframe tbody tr th {\n",
       "        vertical-align: top;\n",
       "    }\n",
       "\n",
       "    .dataframe thead th {\n",
       "        text-align: right;\n",
       "    }\n",
       "</style>\n",
       "<table border=\"1\" class=\"dataframe\">\n",
       "  <thead>\n",
       "    <tr style=\"text-align: right;\">\n",
       "      <th></th>\n",
       "      <th>schoolnun</th>\n",
       "      <th>fulladdress</th>\n",
       "      <th>latitude</th>\n",
       "      <th>longitude</th>\n",
       "    </tr>\n",
       "  </thead>\n",
       "  <tbody>\n",
       "    <tr>\n",
       "      <th>0</th>\n",
       "      <td>1902001</td>\n",
       "      <td>17750 N US HWY 287 TENNESSEE COLONY,TX 75861</td>\n",
       "      <td>31.9229638</td>\n",
       "      <td>-95.92387049999999</td>\n",
       "    </tr>\n",
       "    <tr>\n",
       "      <th>1</th>\n",
       "      <td>1902041</td>\n",
       "      <td>17750 N US HWY 287 TENNESSEE COLONY,TX 75861</td>\n",
       "      <td>31.9229638</td>\n",
       "      <td>-95.92387049999999</td>\n",
       "    </tr>\n",
       "    <tr>\n",
       "      <th>2</th>\n",
       "      <td>1902103</td>\n",
       "      <td>17750 N US HWY 287 TENNESSEE COLONY,TX 75861</td>\n",
       "      <td>31.9229638</td>\n",
       "      <td>-95.92387049999999</td>\n",
       "    </tr>\n",
       "    <tr>\n",
       "      <th>3</th>\n",
       "      <td>1903001</td>\n",
       "      <td>9002 S STATE HWY 19 ELKHART,TX 75839-9701</td>\n",
       "      <td>31.6558007</td>\n",
       "      <td>-95.58306929999999</td>\n",
       "    </tr>\n",
       "    <tr>\n",
       "      <th>4</th>\n",
       "      <td>1903002</td>\n",
       "      <td>420 W PALESTINE AVE PALESTINE,TX 75801</td>\n",
       "      <td>31.7731815</td>\n",
       "      <td>-95.6398186</td>\n",
       "    </tr>\n",
       "  </tbody>\n",
       "</table>\n",
       "</div>"
      ],
      "text/plain": [
       "  schoolnun                                   fulladdress    latitude  \\\n",
       "0   1902001  17750 N US HWY 287 TENNESSEE COLONY,TX 75861  31.9229638   \n",
       "1   1902041  17750 N US HWY 287 TENNESSEE COLONY,TX 75861  31.9229638   \n",
       "2   1902103  17750 N US HWY 287 TENNESSEE COLONY,TX 75861  31.9229638   \n",
       "3   1903001     9002 S STATE HWY 19 ELKHART,TX 75839-9701  31.6558007   \n",
       "4   1903002        420 W PALESTINE AVE PALESTINE,TX 75801  31.7731815   \n",
       "\n",
       "            longitude  \n",
       "0  -95.92387049999999  \n",
       "1  -95.92387049999999  \n",
       "2  -95.92387049999999  \n",
       "3  -95.58306929999999  \n",
       "4         -95.6398186  "
      ]
     },
     "execution_count": 96,
=======
   "execution_count": 34,
>>>>>>> 57db4c1010cebe4644d440687564632792e279ae
   "metadata": {},
   "outputs": [
    {
     "ename": "NameError",
     "evalue": "name 'grade3all_df' is not defined",
     "output_type": "error",
     "traceback": [
      "\u001b[1;31m---------------------------------------------------------------------------\u001b[0m",
      "\u001b[1;31mNameError\u001b[0m                                 Traceback (most recent call last)",
      "\u001b[1;32m<ipython-input-3-046400b25ba1>\u001b[0m in \u001b[0;36m<module>\u001b[1;34m\u001b[0m\n\u001b[1;32m----> 1\u001b[1;33m \u001b[0mgrade3_all_df\u001b[0m\u001b[1;33m[\u001b[0m\u001b[1;34m'random'\u001b[0m\u001b[1;33m]\u001b[0m \u001b[1;33m=\u001b[0m \u001b[0mnp\u001b[0m\u001b[1;33m.\u001b[0m\u001b[0mrandom\u001b[0m\u001b[1;33m.\u001b[0m\u001b[0mrandint\u001b[0m\u001b[1;33m(\u001b[0m\u001b[1;36m0\u001b[0m\u001b[1;33m,\u001b[0m\u001b[1;36m5000\u001b[0m\u001b[1;33m,\u001b[0m\u001b[0msize\u001b[0m\u001b[1;33m=\u001b[0m\u001b[1;33m(\u001b[0m\u001b[0mlen\u001b[0m\u001b[1;33m(\u001b[0m\u001b[0mgrade3all_df\u001b[0m\u001b[1;33m)\u001b[0m\u001b[1;33m,\u001b[0m\u001b[1;36m1\u001b[0m\u001b[1;33m)\u001b[0m\u001b[1;33m)\u001b[0m\u001b[1;33m\u001b[0m\u001b[1;33m\u001b[0m\u001b[0m\n\u001b[0m\u001b[0;32m      2\u001b[0m \u001b[1;33m\u001b[0m\u001b[0m\n\u001b[0;32m      3\u001b[0m \u001b[0mgrade3_all_df\u001b[0m\u001b[1;33m.\u001b[0m\u001b[0mhead\u001b[0m\u001b[1;33m(\u001b[0m\u001b[1;33m)\u001b[0m\u001b[1;33m\u001b[0m\u001b[1;33m\u001b[0m\u001b[0m\n\u001b[0;32m      4\u001b[0m \u001b[1;31m# # create subset for testing\u001b[0m\u001b[1;33m\u001b[0m\u001b[1;33m\u001b[0m\u001b[1;33m\u001b[0m\u001b[0m\n\u001b[0;32m      5\u001b[0m \u001b[1;31m# grade3all_df=grade3all_df[:5]\u001b[0m\u001b[1;33m\u001b[0m\u001b[1;33m\u001b[0m\u001b[1;33m\u001b[0m\u001b[0m\n",
      "\u001b[1;31mNameError\u001b[0m: name 'grade3all_df' is not defined"
     ]
<<<<<<< HEAD
    }
   ],
   "source": [
    "grade3_all_df['random'] = np.random.randint(0,5000,size=(len(grade3all_df),1))\n",
=======
    },
    {
     "data": {
      "text/plain": [
       "25"
      ]
     },
     "execution_count": 34,
>>>>>>> 28edb1183c4a57c0d5080db64171a1ab2df3ed80
     "metadata": {},
     "output_type": "execute_result"
    }
   ],
   "source": [
<<<<<<< HEAD
    "# create a data frame with schoolnum, full address at latitude and longitue\n",
    "# use a subset of the data to start with to test code\n",
    "schoolnumshort=schoolnum[0:5]\n",
    "fulladdressshort=fulladdress[0:5]\n",
    "\n",
    "location_df=pd.DataFrame(np.column_stack([schoolnumshort, fulladdressshort, lats, lngs]), \n",
    "                        columns=['schoolnun', 'fulladdress', 'latitude', 'longitude'])\n",
    "\n",
    "location_df.head()\n",
    "\n"
=======
    "#add columns to hold the results of a search for nearby universities\n",
>>>>>>> 57db4c1010cebe4644d440687564632792e279ae
    "\n",
    "grade3_all_df.head()\n",
    "# # create subset for testing\n",
    "# grade3all_df=grade3all_df[:5]\n",
    "\n",
    "# #add column to hold the results of a search for nearby universities\n",
    "# grade3all_df['university'] = 0\n",
    "\n",
    "# # define base url for goodle maps\n",
    "# base_url = \"https://maps.googleapis.com/maps/api/place/nearbysearch/json\"\n",
    "\n",
    "# # Iterate over rows in dataframe\n",
    "# for index, row in grade3all_df.iterrows():\n",
    "\n",
    "#     # define parameters for request\n",
    "    \n",
    "#     # Define location string that holds cooridinates of school to be passed to google maps\n",
    "#     location = str(grade3all_df.loc[index, 'Latitude']) + ',' + str(grade3all_df.loc[index,'Longitude'])\n",
    "#     target_radius2=5000\n",
    "#     type2='university'\n",
    "   \n",
    "#     params1 = {\n",
    "#     \"location\": location,\n",
    "#     \"type\": type2,\n",
    "#     \"radius\" : target_radius2,\n",
    "#     \"key\": gkey,\n",
    "#     }\n",
    "        \n",
    "#     response = requests.get(base_url, params=params1)\n",
    "\n",
    "#     response_json=response.json()\n",
    "    \n",
    "#     # Check the status of the resonse.  If OK, it means that it found a university in the area\n",
    "#     # and the university column is changed to 1\n",
    "    \n",
    "#     univstatus=response_json['status']\n",
    "#     if univstatus == \"OK\":\n",
    "#         grade3all_df.loc[index, 'university'] = 1    \n",
    "        \n",
    "    \n",
<<<<<<< HEAD
    "# grade3all_df.to_csv('../cleandata/grade3_univdata.csv')\n",
    "# len(grade3all_df)"
=======
    "grade3all_df.to_csv('../cleandata/grade3_univdata.csv')\n",
    "len(grade3all_df)"
>>>>>>> 28edb1183c4a57c0d5080db64171a1ab2df3ed80
>>>>>>> 57db4c1010cebe4644d440687564632792e279ae
   ]
  },
  {
   "cell_type": "code",
<<<<<<< HEAD
   "execution_count": null,
   "metadata": {},
   "outputs": [],
   "source": []
  },
  {
   "cell_type": "code",
   "execution_count": 102,
=======
   "execution_count": 35,
   "metadata": {},
   "outputs": [
    {
     "data": {
      "text/plain": [
       "25"
      ]
     },
     "execution_count": 35,
     "metadata": {},
     "output_type": "execute_result"
    }
   ],
   "source": [
    "# Read the saved data back in\n",
    "grade3all_df=pd.read_csv('../cleandata/grade3_univdata.csv')\n",
    "len(grade3all_df)"
   ]
  },
  {
   "cell_type": "markdown",
   "metadata": {},
   "source": [
    "### In the next cell, I create a boxplot of the distribtion of % Pass for schools that are not near a university and schools that are near a university"
   ]
  },
  {
   "cell_type": "code",
   "execution_count": 36,
>>>>>>> 28edb1183c4a57c0d5080db64171a1ab2df3ed80
   "metadata": {},
   "outputs": [
    {
     "name": "stdout",
     "output_type": "stream",
     "text": [
<<<<<<< HEAD
      "{'html_attributions': [],\n",
      " 'results': [{'geometry': {'location': {'lat': 31.7465031, 'lng': -95.6174582},\n",
      "                           'viewport': {'northeast': {'lat': 31.7477105302915,\n",
      "                                                      'lng': -95.6163372197085},\n",
      "                                        'southwest': {'lat': 31.7450125697085,\n",
      "                                                      'lng': -95.6190351802915}}},\n",
      "              'icon': 'https://maps.gstatic.com/mapfiles/place_api/icons/school-71.png',\n",
      "              'id': 'bb12a091882d3a55c6f872d27fe07aff015a3ed0',\n",
      "              'name': 'Christian Heritage Academy',\n",
      "              'place_id': 'ChIJ2wwdYkRkSIYRvWBUnbONfZI',\n",
      "              'plus_code': {'compound_code': 'P9WM+J2 Palestine, Texas, United '\n",
      "                                             'States',\n",
      "                            'global_code': '8636P9WM+J2'},\n",
      "              'rating': 4.2,\n",
      "              'reference': 'ChIJ2wwdYkRkSIYRvWBUnbONfZI',\n",
      "              'scope': 'GOOGLE',\n",
      "              'types': ['university', 'point_of_interest', 'establishment'],\n",
      "              'user_ratings_total': 6,\n",
      "              'vicinity': '1500 Crockett Road, Palestine'},\n",
      "             {'geometry': {'location': {'lat': 31.7964956,\n",
      "                                        'lng': -95.67622399999999},\n",
      "                           'viewport': {'northeast': {'lat': 31.7978444302915,\n",
      "                                                      'lng': -95.67487636970849},\n",
      "                                        'southwest': {'lat': 31.7951464697085,\n",
      "                                                      'lng': -95.67757433029149}}},\n",
      "              'icon': 'https://maps.gstatic.com/mapfiles/place_api/icons/school-71.png',\n",
      "              'id': '7f83ff77331abae7cb0171d19329235eaff0f6b6',\n",
      "              'name': 'Trinity Valley Community College',\n",
      "              'place_id': 'ChIJCRzARlZkSIYRUrBZUU6at2U',\n",
      "              'plus_code': {'compound_code': 'Q8WF+HG Palestine, Texas, United '\n",
      "                                             'States',\n",
      "                            'global_code': '8636Q8WF+HG'},\n",
      "              'rating': 3.8,\n",
      "              'reference': 'ChIJCRzARlZkSIYRUrBZUU6at2U',\n",
      "              'scope': 'GOOGLE',\n",
      "              'types': ['university', 'point_of_interest', 'establishment'],\n",
      "              'user_ratings_total': 4,\n",
      "              'vicinity': '2970 Texas 19, Palestine'},\n",
      "             {'geometry': {'location': {'lat': 31.7958905,\n",
      "                                        'lng': -95.67639410000001},\n",
      "                           'viewport': {'northeast': {'lat': 31.7972483302915,\n",
      "                                                      'lng': -95.6749295697085},\n",
      "                                        'southwest': {'lat': 31.7945503697085,\n",
      "                                                      'lng': -95.67762753029152}}},\n",
      "              'icon': 'https://maps.gstatic.com/mapfiles/place_api/icons/school-71.png',\n",
      "              'id': 'efd42d930bc9987cab2f2e2083bbc845ca213157',\n",
      "              'name': 'Anderson College Center',\n",
      "              'place_id': 'ChIJM3xncW1hSIYRDYlfwyM8FKU',\n",
      "              'plus_code': {'compound_code': 'Q8WF+9C Palestine, Texas, United '\n",
      "                                             'States',\n",
      "                            'global_code': '8636Q8WF+9C'},\n",
      "              'reference': 'ChIJM3xncW1hSIYRDYlfwyM8FKU',\n",
      "              'scope': 'GOOGLE',\n",
      "              'types': ['university', 'point_of_interest', 'establishment'],\n",
      "              'vicinity': '2970 Texas 19, Palestine'}],\n",
      " 'status': 'OK'}\n"
     ]
    }
   ],
   "source": [
    "#add columns to hold the results of a search for nearby ice cream shops and nearby universities\n",
    "\n",
    "location_df['icecream']=0\n",
    "location_df['university']=0\n",
    "\n",
    "# base url\n",
    "base_url = \"https://maps.googleapis.com/maps/api/place/nearbysearch/json\"\n",
    "\n",
    "for index, row in location_df.iterrows():\n",
    "    location=location_df.loc[index, 'latitude'] + ',' + location_df.loc[index,'longitude']\n",
    "    \n",
    "    # Search to see if there are any places that serve ice cream near each school    \n",
    "    target_radius=1000\n",
    "    type1='restaurant'\n",
    "    keyword1='ice cream'\n",
    "    \n",
    "    params1 = {\n",
    "    \"location\": location,\n",
    "    \"type\": type1,\n",
    "    \"radius\" : target_radius,\n",
    "    \"keyword\" : keyword1,\n",
    "    \"key\": gkey,\n",
    "    }\n",
    "        \n",
    "    response = requests.get(base_url, params=params1)\n",
    "\n",
    "    response_json=response.json()\n",
    "    icecreamstatus=response_json['status']\n",
    "\n",
    "    if icecreamstatus == \"OK\":\n",
    "        location_df.loc[index, 'icecream'] = 1\n",
    "        \n",
    "    # Search to see if there is a university near each school    \n",
    "    target_radius2=5000\n",
    "    type2='university'\n",
    "    \n",
    "    params1 = {\n",
    "    \"location\": location,\n",
    "    \"type\": type2,\n",
    "    \"radius\" : target_radius2,\n",
    "    \"key\": gkey,\n",
    "    }\n",
    "        \n",
    "    response = requests.get(base_url, params=params1)\n",
    "\n",
    "    response_json=response.json()\n",
    "    univstatus=response_json['status']\n",
    "\n",
    "    if univstatus == \"OK\":\n",
    "        location_df.loc[index, 'university'] = 1    \n",
    "        \n",
    "    \n",
    "    \n",
    "    \n",
    "#     # extract results\n",
    "#     results = response['results']\n",
    "    \n",
    "#     # Use exception handling in case any of our restaurants' attributes are missing\n",
    "#     # NOTE: if our code hits a KeyError or IndexError on ANY of the lines of code below, it will skip any unexecuted code and move to the next iteration\n",
    "#     try:\n",
    "#         print(f\"Closest {restr_type} restaurant is {results[0]['name']}.\")\n",
    "        \n",
    "#         types_df.loc[index, 'name'] = results[0]['name']\n",
    "#         types_df.loc[index, 'address'] = results[0]['vicinity']\n",
    "#         types_df.loc[index, 'price_level'] = results[0]['price_level']\n",
    "#         types_df.loc[index, 'rating'] = results[0]['rating']\n",
    "        \n",
    "#     except (KeyError, IndexError):\n",
    "#         print(\"Missing field/result... skipping.\")\n",
    "        \n",
    "#     print(\"------------\")\n",
    "\n",
    "\n",
    "pprint(response_json)\n",
    "\n",
    "\n"
   ]
  },
  {
   "cell_type": "code",
   "execution_count": 103,
   "metadata": {},
   "outputs": [
    {
     "data": {
      "text/html": [
       "<div>\n",
       "<style scoped>\n",
       "    .dataframe tbody tr th:only-of-type {\n",
       "        vertical-align: middle;\n",
       "    }\n",
       "\n",
       "    .dataframe tbody tr th {\n",
       "        vertical-align: top;\n",
       "    }\n",
       "\n",
       "    .dataframe thead th {\n",
       "        text-align: right;\n",
       "    }\n",
       "</style>\n",
       "<table border=\"1\" class=\"dataframe\">\n",
       "  <thead>\n",
       "    <tr style=\"text-align: right;\">\n",
       "      <th></th>\n",
       "      <th>schoolnun</th>\n",
       "      <th>fulladdress</th>\n",
       "      <th>latitude</th>\n",
       "      <th>longitude</th>\n",
       "      <th>icecream</th>\n",
       "      <th>university</th>\n",
       "    </tr>\n",
       "  </thead>\n",
       "  <tbody>\n",
       "    <tr>\n",
       "      <th>0</th>\n",
       "      <td>1902001</td>\n",
       "      <td>17750 N US HWY 287 TENNESSEE COLONY,TX 75861</td>\n",
       "      <td>31.9229638</td>\n",
       "      <td>-95.92387049999999</td>\n",
       "      <td>0</td>\n",
       "      <td>0</td>\n",
       "    </tr>\n",
       "    <tr>\n",
       "      <th>1</th>\n",
       "      <td>1902041</td>\n",
       "      <td>17750 N US HWY 287 TENNESSEE COLONY,TX 75861</td>\n",
       "      <td>31.9229638</td>\n",
       "      <td>-95.92387049999999</td>\n",
       "      <td>0</td>\n",
       "      <td>0</td>\n",
       "    </tr>\n",
       "    <tr>\n",
       "      <th>2</th>\n",
       "      <td>1902103</td>\n",
       "      <td>17750 N US HWY 287 TENNESSEE COLONY,TX 75861</td>\n",
       "      <td>31.9229638</td>\n",
       "      <td>-95.92387049999999</td>\n",
       "      <td>0</td>\n",
       "      <td>0</td>\n",
       "    </tr>\n",
       "    <tr>\n",
       "      <th>3</th>\n",
       "      <td>1903001</td>\n",
       "      <td>9002 S STATE HWY 19 ELKHART,TX 75839-9701</td>\n",
       "      <td>31.6558007</td>\n",
       "      <td>-95.58306929999999</td>\n",
       "      <td>0</td>\n",
       "      <td>1</td>\n",
       "    </tr>\n",
       "    <tr>\n",
       "      <th>4</th>\n",
       "      <td>1903002</td>\n",
       "      <td>420 W PALESTINE AVE PALESTINE,TX 75801</td>\n",
       "      <td>31.7731815</td>\n",
       "      <td>-95.6398186</td>\n",
       "      <td>1</td>\n",
       "      <td>1</td>\n",
       "    </tr>\n",
       "  </tbody>\n",
       "</table>\n",
       "</div>"
      ],
      "text/plain": [
       "  schoolnun                                   fulladdress    latitude  \\\n",
       "0   1902001  17750 N US HWY 287 TENNESSEE COLONY,TX 75861  31.9229638   \n",
       "1   1902041  17750 N US HWY 287 TENNESSEE COLONY,TX 75861  31.9229638   \n",
       "2   1902103  17750 N US HWY 287 TENNESSEE COLONY,TX 75861  31.9229638   \n",
       "3   1903001     9002 S STATE HWY 19 ELKHART,TX 75839-9701  31.6558007   \n",
       "4   1903002        420 W PALESTINE AVE PALESTINE,TX 75801  31.7731815   \n",
       "\n",
       "            longitude  icecream  university  \n",
       "0  -95.92387049999999         0           0  \n",
       "1  -95.92387049999999         0           0  \n",
       "2  -95.92387049999999         0           0  \n",
       "3  -95.58306929999999         0           1  \n",
       "4         -95.6398186         1           1  "
      ]
     },
     "execution_count": 103,
     "metadata": {},
     "output_type": "execute_result"
    }
   ],
   "source": [
    "location_df.head()"
=======
      "The t-statisic is 0.5395615498478216 and the p-value is 0.5950652371165954\n"
     ]
    },
    {
     "data": {
      "text/plain": [
       "Text(2.05, 5, 'p-value = 0.6')"
      ]
     },
     "execution_count": 36,
     "metadata": {},
     "output_type": "execute_result"
    },
    {
     "data": {
      "image/png": "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\n",
      "text/plain": [
       "<Figure size 432x288 with 1 Axes>"
      ]
     },
     "metadata": {
      "needs_background": "light"
     },
     "output_type": "display_data"
    }
   ],
   "source": [
    "# Define series of % Pass for each quadrant\n",
    "universityno=grade3all_df['% Pass'][grade3all_df['university']==0]\n",
    "universityyes=grade3all_df['% Pass'][grade3all_df['university']== 1]\n",
    "\n",
    "# Define number of schools that are or are not near a university \n",
    "lenno=len(universityno)\n",
    "lenyes=len(universityyes)\n",
    "\n",
    "# Calculate the t-statistic and p-value\n",
    "(t_stat, p) = ttest_ind(universityno, universityyes, equal_var=False)\n",
    "\n",
    "print(f\"The t-statisic is {t_stat} and the p-value is {p}\")\n",
    "\n",
    "# Create the boxplots for each region\n",
    "fig, ax=plt.subplots()\n",
    "\n",
    "plt.boxplot(universityno, positions=[1], patch_artist=True)\n",
    "plt.boxplot(universityyes, positions=[2], patch_artist=True)\n",
    "\n",
    "# Add some labeling and a title\n",
    "plt.title(\"% of Students Passing Based on Proximity to University\")\n",
    "ax.set_xticklabels(['No', 'Yes'])\n",
    "plt.ylim(0,100)\n",
    "plt.xlabel('University within 5 Kilometers')\n",
    "plt.ylabel('% Passing')\n",
    "ax.text(0.6,80,f\"Number of Schools = {lenno}\")\n",
    "ax.text(1.6,80,f\"Number of Schools = {lenyes}\")\n",
    "ax.text(2.05, 5, f\"p-value = {round(p,2)}\")\n",
    "\n"
>>>>>>> 28edb1183c4a57c0d5080db64171a1ab2df3ed80
   ]
  },
  {
   "cell_type": "code",
   "execution_count": null,
   "metadata": {},
   "outputs": [],
   "source": []
  },
  {
   "cell_type": "code",
   "execution_count": null,
   "metadata": {},
   "outputs": [],
   "source": []
  }
 ],
 "metadata": {
  "kernelspec": {
   "display_name": "Python 3",
   "language": "python",
   "name": "python3"
  },
  "language_info": {
   "codemirror_mode": {
    "name": "ipython",
    "version": 3
   },
   "file_extension": ".py",
   "mimetype": "text/x-python",
   "name": "python",
   "nbconvert_exporter": "python",
   "pygments_lexer": "ipython3",
   "version": "3.7.3"
  }
 },
 "nbformat": 4,
 "nbformat_minor": 2
}
