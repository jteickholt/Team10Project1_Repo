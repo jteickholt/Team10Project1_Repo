{
 "cells": [
  {
   "cell_type": "code",
   "execution_count": 1,
   "metadata": {},
   "outputs": [],
   "source": [
    "# Dependencies and Setup\n",
    "import matplotlib.pyplot as plt\n",
    "import pandas as pd\n",
    "import numpy as np\n",
    "import requests\n",
    "import os\n",
    "\n",
    "#Adding datatime dependency to be able to get the current date each time code is run\n",
    "import datetime\n",
    "\n",
    "# Import API key\n",
    "# from api_keys import api_key\n",
    "\n",
    "# Incorporated citipy to determine city based on latitude and longitude\n",
    "from citipy import citipy\n",
    "\n",
    "#Import pprint\n",
    "from pprint import pprint\n"
   ]
  },
  {
   "cell_type": "code",
   "execution_count": 23,
   "metadata": {},
   "outputs": [
    {
     "name": "stdout",
     "output_type": "stream",
     "text": [
      "<class 'pandas.core.frame.DataFrame'>\n",
      "RangeIndex: 9500 entries, 0 to 9499\n",
      "Data columns (total 34 columns):\n",
      "County Number                         9500 non-null object\n",
      "County Name                           9500 non-null object\n",
      "Region Number                         9500 non-null object\n",
      "District Number                       9500 non-null object\n",
      "District Name                         9500 non-null object\n",
      "District Type                         9500 non-null object\n",
      "District Street Address               9500 non-null object\n",
      "District City                         9500 non-null object\n",
      "District State                        9500 non-null object\n",
      "District Zip                          9500 non-null object\n",
      "District Phone                        9500 non-null object\n",
      "District Fax                          9500 non-null object\n",
      "District Email Address                9500 non-null object\n",
      "District Web Page Address             9491 non-null object\n",
      "District Superintendent               9500 non-null object\n",
      "District Enrollment as of Oct 2018    9500 non-null int64\n",
      "School Number                         9500 non-null object\n",
      "School Name                           9500 non-null object\n",
      "Instruction Type                      9500 non-null object\n",
      "Charter Type                          927 non-null object\n",
      "School Street Address                 9500 non-null object\n",
      "School City                           9500 non-null object\n",
      "School State                          9500 non-null object\n",
      "School Zip                            9500 non-null object\n",
      "School Phone                          9500 non-null object\n",
      "School Fax                            9500 non-null object\n",
      "School Email Address                  9229 non-null object\n",
      "School Web Page Address               6567 non-null object\n",
      "School Principal                      9500 non-null object\n",
      "Grade Range                           9500 non-null object\n",
      "School Enrollment as of Oct 2018      9500 non-null int64\n",
      "School Status                         9500 non-null object\n",
      "School Status Date                    9500 non-null object\n",
      "Update Date                           9500 non-null object\n",
      "dtypes: int64(2), object(32)\n",
      "memory usage: 2.5+ MB\n"
     ]
    }
   ],
   "source": [
    "path_to_file = os.path.join(\"..\" , \"rawdata\"  ,\"SchoolDirectory.csv\")\n",
    "school_desc_df = pd.read_csv(path_to_file)\n",
    "\n",
    "school_desc_df.info()"
   ]
  },
  {
   "cell_type": "code",
   "execution_count": 22,
   "metadata": {},
   "outputs": [
    {
     "data": {
      "text/plain": [
       "District Type\n",
       "CHARTER         808\n",
       "COMMON            8\n",
       "INDEPENDENT    8677\n",
       "TJJD              5\n",
       "TSD/TSBVI         2\n",
       "Name: District Type, dtype: int64"
      ]
     },
     "execution_count": 22,
     "metadata": {},
     "output_type": "execute_result"
    }
   ],
   "source": [
    "school_desc_df.head()\n",
    "school_desc_df_grp=school_desc_df.groupby('District Type')\n",
    "\n",
    "school_desc_df_grp['District Type'].count()"
   ]
  },
  {
   "cell_type": "code",
   "execution_count": null,
   "metadata": {},
   "outputs": [],
   "source": []
  }
 ],
 "metadata": {
  "kernelspec": {
   "display_name": "Python 3",
   "language": "python",
   "name": "python3"
  },
  "language_info": {
   "codemirror_mode": {
    "name": "ipython",
    "version": 3
   },
   "file_extension": ".py",
   "mimetype": "text/x-python",
   "name": "python",
   "nbconvert_exporter": "python",
   "pygments_lexer": "ipython3",
   "version": "3.7.3"
  }
 },
 "nbformat": 4,
 "nbformat_minor": 2
}
